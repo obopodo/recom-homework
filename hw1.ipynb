{
 "cells": [
  {
   "cell_type": "markdown",
   "id": "4855a1ab",
   "metadata": {},
   "source": [
    "# Homework\n",
    "\n",
    "1) Изучить соревнование, просмотреть все данные\n",
    "\n",
    "2) Провалидировать и засабмитить следующие модели в виде классов с `fit/recommend`:\n",
    "- popular\n",
    "- popular covered by n% of unique users\n",
    "- PopularInCategoryModel на user features\n",
    "- PopularInCategoryModel на item features\n",
    "\n",
    "2.1) За дополнительную оценку можно реализовать что-то из списка (в простом виде):\n",
    "  - SLIM\n",
    "  - Frequent pattern mining\n",
    "  - Markov chains\n",
    "  \n",
    "3) Итоговый список артефактов в репозитории:\n",
    "- описание virtualenv\n",
    "- скрипты или ipynb с обучением моделей и подбором гиперпараметров\n",
    "- визуализация результатов оффлайн валидации\n",
    "- сравнение некоторых результатов оффлайн владиации с итоговым скором на лидерборде"
   ]
  },
  {
   "cell_type": "code",
   "execution_count": 1,
   "id": "5a1e6d61-f863-467c-bebc-4216d0215ea1",
   "metadata": {},
   "outputs": [],
   "source": [
    "# turn off bad autocompleter\n",
    "%config Completer.use_jedi = False\n",
    "# magic for modules reloading \n",
    "%load_ext autoreload\n",
    "%autoreload 2"
   ]
  },
  {
   "cell_type": "code",
   "execution_count": 2,
   "id": "ceab0c7b-6c70-4c20-86e0-f6c5cfd8f941",
   "metadata": {},
   "outputs": [],
   "source": [
    "import pandas as pd\n",
    "import numpy as np\n",
    "\n",
    "from copy import deepcopy\n",
    "from tqdm.auto import tqdm\n",
    "# from scipy.stats import mode\n",
    "from pprint import pprint\n",
    "import seaborn as sns\n",
    "import matplotlib.pyplot as plt\n",
    "import gc\n",
    "# import warnings\n",
    "# warnings.filterwarnings(\"ignore\")\n",
    "\n",
    "from rectools import Columns\n",
    "from rectools.dataset import Dataset, Interactions"
   ]
  },
  {
   "cell_type": "markdown",
   "id": "fb9bcab2-d819-4844-81a2-ecc9bffd2558",
   "metadata": {
    "tags": []
   },
   "source": [
    "# Load data"
   ]
  },
  {
   "cell_type": "code",
   "execution_count": 3,
   "id": "b9267f95-4359-4a6d-a92b-a01d704a0d14",
   "metadata": {},
   "outputs": [],
   "source": [
    "interactions = pd.read_csv('data_full/interactions.csv')\n",
    "users = pd.read_csv('data_full/users.csv')\n",
    "items = pd.read_csv('data_full/items.csv')"
   ]
  },
  {
   "cell_type": "markdown",
   "id": "2d37a2d1-1182-4fe7-820c-0e6a6730fb3b",
   "metadata": {},
   "source": [
    "## Interactions"
   ]
  },
  {
   "cell_type": "code",
   "execution_count": 4,
   "id": "a14c3694-2caa-47f5-adc4-34b3840d663d",
   "metadata": {},
   "outputs": [
    {
     "data": {
      "text/html": [
       "<div>\n",
       "<style scoped>\n",
       "    .dataframe tbody tr th:only-of-type {\n",
       "        vertical-align: middle;\n",
       "    }\n",
       "\n",
       "    .dataframe tbody tr th {\n",
       "        vertical-align: top;\n",
       "    }\n",
       "\n",
       "    .dataframe thead th {\n",
       "        text-align: right;\n",
       "    }\n",
       "</style>\n",
       "<table border=\"1\" class=\"dataframe\">\n",
       "  <thead>\n",
       "    <tr style=\"text-align: right;\">\n",
       "      <th></th>\n",
       "      <th>user_id</th>\n",
       "      <th>item_id</th>\n",
       "      <th>last_watch_dt</th>\n",
       "      <th>total_dur</th>\n",
       "      <th>watched_pct</th>\n",
       "    </tr>\n",
       "  </thead>\n",
       "  <tbody>\n",
       "    <tr>\n",
       "      <th>0</th>\n",
       "      <td>176549</td>\n",
       "      <td>9506</td>\n",
       "      <td>2021-05-11</td>\n",
       "      <td>4250</td>\n",
       "      <td>72.0</td>\n",
       "    </tr>\n",
       "    <tr>\n",
       "      <th>1</th>\n",
       "      <td>699317</td>\n",
       "      <td>1659</td>\n",
       "      <td>2021-05-29</td>\n",
       "      <td>8317</td>\n",
       "      <td>100.0</td>\n",
       "    </tr>\n",
       "    <tr>\n",
       "      <th>2</th>\n",
       "      <td>656683</td>\n",
       "      <td>7107</td>\n",
       "      <td>2021-05-09</td>\n",
       "      <td>10</td>\n",
       "      <td>0.0</td>\n",
       "    </tr>\n",
       "    <tr>\n",
       "      <th>3</th>\n",
       "      <td>864613</td>\n",
       "      <td>7638</td>\n",
       "      <td>2021-07-05</td>\n",
       "      <td>14483</td>\n",
       "      <td>100.0</td>\n",
       "    </tr>\n",
       "    <tr>\n",
       "      <th>4</th>\n",
       "      <td>964868</td>\n",
       "      <td>9506</td>\n",
       "      <td>2021-04-30</td>\n",
       "      <td>6725</td>\n",
       "      <td>100.0</td>\n",
       "    </tr>\n",
       "    <tr>\n",
       "      <th>...</th>\n",
       "      <td>...</td>\n",
       "      <td>...</td>\n",
       "      <td>...</td>\n",
       "      <td>...</td>\n",
       "      <td>...</td>\n",
       "    </tr>\n",
       "    <tr>\n",
       "      <th>5476246</th>\n",
       "      <td>648596</td>\n",
       "      <td>12225</td>\n",
       "      <td>2021-08-13</td>\n",
       "      <td>76</td>\n",
       "      <td>0.0</td>\n",
       "    </tr>\n",
       "    <tr>\n",
       "      <th>5476247</th>\n",
       "      <td>546862</td>\n",
       "      <td>9673</td>\n",
       "      <td>2021-04-13</td>\n",
       "      <td>2308</td>\n",
       "      <td>49.0</td>\n",
       "    </tr>\n",
       "    <tr>\n",
       "      <th>5476248</th>\n",
       "      <td>697262</td>\n",
       "      <td>15297</td>\n",
       "      <td>2021-08-20</td>\n",
       "      <td>18307</td>\n",
       "      <td>63.0</td>\n",
       "    </tr>\n",
       "    <tr>\n",
       "      <th>5476249</th>\n",
       "      <td>384202</td>\n",
       "      <td>16197</td>\n",
       "      <td>2021-04-19</td>\n",
       "      <td>6203</td>\n",
       "      <td>100.0</td>\n",
       "    </tr>\n",
       "    <tr>\n",
       "      <th>5476250</th>\n",
       "      <td>319709</td>\n",
       "      <td>4436</td>\n",
       "      <td>2021-08-15</td>\n",
       "      <td>3921</td>\n",
       "      <td>45.0</td>\n",
       "    </tr>\n",
       "  </tbody>\n",
       "</table>\n",
       "<p>5476251 rows × 5 columns</p>\n",
       "</div>"
      ],
      "text/plain": [
       "         user_id  item_id last_watch_dt  total_dur  watched_pct\n",
       "0         176549     9506    2021-05-11       4250         72.0\n",
       "1         699317     1659    2021-05-29       8317        100.0\n",
       "2         656683     7107    2021-05-09         10          0.0\n",
       "3         864613     7638    2021-07-05      14483        100.0\n",
       "4         964868     9506    2021-04-30       6725        100.0\n",
       "...          ...      ...           ...        ...          ...\n",
       "5476246   648596    12225    2021-08-13         76          0.0\n",
       "5476247   546862     9673    2021-04-13       2308         49.0\n",
       "5476248   697262    15297    2021-08-20      18307         63.0\n",
       "5476249   384202    16197    2021-04-19       6203        100.0\n",
       "5476250   319709     4436    2021-08-15       3921         45.0\n",
       "\n",
       "[5476251 rows x 5 columns]"
      ]
     },
     "execution_count": 4,
     "metadata": {},
     "output_type": "execute_result"
    }
   ],
   "source": [
    "interactions"
   ]
  },
  {
   "cell_type": "code",
   "execution_count": 5,
   "id": "4218e162-66ef-46d0-9201-acb3d1c01d69",
   "metadata": {},
   "outputs": [],
   "source": [
    "interactions = interactions.rename(columns = {\n",
    "    'last_watch_dt': Columns.Datetime,\n",
    "    'total_dur': Columns.Weight,\n",
    "})"
   ]
  },
  {
   "cell_type": "code",
   "execution_count": 6,
   "id": "363928ed-77c4-45ed-bf2b-5f39f35babea",
   "metadata": {},
   "outputs": [
    {
     "name": "stdout",
     "output_type": "stream",
     "text": [
      "<class 'pandas.core.frame.DataFrame'>\n",
      "RangeIndex: 5476251 entries, 0 to 5476250\n",
      "Data columns (total 5 columns):\n",
      " #   Column       Dtype  \n",
      "---  ------       -----  \n",
      " 0   user_id      int64  \n",
      " 1   item_id      int64  \n",
      " 2   datetime     object \n",
      " 3   weight       int64  \n",
      " 4   watched_pct  float64\n",
      "dtypes: float64(1), int64(3), object(1)\n",
      "memory usage: 208.9+ MB\n"
     ]
    }
   ],
   "source": [
    "interactions.info()"
   ]
  },
  {
   "cell_type": "code",
   "execution_count": 7,
   "id": "6740331e-34cc-40bf-baff-1c389533fbee",
   "metadata": {
    "tags": []
   },
   "outputs": [],
   "source": [
    "interactions[Columns.Datetime] = pd.to_datetime(interactions[Columns.Datetime])"
   ]
  },
  {
   "cell_type": "code",
   "execution_count": 8,
   "id": "2f14f6ad-d4f6-42a7-92bb-4ff75105c728",
   "metadata": {},
   "outputs": [
    {
     "data": {
      "text/plain": [
       "0"
      ]
     },
     "execution_count": 8,
     "metadata": {},
     "output_type": "execute_result"
    }
   ],
   "source": [
    "interactions.duplicated().sum()"
   ]
  },
  {
   "cell_type": "markdown",
   "id": "1d3d002c-a053-420e-a57a-1540b4a9039c",
   "metadata": {},
   "source": [
    "## Users"
   ]
  },
  {
   "cell_type": "code",
   "execution_count": 9,
   "id": "46162af3-32b1-4445-81e6-cbab1ab86352",
   "metadata": {},
   "outputs": [
    {
     "data": {
      "text/html": [
       "<div>\n",
       "<style scoped>\n",
       "    .dataframe tbody tr th:only-of-type {\n",
       "        vertical-align: middle;\n",
       "    }\n",
       "\n",
       "    .dataframe tbody tr th {\n",
       "        vertical-align: top;\n",
       "    }\n",
       "\n",
       "    .dataframe thead th {\n",
       "        text-align: right;\n",
       "    }\n",
       "</style>\n",
       "<table border=\"1\" class=\"dataframe\">\n",
       "  <thead>\n",
       "    <tr style=\"text-align: right;\">\n",
       "      <th></th>\n",
       "      <th>user_id</th>\n",
       "      <th>age</th>\n",
       "      <th>income</th>\n",
       "      <th>sex</th>\n",
       "      <th>kids_flg</th>\n",
       "    </tr>\n",
       "  </thead>\n",
       "  <tbody>\n",
       "    <tr>\n",
       "      <th>0</th>\n",
       "      <td>973171</td>\n",
       "      <td>age_25_34</td>\n",
       "      <td>income_60_90</td>\n",
       "      <td>М</td>\n",
       "      <td>1</td>\n",
       "    </tr>\n",
       "    <tr>\n",
       "      <th>1</th>\n",
       "      <td>962099</td>\n",
       "      <td>age_18_24</td>\n",
       "      <td>income_20_40</td>\n",
       "      <td>М</td>\n",
       "      <td>0</td>\n",
       "    </tr>\n",
       "    <tr>\n",
       "      <th>2</th>\n",
       "      <td>1047345</td>\n",
       "      <td>age_45_54</td>\n",
       "      <td>income_40_60</td>\n",
       "      <td>Ж</td>\n",
       "      <td>0</td>\n",
       "    </tr>\n",
       "    <tr>\n",
       "      <th>3</th>\n",
       "      <td>721985</td>\n",
       "      <td>age_45_54</td>\n",
       "      <td>income_20_40</td>\n",
       "      <td>Ж</td>\n",
       "      <td>0</td>\n",
       "    </tr>\n",
       "    <tr>\n",
       "      <th>4</th>\n",
       "      <td>704055</td>\n",
       "      <td>age_35_44</td>\n",
       "      <td>income_60_90</td>\n",
       "      <td>Ж</td>\n",
       "      <td>0</td>\n",
       "    </tr>\n",
       "  </tbody>\n",
       "</table>\n",
       "</div>"
      ],
      "text/plain": [
       "   user_id        age        income sex  kids_flg\n",
       "0   973171  age_25_34  income_60_90   М         1\n",
       "1   962099  age_18_24  income_20_40   М         0\n",
       "2  1047345  age_45_54  income_40_60   Ж         0\n",
       "3   721985  age_45_54  income_20_40   Ж         0\n",
       "4   704055  age_35_44  income_60_90   Ж         0"
      ]
     },
     "execution_count": 9,
     "metadata": {},
     "output_type": "execute_result"
    }
   ],
   "source": [
    "users.head()"
   ]
  },
  {
   "cell_type": "code",
   "execution_count": 10,
   "id": "242bdfb2-cef7-4bf5-a5ad-9db321d998db",
   "metadata": {},
   "outputs": [
    {
     "data": {
      "text/plain": [
       "0"
      ]
     },
     "execution_count": 10,
     "metadata": {},
     "output_type": "execute_result"
    }
   ],
   "source": [
    "users.duplicated().sum()"
   ]
  },
  {
   "cell_type": "code",
   "execution_count": 11,
   "id": "dd4548d3-ba04-40ab-b49b-5a6340dc579f",
   "metadata": {},
   "outputs": [
    {
     "name": "stdout",
     "output_type": "stream",
     "text": [
      "<class 'pandas.core.frame.DataFrame'>\n",
      "RangeIndex: 840197 entries, 0 to 840196\n",
      "Data columns (total 5 columns):\n",
      " #   Column    Non-Null Count   Dtype \n",
      "---  ------    --------------   ----- \n",
      " 0   user_id   840197 non-null  int64 \n",
      " 1   age       826102 non-null  object\n",
      " 2   income    825421 non-null  object\n",
      " 3   sex       826366 non-null  object\n",
      " 4   kids_flg  840197 non-null  int64 \n",
      "dtypes: int64(2), object(3)\n",
      "memory usage: 32.1+ MB\n"
     ]
    }
   ],
   "source": [
    "users.info()"
   ]
  },
  {
   "cell_type": "code",
   "execution_count": 12,
   "id": "3975d3d9-5f71-43cb-8f05-62edd6c4d0a3",
   "metadata": {},
   "outputs": [
    {
     "data": {
      "text/plain": [
       "['age_25_34',\n",
       " 'age_18_24',\n",
       " 'age_45_54',\n",
       " 'age_35_44',\n",
       " nan,\n",
       " 'age_55_64',\n",
       " 'age_65_inf']"
      ]
     },
     "execution_count": 12,
     "metadata": {},
     "output_type": "execute_result"
    }
   ],
   "source": [
    "list(users.age.unique())"
   ]
  },
  {
   "cell_type": "code",
   "execution_count": 13,
   "id": "d7c835d5-f16c-45fc-9230-edb8e08d4f9a",
   "metadata": {},
   "outputs": [
    {
     "data": {
      "text/plain": [
       "['income_60_90',\n",
       " 'income_20_40',\n",
       " 'income_40_60',\n",
       " 'income_0_20',\n",
       " nan,\n",
       " 'income_90_150',\n",
       " 'income_150_inf']"
      ]
     },
     "execution_count": 13,
     "metadata": {},
     "output_type": "execute_result"
    }
   ],
   "source": [
    "list(users.income.unique())"
   ]
  },
  {
   "cell_type": "code",
   "execution_count": 15,
   "id": "41d07d78-fa16-4832-95e3-3ea19d0f9bb7",
   "metadata": {},
   "outputs": [
    {
     "data": {
      "text/plain": [
       "['М', 'Ж', nan]"
      ]
     },
     "execution_count": 15,
     "metadata": {},
     "output_type": "execute_result"
    }
   ],
   "source": [
    "list(users.sex.unique())"
   ]
  },
  {
   "cell_type": "code",
   "execution_count": 19,
   "id": "9055578a-b3fc-4115-abf4-a3a81d52b4cf",
   "metadata": {},
   "outputs": [
    {
     "data": {
      "text/plain": [
       "14095"
      ]
     },
     "execution_count": 19,
     "metadata": {},
     "output_type": "execute_result"
    }
   ],
   "source": [
    "users.age.isna().sum()"
   ]
  },
  {
   "cell_type": "code",
   "execution_count": 16,
   "id": "b8d49d0b-01a4-44af-80af-73a202b1538b",
   "metadata": {},
   "outputs": [
    {
     "data": {
      "text/plain": [
       "14776"
      ]
     },
     "execution_count": 16,
     "metadata": {},
     "output_type": "execute_result"
    }
   ],
   "source": [
    "users.income.isna().sum()"
   ]
  },
  {
   "cell_type": "code",
   "execution_count": 17,
   "id": "7876b515-9a02-4bab-817b-3f76104d190a",
   "metadata": {},
   "outputs": [
    {
     "data": {
      "text/plain": [
       "13831"
      ]
     },
     "execution_count": 17,
     "metadata": {},
     "output_type": "execute_result"
    }
   ],
   "source": [
    "users.sex.isna().sum()"
   ]
  },
  {
   "cell_type": "code",
   "execution_count": 18,
   "id": "9f71891c-5d59-4841-98b7-25bb928365c7",
   "metadata": {},
   "outputs": [
    {
     "data": {
      "text/plain": [
       "0"
      ]
     },
     "execution_count": 18,
     "metadata": {},
     "output_type": "execute_result"
    }
   ],
   "source": [
    "users.kids_flg.isna().sum()"
   ]
  },
  {
   "cell_type": "code",
   "execution_count": 22,
   "id": "ee0a03ec-def8-4e44-bee7-fc7b88140ef3",
   "metadata": {},
   "outputs": [
    {
     "data": {
      "text/plain": [
       "0.025605899568791606"
      ]
     },
     "execution_count": 22,
     "metadata": {},
     "output_type": "execute_result"
    }
   ],
   "source": [
    "(\n",
    "    users.age.isna()\n",
    "    | users.income.isna()\n",
    "    | users.sex.isna()\n",
    ").sum() / users.shape[0]"
   ]
  },
  {
   "cell_type": "code",
   "execution_count": null,
   "id": "e3d662f9-e4ed-4e12-86d8-82c1bb9bb55a",
   "metadata": {},
   "outputs": [],
   "source": []
  },
  {
   "cell_type": "code",
   "execution_count": 23,
   "id": "741d3c4d-b13c-4aee-9d8e-545c1dfb5796",
   "metadata": {},
   "outputs": [],
   "source": [
    "order=[\n",
    "    'income_0_20',\n",
    "    'income_20_40',\n",
    "    'income_40_60',\n",
    "    'income_60_90',\n",
    "    'income_90_150',\n",
    "    'income_150_inf',\n",
    "]"
   ]
  },
  {
   "cell_type": "code",
   "execution_count": 35,
   "id": "91153967",
   "metadata": {},
   "outputs": [
    {
     "data": {
      "image/png": "[encoded data removed]",
      "text/plain": [
       "<Figure size 2000x400 with 3 Axes>"
      ]
     },
     "metadata": {},
     "output_type": "display_data"
    }
   ],
   "source": [
    "fig, ax = plt.subplots(1, 3, figsize=(20, 4))\n",
    "sns.countplot(x=users.income, order=order, color='C1', ax=ax[0])\n",
    "ax[0].set_xticklabels(order, rotation = 45)\n",
    "\n",
    "sns.countplot(x=users.sex, ax=ax[1])\n",
    "sns.countplot(x=users.kids_flg, ax=ax[2])\n",
    "plt.show()"
   ]
  },
  {
   "cell_type": "markdown",
   "id": "4218d43b-f5fa-4680-a80e-882286b8b986",
   "metadata": {},
   "source": [
    "## Items"
   ]
  },
  {
   "cell_type": "code",
   "execution_count": 42,
   "id": "d329adbb-80ba-482e-859b-fc0f2fb18acb",
   "metadata": {},
   "outputs": [
    {
     "data": {
      "text/html": [
       "<div>\n",
       "<style scoped>\n",
       "    .dataframe tbody tr th:only-of-type {\n",
       "        vertical-align: middle;\n",
       "    }\n",
       "\n",
       "    .dataframe tbody tr th {\n",
       "        vertical-align: top;\n",
       "    }\n",
       "\n",
       "    .dataframe thead th {\n",
       "        text-align: right;\n",
       "    }\n",
       "</style>\n",
       "<table border=\"1\" class=\"dataframe\">\n",
       "  <thead>\n",
       "    <tr style=\"text-align: right;\">\n",
       "      <th></th>\n",
       "      <th>0</th>\n",
       "      <th>1</th>\n",
       "      <th>2</th>\n",
       "      <th>3</th>\n",
       "      <th>4</th>\n",
       "      <th>5</th>\n",
       "      <th>6</th>\n",
       "      <th>7</th>\n",
       "      <th>8</th>\n",
       "      <th>9</th>\n",
       "      <th>...</th>\n",
       "      <th>15953</th>\n",
       "      <th>15954</th>\n",
       "      <th>15955</th>\n",
       "      <th>15956</th>\n",
       "      <th>15957</th>\n",
       "      <th>15958</th>\n",
       "      <th>15959</th>\n",
       "      <th>15960</th>\n",
       "      <th>15961</th>\n",
       "      <th>15962</th>\n",
       "    </tr>\n",
       "  </thead>\n",
       "  <tbody>\n",
       "    <tr>\n",
       "      <th>item_id</th>\n",
       "      <td>10711</td>\n",
       "      <td>2508</td>\n",
       "      <td>10716</td>\n",
       "      <td>7868</td>\n",
       "      <td>16268</td>\n",
       "      <td>854</td>\n",
       "      <td>1468</td>\n",
       "      <td>11114</td>\n",
       "      <td>9853</td>\n",
       "      <td>8604</td>\n",
       "      <td>...</td>\n",
       "      <td>14075</td>\n",
       "      <td>11670</td>\n",
       "      <td>5525</td>\n",
       "      <td>1325</td>\n",
       "      <td>15610</td>\n",
       "      <td>6443</td>\n",
       "      <td>2367</td>\n",
       "      <td>10632</td>\n",
       "      <td>4538</td>\n",
       "      <td>3206</td>\n",
       "    </tr>\n",
       "    <tr>\n",
       "      <th>content_type</th>\n",
       "      <td>film</td>\n",
       "      <td>film</td>\n",
       "      <td>film</td>\n",
       "      <td>film</td>\n",
       "      <td>film</td>\n",
       "      <td>film</td>\n",
       "      <td>film</td>\n",
       "      <td>film</td>\n",
       "      <td>film</td>\n",
       "      <td>film</td>\n",
       "      <td>...</td>\n",
       "      <td>series</td>\n",
       "      <td>series</td>\n",
       "      <td>series</td>\n",
       "      <td>series</td>\n",
       "      <td>series</td>\n",
       "      <td>series</td>\n",
       "      <td>series</td>\n",
       "      <td>series</td>\n",
       "      <td>series</td>\n",
       "      <td>series</td>\n",
       "    </tr>\n",
       "    <tr>\n",
       "      <th>title</th>\n",
       "      <td>Поговори с ней</td>\n",
       "      <td>Голые перцы</td>\n",
       "      <td>Тактическая сила</td>\n",
       "      <td>45 лет</td>\n",
       "      <td>Все решает мгновение</td>\n",
       "      <td>Северо-Юг</td>\n",
       "      <td>Марья-искусница</td>\n",
       "      <td>Принцесса Лебедь: Пират или принцесса</td>\n",
       "      <td>Лабиринты прошлого</td>\n",
       "      <td>Третья попытка</td>\n",
       "      <td>...</td>\n",
       "      <td>Хочу в ВиаГру</td>\n",
       "      <td>Эд Стаффорд: игра на вылет</td>\n",
       "      <td>Кто из нас не любил</td>\n",
       "      <td>Старое ружьё</td>\n",
       "      <td>Цена любви</td>\n",
       "      <td>Полярный круг</td>\n",
       "      <td>Надежда</td>\n",
       "      <td>Сговор</td>\n",
       "      <td>Среди камней</td>\n",
       "      <td>Гоша</td>\n",
       "    </tr>\n",
       "    <tr>\n",
       "      <th>title_orig</th>\n",
       "      <td>Hable con ella</td>\n",
       "      <td>Search Party</td>\n",
       "      <td>Tactical Force</td>\n",
       "      <td>45 Years</td>\n",
       "      <td>NaN</td>\n",
       "      <td>NaN</td>\n",
       "      <td>NaN</td>\n",
       "      <td>The Swan Princess: Princess Tomorrow, Pirate T...</td>\n",
       "      <td>Todos lo saben</td>\n",
       "      <td>NaN</td>\n",
       "      <td>...</td>\n",
       "      <td>NaN</td>\n",
       "      <td>Ed Stafford: First Man Out</td>\n",
       "      <td>We All Fall in Love</td>\n",
       "      <td>Staroye ruzh'ye</td>\n",
       "      <td>Tsena Lubvi</td>\n",
       "      <td>Arctic Circle</td>\n",
       "      <td>NaN</td>\n",
       "      <td>Hassel</td>\n",
       "      <td>Darklands</td>\n",
       "      <td>NaN</td>\n",
       "    </tr>\n",
       "    <tr>\n",
       "      <th>release_year</th>\n",
       "      <td>2002.0</td>\n",
       "      <td>2014.0</td>\n",
       "      <td>2011.0</td>\n",
       "      <td>2015.0</td>\n",
       "      <td>1978.0</td>\n",
       "      <td>2015.0</td>\n",
       "      <td>1960.0</td>\n",
       "      <td>2016.0</td>\n",
       "      <td>2018.0</td>\n",
       "      <td>2013.0</td>\n",
       "      <td>...</td>\n",
       "      <td>2013.0</td>\n",
       "      <td>2018.0</td>\n",
       "      <td>2016.0</td>\n",
       "      <td>2014.0</td>\n",
       "      <td>2015.0</td>\n",
       "      <td>2018.0</td>\n",
       "      <td>2020.0</td>\n",
       "      <td>2017.0</td>\n",
       "      <td>2019.0</td>\n",
       "      <td>2019.0</td>\n",
       "    </tr>\n",
       "    <tr>\n",
       "      <th>genres</th>\n",
       "      <td>драмы, зарубежные, детективы, мелодрамы</td>\n",
       "      <td>зарубежные, приключения, комедии</td>\n",
       "      <td>криминал, зарубежные, триллеры, боевики, комедии</td>\n",
       "      <td>драмы, зарубежные, мелодрамы</td>\n",
       "      <td>драмы, спорт, советские, мелодрамы</td>\n",
       "      <td>драмы, русские</td>\n",
       "      <td>фильмы, сказки, приключения, советские, семейн...</td>\n",
       "      <td>для детей, сказки, полнометражные, зарубежные,...</td>\n",
       "      <td>криминал, детективы, драмы, зарубежные, триллеры</td>\n",
       "      <td>русские, мелодрамы</td>\n",
       "      <td>...</td>\n",
       "      <td>музыкальные</td>\n",
       "      <td>телешоу</td>\n",
       "      <td>драмы</td>\n",
       "      <td>драмы, военные</td>\n",
       "      <td>мелодрамы</td>\n",
       "      <td>драмы, триллеры, криминал</td>\n",
       "      <td>драмы, боевики</td>\n",
       "      <td>драмы, триллеры, криминал</td>\n",
       "      <td>драмы, спорт, криминал</td>\n",
       "      <td>комедии</td>\n",
       "    </tr>\n",
       "    <tr>\n",
       "      <th>countries</th>\n",
       "      <td>Испания</td>\n",
       "      <td>США</td>\n",
       "      <td>Канада</td>\n",
       "      <td>Великобритания</td>\n",
       "      <td>СССР</td>\n",
       "      <td>Россия</td>\n",
       "      <td>СССР</td>\n",
       "      <td>США</td>\n",
       "      <td>Испания</td>\n",
       "      <td>Россия</td>\n",
       "      <td>...</td>\n",
       "      <td>Украина</td>\n",
       "      <td>Сингапур</td>\n",
       "      <td>Турция</td>\n",
       "      <td>Россия</td>\n",
       "      <td>Россия</td>\n",
       "      <td>Финляндия, Германия</td>\n",
       "      <td>Россия</td>\n",
       "      <td>Россия</td>\n",
       "      <td>Россия</td>\n",
       "      <td>Россия</td>\n",
       "    </tr>\n",
       "    <tr>\n",
       "      <th>for_kids</th>\n",
       "      <td>NaN</td>\n",
       "      <td>NaN</td>\n",
       "      <td>NaN</td>\n",
       "      <td>NaN</td>\n",
       "      <td>NaN</td>\n",
       "      <td>NaN</td>\n",
       "      <td>NaN</td>\n",
       "      <td>NaN</td>\n",
       "      <td>NaN</td>\n",
       "      <td>NaN</td>\n",
       "      <td>...</td>\n",
       "      <td>NaN</td>\n",
       "      <td>NaN</td>\n",
       "      <td>NaN</td>\n",
       "      <td>NaN</td>\n",
       "      <td>NaN</td>\n",
       "      <td>NaN</td>\n",
       "      <td>0.0</td>\n",
       "      <td>0.0</td>\n",
       "      <td>0.0</td>\n",
       "      <td>0.0</td>\n",
       "    </tr>\n",
       "    <tr>\n",
       "      <th>age_rating</th>\n",
       "      <td>16.0</td>\n",
       "      <td>16.0</td>\n",
       "      <td>16.0</td>\n",
       "      <td>16.0</td>\n",
       "      <td>12.0</td>\n",
       "      <td>16.0</td>\n",
       "      <td>6.0</td>\n",
       "      <td>6.0</td>\n",
       "      <td>16.0</td>\n",
       "      <td>12.0</td>\n",
       "      <td>...</td>\n",
       "      <td>16.0</td>\n",
       "      <td>16.0</td>\n",
       "      <td>16.0</td>\n",
       "      <td>16.0</td>\n",
       "      <td>16.0</td>\n",
       "      <td>16.0</td>\n",
       "      <td>18.0</td>\n",
       "      <td>18.0</td>\n",
       "      <td>18.0</td>\n",
       "      <td>16.0</td>\n",
       "    </tr>\n",
       "    <tr>\n",
       "      <th>studios</th>\n",
       "      <td>NaN</td>\n",
       "      <td>NaN</td>\n",
       "      <td>NaN</td>\n",
       "      <td>NaN</td>\n",
       "      <td>Ленфильм</td>\n",
       "      <td>NaN</td>\n",
       "      <td>NaN</td>\n",
       "      <td>Sony Pictures</td>\n",
       "      <td>NaN</td>\n",
       "      <td>NaN</td>\n",
       "      <td>...</td>\n",
       "      <td>NaN</td>\n",
       "      <td>NaN</td>\n",
       "      <td>NaN</td>\n",
       "      <td>NaN</td>\n",
       "      <td>NaN</td>\n",
       "      <td>NaN</td>\n",
       "      <td>NaN</td>\n",
       "      <td>NaN</td>\n",
       "      <td>NaN</td>\n",
       "      <td>NaN</td>\n",
       "    </tr>\n",
       "    <tr>\n",
       "      <th>directors</th>\n",
       "      <td>Педро Альмодовар</td>\n",
       "      <td>Скот Армстронг</td>\n",
       "      <td>Адам П. Калтраро</td>\n",
       "      <td>Эндрю Хэй</td>\n",
       "      <td>Виктор Садовский</td>\n",
       "      <td>Юрий Грубник</td>\n",
       "      <td>Александр Роу</td>\n",
       "      <td>Ричард Рич</td>\n",
       "      <td>Асгар Фархади</td>\n",
       "      <td>Игорь Мужжухин</td>\n",
       "      <td>...</td>\n",
       "      <td>NaN</td>\n",
       "      <td>Роб Сикссмит</td>\n",
       "      <td>Метин Балекоглу</td>\n",
       "      <td>К. Белевич</td>\n",
       "      <td>А. Хван</td>\n",
       "      <td>Ханну Салонен</td>\n",
       "      <td>Елена Хазанова</td>\n",
       "      <td>Эшреф Рейбрук, Амир Камдин, Эрик Эгер</td>\n",
       "      <td>Марк О’Коннор, Конор МакМахон</td>\n",
       "      <td>Михаил Миронов</td>\n",
       "    </tr>\n",
       "    <tr>\n",
       "      <th>actors</th>\n",
       "      <td>Адольфо Фернандес, Ана Фернандес, Дарио Гранди...</td>\n",
       "      <td>Адам Палли, Брайан Хаски, Дж.Б. Смув, Джейсон ...</td>\n",
       "      <td>Адриан Холмс, Даррен Шалави, Джерри Вассерман,...</td>\n",
       "      <td>Александра Риддлстон-Барретт, Джеральдин Джейм...</td>\n",
       "      <td>Александр Абдулов, Александр Демьяненко, Алекс...</td>\n",
       "      <td>Алексей Воронин, Алексей Мурашов, Алена Алинин...</td>\n",
       "      <td>Александр Баранов, Александр Хвыля, Анатолий К...</td>\n",
       "      <td>Брайан Ниссен, Гарднер Джаэс, Грант Дураззо, Д...</td>\n",
       "      <td>Барбара Ленни, Инма Куэста, Карла Кампра, Пене...</td>\n",
       "      <td>Александр Асташенок, Александр Пашков, Андрей ...</td>\n",
       "      <td>...</td>\n",
       "      <td>NaN</td>\n",
       "      <td>Эд Стаффорд, Мэтт Грэм, Эррол Джеймс Снайдер</td>\n",
       "      <td>Джан Яман, Альтан Эркекли, Гюль Онат, Дженгиз ...</td>\n",
       "      <td>Тимофей Трибунцев, Ирина Пегова, Добрыня Белев...</td>\n",
       "      <td>Анна Невская, Юрий Батурин, Анастасия Матвеева...</td>\n",
       "      <td>Иина Куустонен, Максимилиан Брюкнер, Пихла Вии...</td>\n",
       "      <td>Виктория Исакова, Александр Кузьмин, Алексей М...</td>\n",
       "      <td>Ола Рапас, Алиетт Офейм, Уильма Лиден, Шанти Р...</td>\n",
       "      <td>Дэйн Уайт О’Хара, Томас Кэйн-Бирн, Джудит Родд...</td>\n",
       "      <td>Мкртыч Арзуманян, Виктория Рунцова</td>\n",
       "    </tr>\n",
       "    <tr>\n",
       "      <th>description</th>\n",
       "      <td>Мелодрама легендарного Педро Альмодовара «Пого...</td>\n",
       "      <td>Уморительная современная комедия на популярную...</td>\n",
       "      <td>Профессиональный рестлер Стив Остин («Все или ...</td>\n",
       "      <td>Шарлотта Рэмплинг, Том Кортни, Джеральдин Джей...</td>\n",
       "      <td>Расчетливая чаровница из советского кинохита «...</td>\n",
       "      <td>Авторский фильм молодого режиссера Юрия Грубни...</td>\n",
       "      <td>Два прославленных советских сказочника – писат...</td>\n",
       "      <td>Анимационная сказка о непоседливой принцессе Э...</td>\n",
       "      <td>Испанка Лаура, давно переехавшая в Буэнос-Айре...</td>\n",
       "      <td>Екатерина Рябова, Александр Асташенок и Алекса...</td>\n",
       "      <td>...</td>\n",
       "      <td>Еще осенью 2012 года Константин Меладзе объяви...</td>\n",
       "      <td>Эду противостоит ас выживания и прославленный ...</td>\n",
       "      <td>Большая любовь, которая закончилась из-за одно...</td>\n",
       "      <td>1941 год. Петр – простой учитель в маленькой д...</td>\n",
       "      <td>Преподаватель университета Елена однажды пришл...</td>\n",
       "      <td>Во время погони за браконьерами по лесу, сотру...</td>\n",
       "      <td>Оригинальный киносериал от создателей «Бывших»...</td>\n",
       "      <td>Криминальная драма по мотивам романов о шведск...</td>\n",
       "      <td>Семнадцатилетний Дэмиен мечтает вырваться за п...</td>\n",
       "      <td>Добродушный Гоша не может выйти из дома, чтобы...</td>\n",
       "    </tr>\n",
       "    <tr>\n",
       "      <th>keywords</th>\n",
       "      <td>Поговори, ней, 2002, Испания, друзья, любовь, ...</td>\n",
       "      <td>Голые, перцы, 2014, США, друзья, свадьбы, прео...</td>\n",
       "      <td>Тактическая, сила, 2011, Канада, бандиты, ганг...</td>\n",
       "      <td>45, лет, 2015, Великобритания, брак, жизнь, лю...</td>\n",
       "      <td>Все, решает, мгновение, 1978, СССР, сильные, ж...</td>\n",
       "      <td>Северо-Юг, 2015, Россия, бандиты, гангстеры, б...</td>\n",
       "      <td>Марья-искусница, 1960, СССР, преодоление, труд...</td>\n",
       "      <td>Принцесса, Лебедь, Пират, или, принцесса, 2016...</td>\n",
       "      <td>Лабиринты, прошлого, 2018, Испания, семейные, ...</td>\n",
       "      <td>Третья, попытка, 2013, Россия, любовь, измена,...</td>\n",
       "      <td>...</td>\n",
       "      <td>Хочу, ВиаГру, 2013, Украина</td>\n",
       "      <td>битва, неигровое кино, выживание, раса</td>\n",
       "      <td>NaN</td>\n",
       "      <td>вторая мировая война, человек с ружьём</td>\n",
       "      <td>NaN</td>\n",
       "      <td>убийство, вирус, расследование преступления, н...</td>\n",
       "      <td>Надежда, 2020, Россия</td>\n",
       "      <td>Сговор, 2017, Россия</td>\n",
       "      <td>Среди, камней, 2019, Россия</td>\n",
       "      <td>Гоша, 2019, Россия</td>\n",
       "    </tr>\n",
       "  </tbody>\n",
       "</table>\n",
       "<p>14 rows × 15963 columns</p>\n",
       "</div>"
      ],
      "text/plain": [
       "                                                          0      \\\n",
       "item_id                                                   10711   \n",
       "content_type                                               film   \n",
       "title                                            Поговори с ней   \n",
       "title_orig                                       Hable con ella   \n",
       "release_year                                             2002.0   \n",
       "genres                  драмы, зарубежные, детективы, мелодрамы   \n",
       "countries                                               Испания   \n",
       "for_kids                                                    NaN   \n",
       "age_rating                                                 16.0   \n",
       "studios                                                     NaN   \n",
       "directors                                      Педро Альмодовар   \n",
       "actors        Адольфо Фернандес, Ана Фернандес, Дарио Гранди...   \n",
       "description   Мелодрама легендарного Педро Альмодовара «Пого...   \n",
       "keywords      Поговори, ней, 2002, Испания, друзья, любовь, ...   \n",
       "\n",
       "                                                          1      \\\n",
       "item_id                                                    2508   \n",
       "content_type                                               film   \n",
       "title                                               Голые перцы   \n",
       "title_orig                                         Search Party   \n",
       "release_year                                             2014.0   \n",
       "genres                         зарубежные, приключения, комедии   \n",
       "countries                                                   США   \n",
       "for_kids                                                    NaN   \n",
       "age_rating                                                 16.0   \n",
       "studios                                                     NaN   \n",
       "directors                                        Скот Армстронг   \n",
       "actors        Адам Палли, Брайан Хаски, Дж.Б. Смув, Джейсон ...   \n",
       "description   Уморительная современная комедия на популярную...   \n",
       "keywords      Голые, перцы, 2014, США, друзья, свадьбы, прео...   \n",
       "\n",
       "                                                          2      \\\n",
       "item_id                                                   10716   \n",
       "content_type                                               film   \n",
       "title                                          Тактическая сила   \n",
       "title_orig                                       Tactical Force   \n",
       "release_year                                             2011.0   \n",
       "genres         криминал, зарубежные, триллеры, боевики, комедии   \n",
       "countries                                                Канада   \n",
       "for_kids                                                    NaN   \n",
       "age_rating                                                 16.0   \n",
       "studios                                                     NaN   \n",
       "directors                                      Адам П. Калтраро   \n",
       "actors        Адриан Холмс, Даррен Шалави, Джерри Вассерман,...   \n",
       "description   Профессиональный рестлер Стив Остин («Все или ...   \n",
       "keywords      Тактическая, сила, 2011, Канада, бандиты, ганг...   \n",
       "\n",
       "                                                          3      \\\n",
       "item_id                                                    7868   \n",
       "content_type                                               film   \n",
       "title                                                    45 лет   \n",
       "title_orig                                             45 Years   \n",
       "release_year                                             2015.0   \n",
       "genres                             драмы, зарубежные, мелодрамы   \n",
       "countries                                        Великобритания   \n",
       "for_kids                                                    NaN   \n",
       "age_rating                                                 16.0   \n",
       "studios                                                     NaN   \n",
       "directors                                             Эндрю Хэй   \n",
       "actors        Александра Риддлстон-Барретт, Джеральдин Джейм...   \n",
       "description   Шарлотта Рэмплинг, Том Кортни, Джеральдин Джей...   \n",
       "keywords      45, лет, 2015, Великобритания, брак, жизнь, лю...   \n",
       "\n",
       "                                                          4      \\\n",
       "item_id                                                   16268   \n",
       "content_type                                               film   \n",
       "title                                      Все решает мгновение   \n",
       "title_orig                                                  NaN   \n",
       "release_year                                             1978.0   \n",
       "genres                       драмы, спорт, советские, мелодрамы   \n",
       "countries                                                  СССР   \n",
       "for_kids                                                    NaN   \n",
       "age_rating                                                 12.0   \n",
       "studios                                                Ленфильм   \n",
       "directors                                      Виктор Садовский   \n",
       "actors        Александр Абдулов, Александр Демьяненко, Алекс...   \n",
       "description   Расчетливая чаровница из советского кинохита «...   \n",
       "keywords      Все, решает, мгновение, 1978, СССР, сильные, ж...   \n",
       "\n",
       "                                                          5      \\\n",
       "item_id                                                     854   \n",
       "content_type                                               film   \n",
       "title                                                 Северо-Юг   \n",
       "title_orig                                                  NaN   \n",
       "release_year                                             2015.0   \n",
       "genres                                           драмы, русские   \n",
       "countries                                                Россия   \n",
       "for_kids                                                    NaN   \n",
       "age_rating                                                 16.0   \n",
       "studios                                                     NaN   \n",
       "directors                                          Юрий Грубник   \n",
       "actors        Алексей Воронин, Алексей Мурашов, Алена Алинин...   \n",
       "description   Авторский фильм молодого режиссера Юрия Грубни...   \n",
       "keywords      Северо-Юг, 2015, Россия, бандиты, гангстеры, б...   \n",
       "\n",
       "                                                          6      \\\n",
       "item_id                                                    1468   \n",
       "content_type                                               film   \n",
       "title                                           Марья-искусница   \n",
       "title_orig                                                  NaN   \n",
       "release_year                                             1960.0   \n",
       "genres        фильмы, сказки, приключения, советские, семейн...   \n",
       "countries                                                  СССР   \n",
       "for_kids                                                    NaN   \n",
       "age_rating                                                  6.0   \n",
       "studios                                                     NaN   \n",
       "directors                                         Александр Роу   \n",
       "actors        Александр Баранов, Александр Хвыля, Анатолий К...   \n",
       "description   Два прославленных советских сказочника – писат...   \n",
       "keywords      Марья-искусница, 1960, СССР, преодоление, труд...   \n",
       "\n",
       "                                                          7      \\\n",
       "item_id                                                   11114   \n",
       "content_type                                               film   \n",
       "title                     Принцесса Лебедь: Пират или принцесса   \n",
       "title_orig    The Swan Princess: Princess Tomorrow, Pirate T...   \n",
       "release_year                                             2016.0   \n",
       "genres        для детей, сказки, полнометражные, зарубежные,...   \n",
       "countries                                                   США   \n",
       "for_kids                                                    NaN   \n",
       "age_rating                                                  6.0   \n",
       "studios                                           Sony Pictures   \n",
       "directors                                            Ричард Рич   \n",
       "actors        Брайан Ниссен, Гарднер Джаэс, Грант Дураззо, Д...   \n",
       "description   Анимационная сказка о непоседливой принцессе Э...   \n",
       "keywords      Принцесса, Лебедь, Пират, или, принцесса, 2016...   \n",
       "\n",
       "                                                          8      \\\n",
       "item_id                                                    9853   \n",
       "content_type                                               film   \n",
       "title                                        Лабиринты прошлого   \n",
       "title_orig                                       Todos lo saben   \n",
       "release_year                                             2018.0   \n",
       "genres         криминал, детективы, драмы, зарубежные, триллеры   \n",
       "countries                                               Испания   \n",
       "for_kids                                                    NaN   \n",
       "age_rating                                                 16.0   \n",
       "studios                                                     NaN   \n",
       "directors                                         Асгар Фархади   \n",
       "actors        Барбара Ленни, Инма Куэста, Карла Кампра, Пене...   \n",
       "description   Испанка Лаура, давно переехавшая в Буэнос-Айре...   \n",
       "keywords      Лабиринты, прошлого, 2018, Испания, семейные, ...   \n",
       "\n",
       "                                                          9      ...  \\\n",
       "item_id                                                    8604  ...   \n",
       "content_type                                               film  ...   \n",
       "title                                            Третья попытка  ...   \n",
       "title_orig                                                  NaN  ...   \n",
       "release_year                                             2013.0  ...   \n",
       "genres                                       русские, мелодрамы  ...   \n",
       "countries                                                Россия  ...   \n",
       "for_kids                                                    NaN  ...   \n",
       "age_rating                                                 12.0  ...   \n",
       "studios                                                     NaN  ...   \n",
       "directors                                        Игорь Мужжухин  ...   \n",
       "actors        Александр Асташенок, Александр Пашков, Андрей ...  ...   \n",
       "description   Екатерина Рябова, Александр Асташенок и Алекса...  ...   \n",
       "keywords      Третья, попытка, 2013, Россия, любовь, измена,...  ...   \n",
       "\n",
       "                                                          15953  \\\n",
       "item_id                                                   14075   \n",
       "content_type                                             series   \n",
       "title                                             Хочу в ВиаГру   \n",
       "title_orig                                                  NaN   \n",
       "release_year                                             2013.0   \n",
       "genres                                              музыкальные   \n",
       "countries                                               Украина   \n",
       "for_kids                                                    NaN   \n",
       "age_rating                                                 16.0   \n",
       "studios                                                     NaN   \n",
       "directors                                                   NaN   \n",
       "actors                                                      NaN   \n",
       "description   Еще осенью 2012 года Константин Меладзе объяви...   \n",
       "keywords                            Хочу, ВиаГру, 2013, Украина   \n",
       "\n",
       "                                                          15954  \\\n",
       "item_id                                                   11670   \n",
       "content_type                                             series   \n",
       "title                                Эд Стаффорд: игра на вылет   \n",
       "title_orig                           Ed Stafford: First Man Out   \n",
       "release_year                                             2018.0   \n",
       "genres                                                  телешоу   \n",
       "countries                                              Сингапур   \n",
       "for_kids                                                    NaN   \n",
       "age_rating                                                 16.0   \n",
       "studios                                                     NaN   \n",
       "directors                                          Роб Сикссмит   \n",
       "actors             Эд Стаффорд, Мэтт Грэм, Эррол Джеймс Снайдер   \n",
       "description   Эду противостоит ас выживания и прославленный ...   \n",
       "keywords                 битва, неигровое кино, выживание, раса   \n",
       "\n",
       "                                                          15955  \\\n",
       "item_id                                                    5525   \n",
       "content_type                                             series   \n",
       "title                                       Кто из нас не любил   \n",
       "title_orig                                  We All Fall in Love   \n",
       "release_year                                             2016.0   \n",
       "genres                                                    драмы   \n",
       "countries                                                Турция   \n",
       "for_kids                                                    NaN   \n",
       "age_rating                                                 16.0   \n",
       "studios                                                     NaN   \n",
       "directors                                       Метин Балекоглу   \n",
       "actors        Джан Яман, Альтан Эркекли, Гюль Онат, Дженгиз ...   \n",
       "description   Большая любовь, которая закончилась из-за одно...   \n",
       "keywords                                                    NaN   \n",
       "\n",
       "                                                          15956  \\\n",
       "item_id                                                    1325   \n",
       "content_type                                             series   \n",
       "title                                              Старое ружьё   \n",
       "title_orig                                      Staroye ruzh'ye   \n",
       "release_year                                             2014.0   \n",
       "genres                                           драмы, военные   \n",
       "countries                                                Россия   \n",
       "for_kids                                                    NaN   \n",
       "age_rating                                                 16.0   \n",
       "studios                                                     NaN   \n",
       "directors                                            К. Белевич   \n",
       "actors        Тимофей Трибунцев, Ирина Пегова, Добрыня Белев...   \n",
       "description   1941 год. Петр – простой учитель в маленькой д...   \n",
       "keywords                 вторая мировая война, человек с ружьём   \n",
       "\n",
       "                                                          15957  \\\n",
       "item_id                                                   15610   \n",
       "content_type                                             series   \n",
       "title                                                Цена любви   \n",
       "title_orig                                          Tsena Lubvi   \n",
       "release_year                                             2015.0   \n",
       "genres                                                мелодрамы   \n",
       "countries                                                Россия   \n",
       "for_kids                                                    NaN   \n",
       "age_rating                                                 16.0   \n",
       "studios                                                     NaN   \n",
       "directors                                               А. Хван   \n",
       "actors        Анна Невская, Юрий Батурин, Анастасия Матвеева...   \n",
       "description   Преподаватель университета Елена однажды пришл...   \n",
       "keywords                                                    NaN   \n",
       "\n",
       "                                                          15958  \\\n",
       "item_id                                                    6443   \n",
       "content_type                                             series   \n",
       "title                                             Полярный круг   \n",
       "title_orig                                        Arctic Circle   \n",
       "release_year                                             2018.0   \n",
       "genres                                драмы, триллеры, криминал   \n",
       "countries                                   Финляндия, Германия   \n",
       "for_kids                                                    NaN   \n",
       "age_rating                                                 16.0   \n",
       "studios                                                     NaN   \n",
       "directors                                         Ханну Салонен   \n",
       "actors        Иина Куустонен, Максимилиан Брюкнер, Пихла Вии...   \n",
       "description   Во время погони за браконьерами по лесу, сотру...   \n",
       "keywords      убийство, вирус, расследование преступления, н...   \n",
       "\n",
       "                                                          15959  \\\n",
       "item_id                                                    2367   \n",
       "content_type                                             series   \n",
       "title                                                   Надежда   \n",
       "title_orig                                                  NaN   \n",
       "release_year                                             2020.0   \n",
       "genres                                           драмы, боевики   \n",
       "countries                                                Россия   \n",
       "for_kids                                                    0.0   \n",
       "age_rating                                                 18.0   \n",
       "studios                                                     NaN   \n",
       "directors                                        Елена Хазанова   \n",
       "actors        Виктория Исакова, Александр Кузьмин, Алексей М...   \n",
       "description   Оригинальный киносериал от создателей «Бывших»...   \n",
       "keywords                                  Надежда, 2020, Россия   \n",
       "\n",
       "                                                          15960  \\\n",
       "item_id                                                   10632   \n",
       "content_type                                             series   \n",
       "title                                                    Сговор   \n",
       "title_orig                                               Hassel   \n",
       "release_year                                             2017.0   \n",
       "genres                                драмы, триллеры, криминал   \n",
       "countries                                                Россия   \n",
       "for_kids                                                    0.0   \n",
       "age_rating                                                 18.0   \n",
       "studios                                                     NaN   \n",
       "directors                 Эшреф Рейбрук, Амир Камдин, Эрик Эгер   \n",
       "actors        Ола Рапас, Алиетт Офейм, Уильма Лиден, Шанти Р...   \n",
       "description   Криминальная драма по мотивам романов о шведск...   \n",
       "keywords                                   Сговор, 2017, Россия   \n",
       "\n",
       "                                                          15961  \\\n",
       "item_id                                                    4538   \n",
       "content_type                                             series   \n",
       "title                                              Среди камней   \n",
       "title_orig                                           Darklands    \n",
       "release_year                                             2019.0   \n",
       "genres                                   драмы, спорт, криминал   \n",
       "countries                                                Россия   \n",
       "for_kids                                                    0.0   \n",
       "age_rating                                                 18.0   \n",
       "studios                                                     NaN   \n",
       "directors                         Марк О’Коннор, Конор МакМахон   \n",
       "actors        Дэйн Уайт О’Хара, Томас Кэйн-Бирн, Джудит Родд...   \n",
       "description   Семнадцатилетний Дэмиен мечтает вырваться за п...   \n",
       "keywords                            Среди, камней, 2019, Россия   \n",
       "\n",
       "                                                          15962  \n",
       "item_id                                                    3206  \n",
       "content_type                                             series  \n",
       "title                                                      Гоша  \n",
       "title_orig                                                  NaN  \n",
       "release_year                                             2019.0  \n",
       "genres                                                  комедии  \n",
       "countries                                                Россия  \n",
       "for_kids                                                    0.0  \n",
       "age_rating                                                 16.0  \n",
       "studios                                                     NaN  \n",
       "directors                                        Михаил Миронов  \n",
       "actors                       Мкртыч Арзуманян, Виктория Рунцова  \n",
       "description   Добродушный Гоша не может выйти из дома, чтобы...  \n",
       "keywords                                     Гоша, 2019, Россия  \n",
       "\n",
       "[14 rows x 15963 columns]"
      ]
     },
     "execution_count": 42,
     "metadata": {},
     "output_type": "execute_result"
    }
   ],
   "source": [
    "items.T"
   ]
  },
  {
   "cell_type": "code",
   "execution_count": 43,
   "id": "d11b49e8-56de-4142-8fed-840eafde5689",
   "metadata": {},
   "outputs": [
    {
     "data": {
      "text/plain": [
       "array(['film', 'series'], dtype=object)"
      ]
     },
     "execution_count": 43,
     "metadata": {},
     "output_type": "execute_result"
    }
   ],
   "source": [
    "items.content_type.unique()"
   ]
  },
  {
   "cell_type": "code",
   "execution_count": 44,
   "id": "d81dc30c-7cc2-4d80-a390-8e15cac63e20",
   "metadata": {},
   "outputs": [
    {
     "data": {
      "text/plain": [
       "array([nan, 'Ленфильм', 'Sony Pictures', 'Starz', 'BBC',\n",
       "       'Ленфильм, рентв', 'HBO', 'Paramount', 'Universal', 'Sky',\n",
       "       'Cinemax', 'CBS', 'Sony Plus, рентв', 'FX', 'Sky, Fremantle',\n",
       "       'Warner Bros. Television', 'DAZN', 'Warner Bros', 'Fremantle',\n",
       "       'Sony Pictures, рентв', 'Fox', 'HBO, BBC', 'Мосфильм', 'Showtime',\n",
       "       'Endemol', 'Sony Pictures Television', 'CBS All Access', 'ABC',\n",
       "       'Universal, рентв', 'Amediateka', 'Рок фильм', 'Disney', 'HBO Max',\n",
       "       'MGM', 'Legendary', 'рентв', 'Channel 4',\n",
       "       'New Regency Productions', 'Sony Plus'], dtype=object)"
      ]
     },
     "execution_count": 44,
     "metadata": {},
     "output_type": "execute_result"
    }
   ],
   "source": [
    "items.studios.unique()"
   ]
  },
  {
   "cell_type": "code",
   "execution_count": 48,
   "id": "28b48a64-414b-46e7-b340-54bec8b5ad3b",
   "metadata": {},
   "outputs": [
    {
     "data": {
      "text/plain": [
       "(688,)"
      ]
     },
     "execution_count": 48,
     "metadata": {},
     "output_type": "execute_result"
    }
   ],
   "source": [
    "items.countries.unique().shape"
   ]
  },
  {
   "cell_type": "code",
   "execution_count": 51,
   "id": "d4e404a4-ea2e-41fb-a258-b122656ea90a",
   "metadata": {},
   "outputs": [
    {
     "data": {
      "text/plain": [
       "(92,)"
      ]
     },
     "execution_count": 51,
     "metadata": {},
     "output_type": "execute_result"
    }
   ],
   "source": [
    "items.countries.str.split(', ').explode().unique().shape"
   ]
  },
  {
   "cell_type": "code",
   "execution_count": 52,
   "id": "88c4fa8d-1250-4c99-94e4-6d7abbd3a192",
   "metadata": {},
   "outputs": [
    {
     "data": {
      "text/plain": [
       "array(['Испания', 'США', 'Канада', 'Великобритания', 'СССР', 'Россия',\n",
       "       'Иран', 'Германия', 'Италия', 'Аргентина', 'Франция', 'Украина',\n",
       "       'Япония', 'Швеция', 'Норвегия', 'Чехия', 'Китай', 'Тайвань',\n",
       "       'Республика Корея', 'Израиль', 'Дания', 'Исландия', 'Бельгия',\n",
       "       'Казахстан', 'Новая Зеландия', 'Австралия', 'Мексика',\n",
       "       'Нидерланды', 'Кипр', 'Маврикий', 'Гонконг', 'Ирландия',\n",
       "       'Болгария', 'Беларусь', 'Киргизия', 'Румыния', nan, 'Мальта',\n",
       "       'Чили', 'Армения', 'Индия', 'Таиланд', 'Венгрия', 'Сенегал',\n",
       "       'Бразилия', 'Польша', 'Люксембург', 'Турция', 'ЮАР', 'Швейцария',\n",
       "       'Македония', 'Финляндия', 'Узбекистан', 'Малайзия', 'ОАЭ',\n",
       "       'Португалия', 'Филиппины', 'Пуэрто-Рико', 'Перу', 'Латвия',\n",
       "       'Австрия', 'Алжир', 'Колумбия', 'Венесуэла', 'Уругвай',\n",
       "       'Индонезия', 'Хорватия', 'Сингапур', 'Камбоджа', 'Парагвай',\n",
       "       'Сербия', 'Молдова', 'Эстония', 'Албания', 'Югославия', 'Словакия',\n",
       "       'Словения', 'Эквадор', 'Грузия', 'Египет', 'Марокко', 'Тунис',\n",
       "       'Греция', 'Ливан', 'Куба', 'Азербайджан', 'Иордания', 'Замбия',\n",
       "       'Вьетнам', 'Коста-Рика', 'Кения', 'Литва'], dtype=object)"
      ]
     },
     "execution_count": 52,
     "metadata": {},
     "output_type": "execute_result"
    }
   ],
   "source": [
    "items.countries.str.split(', ').explode().unique()"
   ]
  },
  {
   "cell_type": "code",
   "execution_count": 55,
   "id": "24976924-5978-4d21-b96e-cdbc84c4c803",
   "metadata": {},
   "outputs": [
    {
     "data": {
      "text/plain": [
       "array([nan,  0.,  1.])"
      ]
     },
     "execution_count": 55,
     "metadata": {},
     "output_type": "execute_result"
    }
   ],
   "source": [
    "items.for_kids.unique()"
   ]
  },
  {
   "cell_type": "code",
   "execution_count": 57,
   "id": "5a3893c5-4030-4f5b-807a-9319dfff0728",
   "metadata": {},
   "outputs": [
    {
     "data": {
      "text/plain": [
       "array([16., 12.,  6., 18.,  0., 21., nan])"
      ]
     },
     "execution_count": 57,
     "metadata": {},
     "output_type": "execute_result"
    }
   ],
   "source": [
    "items.age_rating.unique()"
   ]
  },
  {
   "cell_type": "code",
   "execution_count": null,
   "id": "b1934156-d4ae-4db5-ab1e-edb79a5bad9a",
   "metadata": {},
   "outputs": [
    {
     "data": {
      "text/plain": [
       "0        Поговори, ней, 2002, Испания, друзья, любовь, ...\n",
       "1        Голые, перцы, 2014, США, друзья, свадьбы, прео...\n",
       "2        Тактическая, сила, 2011, Канада, бандиты, ганг...\n",
       "3        45, лет, 2015, Великобритания, брак, жизнь, лю...\n",
       "4        Все, решает, мгновение, 1978, СССР, сильные, ж...\n",
       "                               ...                        \n",
       "15958    убийство, вирус, расследование преступления, н...\n",
       "15959                                Надежда, 2020, Россия\n",
       "15960                                 Сговор, 2017, Россия\n",
       "15961                          Среди, камней, 2019, Россия\n",
       "15962                                   Гоша, 2019, Россия\n",
       "Name: keywords, Length: 15963, dtype: object"
      ]
     },
     "execution_count": 58,
     "metadata": {},
     "output_type": "execute_result"
    }
   ],
   "source": [
    "items.keywords"
   ]
  },
  {
   "cell_type": "code",
   "execution_count": 70,
   "id": "c9b4c5ae-6952-4d6e-b64f-f1deeb4a0e55",
   "metadata": {},
   "outputs": [
    {
     "data": {
      "text/plain": [
       "(7974,)"
      ]
     },
     "execution_count": 70,
     "metadata": {},
     "output_type": "execute_result"
    }
   ],
   "source": [
    "items.directors.unique().shape"
   ]
  },
  {
   "cell_type": "code",
   "execution_count": 75,
   "id": "23594dae-1a15-4ab6-a35a-3a75a4557d3e",
   "metadata": {},
   "outputs": [
    {
     "data": {
      "text/plain": [
       "(8840,)"
      ]
     },
     "execution_count": 75,
     "metadata": {},
     "output_type": "execute_result"
    }
   ],
   "source": [
    "items.directors.str.split(', ').explode().unique().shape"
   ]
  },
  {
   "cell_type": "code",
   "execution_count": 53,
   "id": "2a26c075-d6ef-4cf8-86a8-7a2538dd1c53",
   "metadata": {},
   "outputs": [
    {
     "name": "stdout",
     "output_type": "stream",
     "text": [
      "<class 'pandas.core.frame.DataFrame'>\n",
      "RangeIndex: 15963 entries, 0 to 15962\n",
      "Data columns (total 14 columns):\n",
      " #   Column        Non-Null Count  Dtype  \n",
      "---  ------        --------------  -----  \n",
      " 0   item_id       15963 non-null  int64  \n",
      " 1   content_type  15963 non-null  object \n",
      " 2   title         15963 non-null  object \n",
      " 3   title_orig    11218 non-null  object \n",
      " 4   release_year  15865 non-null  float64\n",
      " 5   genres        15963 non-null  object \n",
      " 6   countries     15926 non-null  object \n",
      " 7   for_kids      566 non-null    float64\n",
      " 8   age_rating    15961 non-null  float64\n",
      " 9   studios       1065 non-null   object \n",
      " 10  directors     14454 non-null  object \n",
      " 11  actors        13344 non-null  object \n",
      " 12  description   15961 non-null  object \n",
      " 13  keywords      15540 non-null  object \n",
      "dtypes: float64(3), int64(1), object(10)\n",
      "memory usage: 1.7+ MB\n"
     ]
    }
   ],
   "source": [
    "items.info()"
   ]
  },
  {
   "cell_type": "code",
   "execution_count": 46,
   "id": "2bce2ac5-464d-4281-bfad-04db0199705b",
   "metadata": {},
   "outputs": [
    {
     "data": {
      "text/plain": [
       "0"
      ]
     },
     "execution_count": 46,
     "metadata": {},
     "output_type": "execute_result"
    }
   ],
   "source": [
    "items.duplicated().sum()"
   ]
  },
  {
   "cell_type": "markdown",
   "id": "823ec00c-4192-4b27-b853-d3f7767c02c9",
   "metadata": {},
   "source": [
    "# Cast features to needed format"
   ]
  },
  {
   "cell_type": "code",
   "execution_count": 37,
   "id": "20ad7b0a-5271-4b17-a737-58d22aa04d24",
   "metadata": {},
   "outputs": [],
   "source": [
    "def make_feature(data, main_col, feature_col):\n",
    "    feature = data[[main_col, feature_col]].rename(columns={feature_col: 'value'})\n",
    "    feature['feature'] = feature_col\n",
    "    return feature"
   ]
  },
  {
   "cell_type": "markdown",
   "id": "be04d8bc-3815-4e5e-8f07-1f43a602fbf4",
   "metadata": {
    "jp-MarkdownHeadingCollapsed": true,
    "tags": []
   },
   "source": [
    "## User features"
   ]
  },
  {
   "cell_type": "code",
   "execution_count": 38,
   "id": "978f5c73",
   "metadata": {
    "tags": []
   },
   "outputs": [],
   "source": [
    "age = make_feature(users, 'user_id', 'age')\n",
    "sex = make_feature(users, 'user_id', 'sex')\n",
    "has_kids = make_feature(users, 'user_id', 'kids_flg')\n",
    "income = make_feature(users, 'user_id', 'income')\n"
   ]
  },
  {
   "cell_type": "code",
   "execution_count": 39,
   "id": "f04ed14e-8069-4831-8551-d763709fb616",
   "metadata": {},
   "outputs": [],
   "source": [
    "user_features = pd.concat((age, sex, has_kids, income))"
   ]
  },
  {
   "cell_type": "code",
   "execution_count": 40,
   "id": "c0262789-50fe-4d20-9cb2-fcac892fe063",
   "metadata": {},
   "outputs": [
    {
     "data": {
      "text/html": [
       "<div>\n",
       "<style scoped>\n",
       "    .dataframe tbody tr th:only-of-type {\n",
       "        vertical-align: middle;\n",
       "    }\n",
       "\n",
       "    .dataframe tbody tr th {\n",
       "        vertical-align: top;\n",
       "    }\n",
       "\n",
       "    .dataframe thead th {\n",
       "        text-align: right;\n",
       "    }\n",
       "</style>\n",
       "<table border=\"1\" class=\"dataframe\">\n",
       "  <thead>\n",
       "    <tr style=\"text-align: right;\">\n",
       "      <th></th>\n",
       "      <th>user_id</th>\n",
       "      <th>value</th>\n",
       "      <th>feature</th>\n",
       "    </tr>\n",
       "  </thead>\n",
       "  <tbody>\n",
       "    <tr>\n",
       "      <th>0</th>\n",
       "      <td>973171</td>\n",
       "      <td>age_25_34</td>\n",
       "      <td>age</td>\n",
       "    </tr>\n",
       "    <tr>\n",
       "      <th>1</th>\n",
       "      <td>962099</td>\n",
       "      <td>age_18_24</td>\n",
       "      <td>age</td>\n",
       "    </tr>\n",
       "    <tr>\n",
       "      <th>2</th>\n",
       "      <td>1047345</td>\n",
       "      <td>age_45_54</td>\n",
       "      <td>age</td>\n",
       "    </tr>\n",
       "    <tr>\n",
       "      <th>3</th>\n",
       "      <td>721985</td>\n",
       "      <td>age_45_54</td>\n",
       "      <td>age</td>\n",
       "    </tr>\n",
       "    <tr>\n",
       "      <th>4</th>\n",
       "      <td>704055</td>\n",
       "      <td>age_35_44</td>\n",
       "      <td>age</td>\n",
       "    </tr>\n",
       "    <tr>\n",
       "      <th>...</th>\n",
       "      <td>...</td>\n",
       "      <td>...</td>\n",
       "      <td>...</td>\n",
       "    </tr>\n",
       "    <tr>\n",
       "      <th>840192</th>\n",
       "      <td>339025</td>\n",
       "      <td>income_0_20</td>\n",
       "      <td>income</td>\n",
       "    </tr>\n",
       "    <tr>\n",
       "      <th>840193</th>\n",
       "      <td>983617</td>\n",
       "      <td>income_20_40</td>\n",
       "      <td>income</td>\n",
       "    </tr>\n",
       "    <tr>\n",
       "      <th>840194</th>\n",
       "      <td>251008</td>\n",
       "      <td>NaN</td>\n",
       "      <td>income</td>\n",
       "    </tr>\n",
       "    <tr>\n",
       "      <th>840195</th>\n",
       "      <td>590706</td>\n",
       "      <td>NaN</td>\n",
       "      <td>income</td>\n",
       "    </tr>\n",
       "    <tr>\n",
       "      <th>840196</th>\n",
       "      <td>166555</td>\n",
       "      <td>income_20_40</td>\n",
       "      <td>income</td>\n",
       "    </tr>\n",
       "  </tbody>\n",
       "</table>\n",
       "<p>3360788 rows × 3 columns</p>\n",
       "</div>"
      ],
      "text/plain": [
       "        user_id         value feature\n",
       "0        973171     age_25_34     age\n",
       "1        962099     age_18_24     age\n",
       "2       1047345     age_45_54     age\n",
       "3        721985     age_45_54     age\n",
       "4        704055     age_35_44     age\n",
       "...         ...           ...     ...\n",
       "840192   339025   income_0_20  income\n",
       "840193   983617  income_20_40  income\n",
       "840194   251008           NaN  income\n",
       "840195   590706           NaN  income\n",
       "840196   166555  income_20_40  income\n",
       "\n",
       "[3360788 rows x 3 columns]"
      ]
     },
     "execution_count": 40,
     "metadata": {},
     "output_type": "execute_result"
    }
   ],
   "source": [
    "user_features"
   ]
  },
  {
   "cell_type": "code",
   "execution_count": 41,
   "id": "d1fd9971-69c8-40e5-badd-0d70e17a1d25",
   "metadata": {},
   "outputs": [],
   "source": [
    "user_features = user_features[user_features.user_id.isin(interactions.user_id)]"
   ]
  },
  {
   "cell_type": "code",
   "execution_count": null,
   "id": "bb509661-cf8c-4c58-bcd4-a07da7d3e1bb",
   "metadata": {},
   "outputs": [],
   "source": []
  },
  {
   "cell_type": "markdown",
   "id": "3b2011ed-9767-4c5b-9110-a4c003228c35",
   "metadata": {},
   "source": [
    "## Item features"
   ]
  },
  {
   "cell_type": "code",
   "execution_count": 59,
   "id": "b5dd9fb3-b961-4e0d-8524-5b55c08f8410",
   "metadata": {},
   "outputs": [],
   "source": [
    "items_cat_columns = [\n",
    "    'content_type',\n",
    "    'countries',\n",
    "    'for_kids',\n",
    "    'studios',\n",
    "    'age_rating',\n",
    "    'for_kids',\n",
    "    \n",
    "]"
   ]
  },
  {
   "cell_type": "code",
   "execution_count": 60,
   "id": "c3557a7d",
   "metadata": {},
   "outputs": [],
   "source": [
    "items['genre'] = items.genres.str.split(',')"
   ]
  },
  {
   "cell_type": "code",
   "execution_count": 66,
   "id": "4d2b7ae3-85af-4845-a533-4a858ae784bd",
   "metadata": {},
   "outputs": [],
   "source": [
    "items['country'] = items.countries.str.split(', ')"
   ]
  },
  {
   "cell_type": "code",
   "execution_count": null,
   "id": "53369d5d-3048-41cd-8bf0-4c530c690524",
   "metadata": {},
   "outputs": [],
   "source": []
  },
  {
   "cell_type": "code",
   "execution_count": 61,
   "id": "8994383e-8338-45a3-8b13-3dca27e043ab",
   "metadata": {},
   "outputs": [
    {
     "data": {
      "image/png": "[encoded data removed]",
      "text/plain": [
       "<Figure size 640x480 with 1 Axes>"
      ]
     },
     "metadata": {},
     "output_type": "display_data"
    }
   ],
   "source": [
    "sns.countplot(x=items.release_year.astype(float), color='C0');"
   ]
  },
  {
   "cell_type": "code",
   "execution_count": 62,
   "id": "7daa05bb-a4f3-4f21-8bdb-7cfcda2837c6",
   "metadata": {},
   "outputs": [],
   "source": [
    "_, bins = pd.qcut(items.release_year, 10, retbins=True)\n",
    "\n",
    "labels = bins[:-1]\n",
    "year_feature = pd.DataFrame(\n",
    "    {\n",
    "        Columns.Item: items[Columns.Item],\n",
    "        \"value\": pd.cut(items[\"release_year\"], bins=bins, labels=bins[:-1]),\n",
    "        \"feature\": \"release_year\",\n",
    "    }\n",
    ")"
   ]
  },
  {
   "cell_type": "code",
   "execution_count": 63,
   "id": "c0855f6c-cd65-4778-85fa-2b801d1c0bca",
   "metadata": {},
   "outputs": [
    {
     "data": {
      "text/html": [
       "<div>\n",
       "<style scoped>\n",
       "    .dataframe tbody tr th:only-of-type {\n",
       "        vertical-align: middle;\n",
       "    }\n",
       "\n",
       "    .dataframe tbody tr th {\n",
       "        vertical-align: top;\n",
       "    }\n",
       "\n",
       "    .dataframe thead th {\n",
       "        text-align: right;\n",
       "    }\n",
       "</style>\n",
       "<table border=\"1\" class=\"dataframe\">\n",
       "  <thead>\n",
       "    <tr style=\"text-align: right;\">\n",
       "      <th></th>\n",
       "      <th>item_id</th>\n",
       "      <th>value</th>\n",
       "      <th>feature</th>\n",
       "    </tr>\n",
       "  </thead>\n",
       "  <tbody>\n",
       "    <tr>\n",
       "      <th>0</th>\n",
       "      <td>10711</td>\n",
       "      <td>1983.0</td>\n",
       "      <td>release_year</td>\n",
       "    </tr>\n",
       "    <tr>\n",
       "      <th>1</th>\n",
       "      <td>2508</td>\n",
       "      <td>2012.0</td>\n",
       "      <td>release_year</td>\n",
       "    </tr>\n",
       "    <tr>\n",
       "      <th>2</th>\n",
       "      <td>10716</td>\n",
       "      <td>2009.0</td>\n",
       "      <td>release_year</td>\n",
       "    </tr>\n",
       "    <tr>\n",
       "      <th>3</th>\n",
       "      <td>7868</td>\n",
       "      <td>2014.0</td>\n",
       "      <td>release_year</td>\n",
       "    </tr>\n",
       "    <tr>\n",
       "      <th>4</th>\n",
       "      <td>16268</td>\n",
       "      <td>1897.0</td>\n",
       "      <td>release_year</td>\n",
       "    </tr>\n",
       "  </tbody>\n",
       "</table>\n",
       "</div>"
      ],
      "text/plain": [
       "   item_id   value       feature\n",
       "0    10711  1983.0  release_year\n",
       "1     2508  2012.0  release_year\n",
       "2    10716  2009.0  release_year\n",
       "3     7868  2014.0  release_year\n",
       "4    16268  1897.0  release_year"
      ]
     },
     "execution_count": 63,
     "metadata": {},
     "output_type": "execute_result"
    }
   ],
   "source": [
    "year_feature.head()"
   ]
  },
  {
   "cell_type": "code",
   "execution_count": 64,
   "id": "35444e41-1c58-4e41-aa12-a3c6eba31a1a",
   "metadata": {},
   "outputs": [
    {
     "data": {
      "text/plain": [
       "<AxesSubplot: xlabel='value', ylabel='count'>"
      ]
     },
     "execution_count": 64,
     "metadata": {},
     "output_type": "execute_result"
    },
    {
     "data": {
      "image/png": "[encoded data removed]",
      "text/plain": [
       "<Figure size 640x480 with 1 Axes>"
      ]
     },
     "metadata": {},
     "output_type": "display_data"
    }
   ],
   "source": [
    "sns.countplot(x=year_feature.value, color='C0')"
   ]
  },
  {
   "cell_type": "code",
   "execution_count": 65,
   "id": "5428d3a6-384c-458b-840a-f13e0c37e502",
   "metadata": {},
   "outputs": [
    {
     "data": {
      "text/html": [
       "<div>\n",
       "<style scoped>\n",
       "    .dataframe tbody tr th:only-of-type {\n",
       "        vertical-align: middle;\n",
       "    }\n",
       "\n",
       "    .dataframe tbody tr th {\n",
       "        vertical-align: top;\n",
       "    }\n",
       "\n",
       "    .dataframe thead th {\n",
       "        text-align: right;\n",
       "    }\n",
       "</style>\n",
       "<table border=\"1\" class=\"dataframe\">\n",
       "  <thead>\n",
       "    <tr style=\"text-align: right;\">\n",
       "      <th></th>\n",
       "      <th>item_id</th>\n",
       "      <th>value</th>\n",
       "      <th>feature</th>\n",
       "    </tr>\n",
       "  </thead>\n",
       "  <tbody>\n",
       "    <tr>\n",
       "      <th>0</th>\n",
       "      <td>10711</td>\n",
       "      <td>драмы</td>\n",
       "      <td>genre</td>\n",
       "    </tr>\n",
       "    <tr>\n",
       "      <th>0</th>\n",
       "      <td>10711</td>\n",
       "      <td>зарубежные</td>\n",
       "      <td>genre</td>\n",
       "    </tr>\n",
       "    <tr>\n",
       "      <th>0</th>\n",
       "      <td>10711</td>\n",
       "      <td>детективы</td>\n",
       "      <td>genre</td>\n",
       "    </tr>\n",
       "    <tr>\n",
       "      <th>0</th>\n",
       "      <td>10711</td>\n",
       "      <td>мелодрамы</td>\n",
       "      <td>genre</td>\n",
       "    </tr>\n",
       "    <tr>\n",
       "      <th>1</th>\n",
       "      <td>2508</td>\n",
       "      <td>зарубежные</td>\n",
       "      <td>genre</td>\n",
       "    </tr>\n",
       "  </tbody>\n",
       "</table>\n",
       "</div>"
      ],
      "text/plain": [
       "   item_id        value feature\n",
       "0    10711        драмы   genre\n",
       "0    10711   зарубежные   genre\n",
       "0    10711    детективы   genre\n",
       "0    10711    мелодрамы   genre\n",
       "1     2508   зарубежные   genre"
      ]
     },
     "execution_count": 65,
     "metadata": {},
     "output_type": "execute_result"
    }
   ],
   "source": [
    "genre_feature = items[[Columns.Item, \"genre\"]].explode(\"genre\")\n",
    "genre_feature.columns = [Columns.Item, \"value\"]\n",
    "genre_feature[\"feature\"] = \"genre\"\n",
    "genre_feature.head()"
   ]
  },
  {
   "cell_type": "code",
   "execution_count": 76,
   "id": "547f378a-49af-4d50-9452-ccccbd808d4d",
   "metadata": {},
   "outputs": [
    {
     "data": {
      "text/html": [
       "<div>\n",
       "<style scoped>\n",
       "    .dataframe tbody tr th:only-of-type {\n",
       "        vertical-align: middle;\n",
       "    }\n",
       "\n",
       "    .dataframe tbody tr th {\n",
       "        vertical-align: top;\n",
       "    }\n",
       "\n",
       "    .dataframe thead th {\n",
       "        text-align: right;\n",
       "    }\n",
       "</style>\n",
       "<table border=\"1\" class=\"dataframe\">\n",
       "  <thead>\n",
       "    <tr style=\"text-align: right;\">\n",
       "      <th></th>\n",
       "      <th>item_id</th>\n",
       "      <th>value</th>\n",
       "      <th>feature</th>\n",
       "    </tr>\n",
       "  </thead>\n",
       "  <tbody>\n",
       "    <tr>\n",
       "      <th>0</th>\n",
       "      <td>10711</td>\n",
       "      <td>Испания</td>\n",
       "      <td>country</td>\n",
       "    </tr>\n",
       "    <tr>\n",
       "      <th>1</th>\n",
       "      <td>2508</td>\n",
       "      <td>США</td>\n",
       "      <td>country</td>\n",
       "    </tr>\n",
       "    <tr>\n",
       "      <th>2</th>\n",
       "      <td>10716</td>\n",
       "      <td>Канада</td>\n",
       "      <td>country</td>\n",
       "    </tr>\n",
       "    <tr>\n",
       "      <th>3</th>\n",
       "      <td>7868</td>\n",
       "      <td>Великобритания</td>\n",
       "      <td>country</td>\n",
       "    </tr>\n",
       "    <tr>\n",
       "      <th>4</th>\n",
       "      <td>16268</td>\n",
       "      <td>СССР</td>\n",
       "      <td>country</td>\n",
       "    </tr>\n",
       "  </tbody>\n",
       "</table>\n",
       "</div>"
      ],
      "text/plain": [
       "   item_id           value  feature\n",
       "0    10711         Испания  country\n",
       "1     2508             США  country\n",
       "2    10716          Канада  country\n",
       "3     7868  Великобритания  country\n",
       "4    16268            СССР  country"
      ]
     },
     "execution_count": 76,
     "metadata": {},
     "output_type": "execute_result"
    }
   ],
   "source": [
    "country_feature = items[[Columns.Item, 'country']].explode('country')\n",
    "country_feature.columns = [Columns.Item, 'value']\n",
    "country_feature['feature'] = 'country'\n",
    "country_feature.head()"
   ]
  },
  {
   "cell_type": "code",
   "execution_count": null,
   "id": "e9117136-1aaf-4b40-bafa-7de3186ab2ff",
   "metadata": {},
   "outputs": [],
   "source": []
  },
  {
   "cell_type": "code",
   "execution_count": 44,
   "id": "7c25c248-4507-40ea-8987-abc2ba6feae1",
   "metadata": {},
   "outputs": [],
   "source": [
    "item_feat = pd.concat([genre_feature, year_feature])\n",
    "item_feat = item_feat[item_feat[Columns.Item].isin(interactions[Columns.Item])]"
   ]
  },
  {
   "cell_type": "code",
   "execution_count": 45,
   "id": "2fcfa00c",
   "metadata": {},
   "outputs": [
    {
     "data": {
      "text/plain": [
       "25264"
      ]
     },
     "execution_count": 45,
     "metadata": {},
     "output_type": "execute_result"
    }
   ],
   "source": [
    "gc.collect()"
   ]
  },
  {
   "cell_type": "markdown",
   "id": "e88b66a6-c70c-4a7b-8b32-94942aaa88cc",
   "metadata": {},
   "source": [
    "# Constuct dataset"
   ]
  },
  {
   "cell_type": "code",
   "execution_count": 46,
   "id": "deca3928",
   "metadata": {},
   "outputs": [],
   "source": [
    "dataset = Dataset.construct(\n",
    "    interactions_df=interactions,\n",
    "    user_features_df=user_features,\n",
    "    cat_user_features=['sex', 'has_kids'],\n",
    "    item_features_df=item_feat,\n",
    "    cat_item_features=['genre', 'release_year']\n",
    ")"
   ]
  },
  {
   "cell_type": "markdown",
   "id": "16f1884f-181e-4194-afe1-fd237a1020b6",
   "metadata": {},
   "source": [
    "# Validation"
   ]
  },
  {
   "cell_type": "code",
   "execution_count": 96,
   "id": "457d3f86-5446-415c-a4c6-3588d8401bd0",
   "metadata": {
    "ExecuteTime": {
     "end_time": "2022-11-22T11:56:10.124391Z",
     "start_time": "2022-11-22T11:56:10.079393Z"
    }
   },
   "outputs": [],
   "source": [
    "from rectools.model_selection import TimeRangeSplitter\n",
    "from rectools.metrics import MAP, Recall, calc_metrics\n",
    "\n",
    "from rectools.models.popular import PopularModel\n",
    "from rectools.models.popular_in_category import PopularInCategoryModel"
   ]
  },
  {
   "cell_type": "code",
   "execution_count": 97,
   "id": "8a4000c2-cb60-4f53-995a-dc15646ccd0e",
   "metadata": {},
   "outputs": [],
   "source": [
    "from models import UsersCoverageModel # custom n% coverage model"
   ]
  },
  {
   "cell_type": "code",
   "execution_count": 119,
   "id": "17718dad-a00d-4c3d-b5ff-8f69dc4cbadc",
   "metadata": {
    "ExecuteTime": {
     "end_time": "2022-11-22T11:56:10.278392Z",
     "start_time": "2022-11-22T11:56:10.175393Z"
    }
   },
   "outputs": [],
   "source": [
    "daily_inters = interactions.groupby(Columns.Datetime)[Columns.User].agg('count')\n",
    "daily_inters.name = 'interactions'\n",
    "# daily_inters"
   ]
  },
  {
   "cell_type": "code",
   "execution_count": 125,
   "id": "e7751282-3018-4360-9ebe-8d90f60ae96d",
   "metadata": {},
   "outputs": [
    {
     "data": {
      "image/png": "[encoded data removed]",
      "text/plain": [
       "<Figure size 640x480 with 1 Axes>"
      ]
     },
     "metadata": {},
     "output_type": "display_data"
    }
   ],
   "source": [
    "daily_inters.plot()\n",
    "plt.grid();"
   ]
  },
  {
   "cell_type": "code",
   "execution_count": 128,
   "id": "cff13f82-300c-4c73-adb7-e47e8ca88189",
   "metadata": {},
   "outputs": [
    {
     "data": {
      "image/png": "[encoded data removed]",
      "text/plain": [
       "<Figure size 640x480 with 1 Axes>"
      ]
     },
     "metadata": {},
     "output_type": "display_data"
    }
   ],
   "source": [
    "daily_inters[-28:].plot()\n",
    "plt.grid(which='both');"
   ]
  },
  {
   "cell_type": "code",
   "execution_count": 129,
   "id": "ab9e3781-a764-4a8d-b91f-6d354576264b",
   "metadata": {
    "ExecuteTime": {
     "end_time": "2022-11-22T11:56:13.101390Z",
     "start_time": "2022-11-22T11:56:13.088392Z"
    }
   },
   "outputs": [
    {
     "data": {
      "text/plain": [
       "6"
      ]
     },
     "execution_count": 129,
     "metadata": {},
     "output_type": "execute_result"
    }
   ],
   "source": [
    "pd.to_datetime('2021-08-01').weekday()"
   ]
  },
  {
   "cell_type": "markdown",
   "id": "e9bf3afd-5b38-42f6-b8a9-020a3939d36f",
   "metadata": {},
   "source": [
    "Trend is weekly. Lets define `pandas.date_range` with test fold will be the size of a week"
   ]
  },
  {
   "cell_type": "code",
   "execution_count": 103,
   "id": "c6ec817d-2785-4543-9ce2-e609cf305d65",
   "metadata": {
    "ExecuteTime": {
     "end_time": "2022-11-22T11:56:13.117394Z",
     "start_time": "2022-11-22T11:56:13.103391Z"
    }
   },
   "outputs": [
    {
     "name": "stdout",
     "output_type": "stream",
     "text": [
      "\n",
      "    start_date: 2021-07-26 00:00:00\n",
      "    last_date: 2021-08-15 00:00:00\n",
      "    periods: 4\n",
      "    freq: 7D\n",
      "\n"
     ]
    },
    {
     "data": {
      "text/plain": [
       "DatetimeIndex(['2021-07-26', '2021-08-02', '2021-08-09', '2021-08-16'], dtype='datetime64[ns]', freq='7D')"
      ]
     },
     "execution_count": 103,
     "metadata": {},
     "output_type": "execute_result"
    }
   ],
   "source": [
    "n_folds = 3\n",
    "unit = \"D\"\n",
    "n_units = 7\n",
    "# last_date = interactions[Columns.Datetime].max().normalize()\n",
    "last_date = pd.to_datetime('15-08-2021', format='%d-%m-%Y')\n",
    "\n",
    "\n",
    "start_date = last_date - pd.Timedelta(n_folds * n_units - 1, unit=unit)\n",
    "periods = n_folds + 1\n",
    "freq = f\"{n_units}{unit}\"\n",
    "print(f\"\"\"\n",
    "    start_date: {start_date}\n",
    "    last_date: {last_date}\n",
    "    periods: {periods}\n",
    "    freq: {freq}\n",
    "\"\"\")\n",
    "\n",
    "date_range = pd.date_range(start=start_date, periods=periods, freq=freq, tz=last_date.tz)\n",
    "date_range"
   ]
  },
  {
   "cell_type": "code",
   "execution_count": 105,
   "id": "117a848b-3f7d-4f1f-b471-9975d49cac6e",
   "metadata": {
    "ExecuteTime": {
     "end_time": "2022-11-22T11:56:13.193393Z",
     "start_time": "2022-11-22T11:56:13.120393Z"
    }
   },
   "outputs": [],
   "source": [
    "inters = Interactions(interactions)"
   ]
  },
  {
   "cell_type": "code",
   "execution_count": 106,
   "id": "70b6f051-e78b-44c8-8d42-2e8061fb81b6",
   "metadata": {
    "ExecuteTime": {
     "end_time": "2022-11-22T11:56:13.224393Z",
     "start_time": "2022-11-22T11:56:13.196393Z"
    }
   },
   "outputs": [
    {
     "data": {
      "text/html": [
       "<div>\n",
       "<style scoped>\n",
       "    .dataframe tbody tr th:only-of-type {\n",
       "        vertical-align: middle;\n",
       "    }\n",
       "\n",
       "    .dataframe tbody tr th {\n",
       "        vertical-align: top;\n",
       "    }\n",
       "\n",
       "    .dataframe thead th {\n",
       "        text-align: right;\n",
       "    }\n",
       "</style>\n",
       "<table border=\"1\" class=\"dataframe\">\n",
       "  <thead>\n",
       "    <tr style=\"text-align: right;\">\n",
       "      <th></th>\n",
       "      <th>user_id</th>\n",
       "      <th>item_id</th>\n",
       "      <th>datetime</th>\n",
       "      <th>weight</th>\n",
       "      <th>watched_pct</th>\n",
       "    </tr>\n",
       "  </thead>\n",
       "  <tbody>\n",
       "    <tr>\n",
       "      <th>0</th>\n",
       "      <td>176549</td>\n",
       "      <td>9506</td>\n",
       "      <td>2021-05-11</td>\n",
       "      <td>4250.0</td>\n",
       "      <td>72.0</td>\n",
       "    </tr>\n",
       "    <tr>\n",
       "      <th>1</th>\n",
       "      <td>699317</td>\n",
       "      <td>1659</td>\n",
       "      <td>2021-05-29</td>\n",
       "      <td>8317.0</td>\n",
       "      <td>100.0</td>\n",
       "    </tr>\n",
       "    <tr>\n",
       "      <th>2</th>\n",
       "      <td>656683</td>\n",
       "      <td>7107</td>\n",
       "      <td>2021-05-09</td>\n",
       "      <td>10.0</td>\n",
       "      <td>0.0</td>\n",
       "    </tr>\n",
       "    <tr>\n",
       "      <th>3</th>\n",
       "      <td>864613</td>\n",
       "      <td>7638</td>\n",
       "      <td>2021-07-05</td>\n",
       "      <td>14483.0</td>\n",
       "      <td>100.0</td>\n",
       "    </tr>\n",
       "    <tr>\n",
       "      <th>4</th>\n",
       "      <td>964868</td>\n",
       "      <td>9506</td>\n",
       "      <td>2021-04-30</td>\n",
       "      <td>6725.0</td>\n",
       "      <td>100.0</td>\n",
       "    </tr>\n",
       "    <tr>\n",
       "      <th>...</th>\n",
       "      <td>...</td>\n",
       "      <td>...</td>\n",
       "      <td>...</td>\n",
       "      <td>...</td>\n",
       "      <td>...</td>\n",
       "    </tr>\n",
       "    <tr>\n",
       "      <th>5476246</th>\n",
       "      <td>648596</td>\n",
       "      <td>12225</td>\n",
       "      <td>2021-08-13</td>\n",
       "      <td>76.0</td>\n",
       "      <td>0.0</td>\n",
       "    </tr>\n",
       "    <tr>\n",
       "      <th>5476247</th>\n",
       "      <td>546862</td>\n",
       "      <td>9673</td>\n",
       "      <td>2021-04-13</td>\n",
       "      <td>2308.0</td>\n",
       "      <td>49.0</td>\n",
       "    </tr>\n",
       "    <tr>\n",
       "      <th>5476248</th>\n",
       "      <td>697262</td>\n",
       "      <td>15297</td>\n",
       "      <td>2021-08-20</td>\n",
       "      <td>18307.0</td>\n",
       "      <td>63.0</td>\n",
       "    </tr>\n",
       "    <tr>\n",
       "      <th>5476249</th>\n",
       "      <td>384202</td>\n",
       "      <td>16197</td>\n",
       "      <td>2021-04-19</td>\n",
       "      <td>6203.0</td>\n",
       "      <td>100.0</td>\n",
       "    </tr>\n",
       "    <tr>\n",
       "      <th>5476250</th>\n",
       "      <td>319709</td>\n",
       "      <td>4436</td>\n",
       "      <td>2021-08-15</td>\n",
       "      <td>3921.0</td>\n",
       "      <td>45.0</td>\n",
       "    </tr>\n",
       "  </tbody>\n",
       "</table>\n",
       "<p>5476251 rows × 5 columns</p>\n",
       "</div>"
      ],
      "text/plain": [
       "         user_id  item_id   datetime   weight  watched_pct\n",
       "0         176549     9506 2021-05-11   4250.0         72.0\n",
       "1         699317     1659 2021-05-29   8317.0        100.0\n",
       "2         656683     7107 2021-05-09     10.0          0.0\n",
       "3         864613     7638 2021-07-05  14483.0        100.0\n",
       "4         964868     9506 2021-04-30   6725.0        100.0\n",
       "...          ...      ...        ...      ...          ...\n",
       "5476246   648596    12225 2021-08-13     76.0          0.0\n",
       "5476247   546862     9673 2021-04-13   2308.0         49.0\n",
       "5476248   697262    15297 2021-08-20  18307.0         63.0\n",
       "5476249   384202    16197 2021-04-19   6203.0        100.0\n",
       "5476250   319709     4436 2021-08-15   3921.0         45.0\n",
       "\n",
       "[5476251 rows x 5 columns]"
      ]
     },
     "execution_count": 106,
     "metadata": {},
     "output_type": "execute_result"
    }
   ],
   "source": [
    "inters.df"
   ]
  },
  {
   "cell_type": "code",
   "execution_count": 107,
   "id": "fac77a6a-c4a4-4165-acca-3a7ddf4376e5",
   "metadata": {
    "ExecuteTime": {
     "end_time": "2022-11-22T11:56:13.271394Z",
     "start_time": "2022-11-22T11:56:13.226394Z"
    }
   },
   "outputs": [
    {
     "name": "stdout",
     "output_type": "stream",
     "text": [
      "Real number of folds: 3\n"
     ]
    }
   ],
   "source": [
    "cv = TimeRangeSplitter(\n",
    "    date_range=date_range,\n",
    "    filter_already_seen=True,\n",
    "#     filter_cold_items=True,\n",
    "#     filter_cold_users=True,\n",
    ")\n",
    "print(f\"Real number of folds: {cv.get_n_splits(inters)}\")"
   ]
  },
  {
   "cell_type": "code",
   "execution_count": 108,
   "id": "c80857d4-0290-4a33-8f0f-357f3259fde2",
   "metadata": {},
   "outputs": [
    {
     "data": {
      "text/plain": [
       "array(['genre', 'release_year'], dtype=object)"
      ]
     },
     "execution_count": 108,
     "metadata": {},
     "output_type": "execute_result"
    }
   ],
   "source": [
    "item_feat.feature.unique()"
   ]
  },
  {
   "cell_type": "code",
   "execution_count": 109,
   "id": "3cd2ae03-4f99-4cf3-a2ff-83dc2d081be4",
   "metadata": {},
   "outputs": [
    {
     "data": {
      "text/plain": [
       "11"
      ]
     },
     "execution_count": 109,
     "metadata": {},
     "output_type": "execute_result"
    }
   ],
   "source": [
    "len(item_feat[item_feat.feature == 'release_year']['value'].unique())"
   ]
  },
  {
   "cell_type": "code",
   "execution_count": 110,
   "id": "38f8d664-5415-4ae7-9ea4-ccb2aa1920d2",
   "metadata": {},
   "outputs": [
    {
     "data": {
      "text/plain": [
       "array(['age', 'sex', 'kids_flg', 'income'], dtype=object)"
      ]
     },
     "execution_count": 110,
     "metadata": {},
     "output_type": "execute_result"
    }
   ],
   "source": [
    "user_features.feature.unique()"
   ]
  },
  {
   "cell_type": "code",
   "execution_count": 111,
   "id": "86cdf777-211c-4695-a48b-8179da3ebb64",
   "metadata": {
    "ExecuteTime": {
     "end_time": "2022-11-22T11:56:18.462392Z",
     "start_time": "2022-11-22T11:56:18.450393Z"
    }
   },
   "outputs": [],
   "source": [
    "models = {\n",
    "    'Popular': PopularModel(),\n",
    "    'Popular_period=7d_pty=n_users': PopularModel(period=pd.Timedelta(7, unit='d'), popularity='n_users'),\n",
    "    'Popular_period=7d_pty=n_interactions': PopularModel(period=pd.Timedelta(7, unit='d'), popularity='n_interactions'),\n",
    "    'Popular_period=7d_pty=sum_weight': PopularModel(period=pd.Timedelta(7, unit='d'), popularity='sum_weight'),\n",
    "    'Coverage_percentage=60': UsersCoverageModel(60.),\n",
    "    'Coverage_percentage=80': UsersCoverageModel(80.),\n",
    "    'Popular_categories_feature=genre_n=10': PopularInCategoryModel(category_feature='genre', n_categories=10),\n",
    "    'Popular_categories_feature=release_year_n=10': PopularInCategoryModel(category_feature='release_year', n_categories=10),\n",
    "    'Popular_categories_feature=release_year_n=3': PopularInCategoryModel(category_feature='release_year', n_categories=3),\n",
    "    \n",
    "}\n",
    "\n",
    "K_RECOS = 10\n",
    "metrics = {\n",
    "    \"Recall@10\": Recall(k=K_RECOS),\n",
    "    \"MAP@10\": MAP(k=K_RECOS),\n",
    "}"
   ]
  },
  {
   "cell_type": "code",
   "execution_count": 112,
   "id": "27e41e78-4ea6-4c28-88ae-6a1799df52a9",
   "metadata": {
    "ExecuteTime": {
     "end_time": "2022-11-22T12:14:28.346666Z",
     "start_time": "2022-11-22T11:57:00.171086Z"
    },
    "collapsed": true,
    "jupyter": {
     "outputs_hidden": true
    },
    "tags": []
   },
   "outputs": [
    {
     "data": {
      "application/vnd.jupyter.widget-view+json": {
       "model_id": "1c3d4b81f9d848cba0aeeec02a2b965f",
       "version_major": 2,
       "version_minor": 0
      },
      "text/plain": [
       "  0%|          | 0/3 [00:00<?, ?it/s]"
      ]
     },
     "metadata": {},
     "output_type": "display_data"
    },
    {
     "name": "stdout",
     "output_type": "stream",
     "text": [
      "n_users: 445353 (60.00%)\n"
     ]
    },
    {
     "name": "stderr",
     "output_type": "stream",
     "text": [
      "/Users/ml003/Documents/some_scripts/my_projects/mts_teta/ml/recom-homework/models/models.py:22: FutureWarning: Unlike other reduction functions (e.g. `skew`, `kurtosis`), the default behavior of `mode` typically preserves the axis it acts along. In SciPy 1.11.0, this behavior will change: the default value of `keepdims` will become False, the `axis` over which the statistic is taken will be eliminated, and the value None will no longer be accepted. Set `keepdims` to True or False to avoid this warning.\n",
      "  top_item = mode(matrix[~covered_users].indices)[0][0] # most frequent item among yet unchecked users\n"
     ]
    },
    {
     "name": "stdout",
     "output_type": "stream",
     "text": [
      "n_users: 593804 (80.00%)\n"
     ]
    },
    {
     "name": "stderr",
     "output_type": "stream",
     "text": [
      "/Users/ml003/Documents/some_scripts/my_projects/mts_teta/ml/recom-homework/models/models.py:22: FutureWarning: Unlike other reduction functions (e.g. `skew`, `kurtosis`), the default behavior of `mode` typically preserves the axis it acts along. In SciPy 1.11.0, this behavior will change: the default value of `keepdims` will become False, the `axis` over which the statistic is taken will be eliminated, and the value None will no longer be accepted. Set `keepdims` to True or False to avoid this warning.\n",
      "  top_item = mode(matrix[~covered_users].indices)[0][0] # most frequent item among yet unchecked users\n"
     ]
    },
    {
     "name": "stdout",
     "output_type": "stream",
     "text": [
      "n_users: 478453 (60.00%)\n"
     ]
    },
    {
     "name": "stderr",
     "output_type": "stream",
     "text": [
      "/Users/ml003/Documents/some_scripts/my_projects/mts_teta/ml/recom-homework/models/models.py:22: FutureWarning: Unlike other reduction functions (e.g. `skew`, `kurtosis`), the default behavior of `mode` typically preserves the axis it acts along. In SciPy 1.11.0, this behavior will change: the default value of `keepdims` will become False, the `axis` over which the statistic is taken will be eliminated, and the value None will no longer be accepted. Set `keepdims` to True or False to avoid this warning.\n",
      "  top_item = mode(matrix[~covered_users].indices)[0][0] # most frequent item among yet unchecked users\n"
     ]
    },
    {
     "name": "stdout",
     "output_type": "stream",
     "text": [
      "n_users: 637938 (80.00%)\n"
     ]
    },
    {
     "name": "stderr",
     "output_type": "stream",
     "text": [
      "/Users/ml003/Documents/some_scripts/my_projects/mts_teta/ml/recom-homework/models/models.py:22: FutureWarning: Unlike other reduction functions (e.g. `skew`, `kurtosis`), the default behavior of `mode` typically preserves the axis it acts along. In SciPy 1.11.0, this behavior will change: the default value of `keepdims` will become False, the `axis` over which the statistic is taken will be eliminated, and the value None will no longer be accepted. Set `keepdims` to True or False to avoid this warning.\n",
      "  top_item = mode(matrix[~covered_users].indices)[0][0] # most frequent item among yet unchecked users\n"
     ]
    },
    {
     "name": "stdout",
     "output_type": "stream",
     "text": [
      "n_users: 510293 (60.00%)\n"
     ]
    },
    {
     "name": "stderr",
     "output_type": "stream",
     "text": [
      "/Users/ml003/Documents/some_scripts/my_projects/mts_teta/ml/recom-homework/models/models.py:22: FutureWarning: Unlike other reduction functions (e.g. `skew`, `kurtosis`), the default behavior of `mode` typically preserves the axis it acts along. In SciPy 1.11.0, this behavior will change: the default value of `keepdims` will become False, the `axis` over which the statistic is taken will be eliminated, and the value None will no longer be accepted. Set `keepdims` to True or False to avoid this warning.\n",
      "  top_item = mode(matrix[~covered_users].indices)[0][0] # most frequent item among yet unchecked users\n"
     ]
    },
    {
     "name": "stdout",
     "output_type": "stream",
     "text": [
      "n_users: 680391 (80.00%)\n"
     ]
    },
    {
     "name": "stderr",
     "output_type": "stream",
     "text": [
      "/Users/ml003/Documents/some_scripts/my_projects/mts_teta/ml/recom-homework/models/models.py:22: FutureWarning: Unlike other reduction functions (e.g. `skew`, `kurtosis`), the default behavior of `mode` typically preserves the axis it acts along. In SciPy 1.11.0, this behavior will change: the default value of `keepdims` will become False, the `axis` over which the statistic is taken will be eliminated, and the value None will no longer be accepted. Set `keepdims` to True or False to avoid this warning.\n",
      "  top_item = mode(matrix[~covered_users].indices)[0][0] # most frequent item among yet unchecked users\n"
     ]
    }
   ],
   "source": [
    "fold_iterator = cv.split(inters)\n",
    "results =[]\n",
    "\n",
    "pbar = tqdm(enumerate(fold_iterator), total=cv.get_n_splits(inters))\n",
    "\n",
    "for i_fold, (train_ids, test_ids, _) in pbar:     \n",
    "    pbar.set_description(f'Fold#{i_fold}')\n",
    "    \n",
    "    df_train = inters.df.iloc[train_ids]\n",
    "    item_feat_train = item_feat[item_feat[Columns.Item].isin(df_train[Columns.Item])]\n",
    "    \n",
    "    dataset = Dataset.construct(\n",
    "        interactions_df=df_train,\n",
    "        user_features_df=None,\n",
    "        item_features_df=item_feat_train,\n",
    "        cat_item_features=['genre', 'release_year']\n",
    "    )\n",
    "\n",
    "    df_test = inters.df.iloc[test_ids][Columns.UserItem]\n",
    "    test_users = np.unique(df_test[Columns.User])\n",
    "    \n",
    "    for model_name, model in models.items():\n",
    "        model = deepcopy(model)\n",
    "        model.fit(dataset)\n",
    "        recos = model.recommend(\n",
    "            users=test_users,\n",
    "            dataset=dataset,\n",
    "            k=K_RECOS,\n",
    "            filter_viewed=True,\n",
    "        )\n",
    "        metric_values = calc_metrics(\n",
    "            metrics,\n",
    "            reco=recos,\n",
    "            interactions=df_test,\n",
    "            prev_interactions=df_train\n",
    "        )\n",
    "        res = {\"fold\": i_fold, \"model\": model_name}\n",
    "        res.update(metric_values)\n",
    "        results.append(res)"
   ]
  },
  {
   "cell_type": "code",
   "execution_count": 113,
   "id": "7d3d98ca-cf1e-45b8-baeb-1c6b8bc0c848",
   "metadata": {
    "ExecuteTime": {
     "end_time": "2022-11-22T12:14:28.377700Z",
     "start_time": "2022-11-22T12:14:28.350664Z"
    }
   },
   "outputs": [
    {
     "data": {
      "text/html": [
       "<div>\n",
       "<style scoped>\n",
       "    .dataframe tbody tr th:only-of-type {\n",
       "        vertical-align: middle;\n",
       "    }\n",
       "\n",
       "    .dataframe tbody tr th {\n",
       "        vertical-align: top;\n",
       "    }\n",
       "\n",
       "    .dataframe thead th {\n",
       "        text-align: right;\n",
       "    }\n",
       "</style>\n",
       "<table border=\"1\" class=\"dataframe\">\n",
       "  <thead>\n",
       "    <tr style=\"text-align: right;\">\n",
       "      <th></th>\n",
       "      <th>fold</th>\n",
       "      <th>model</th>\n",
       "      <th>Recall@10</th>\n",
       "      <th>MAP@10</th>\n",
       "    </tr>\n",
       "  </thead>\n",
       "  <tbody>\n",
       "    <tr>\n",
       "      <th>0</th>\n",
       "      <td>0</td>\n",
       "      <td>Popular</td>\n",
       "      <td>0.190050</td>\n",
       "      <td>0.090403</td>\n",
       "    </tr>\n",
       "    <tr>\n",
       "      <th>1</th>\n",
       "      <td>0</td>\n",
       "      <td>Popular_period=7d_pty=n_users</td>\n",
       "      <td>0.218901</td>\n",
       "      <td>0.099084</td>\n",
       "    </tr>\n",
       "    <tr>\n",
       "      <th>2</th>\n",
       "      <td>0</td>\n",
       "      <td>Popular_period=7d_pty=n_interactions</td>\n",
       "      <td>0.218901</td>\n",
       "      <td>0.099084</td>\n",
       "    </tr>\n",
       "    <tr>\n",
       "      <th>3</th>\n",
       "      <td>0</td>\n",
       "      <td>Popular_period=7d_pty=sum_weight</td>\n",
       "      <td>0.171421</td>\n",
       "      <td>0.078639</td>\n",
       "    </tr>\n",
       "    <tr>\n",
       "      <th>4</th>\n",
       "      <td>0</td>\n",
       "      <td>Coverage_percentage=60</td>\n",
       "      <td>0.167902</td>\n",
       "      <td>0.071873</td>\n",
       "    </tr>\n",
       "    <tr>\n",
       "      <th>5</th>\n",
       "      <td>0</td>\n",
       "      <td>Coverage_percentage=80</td>\n",
       "      <td>0.167902</td>\n",
       "      <td>0.071873</td>\n",
       "    </tr>\n",
       "    <tr>\n",
       "      <th>6</th>\n",
       "      <td>0</td>\n",
       "      <td>Popular_categories_feature=genre_n=10</td>\n",
       "      <td>0.178986</td>\n",
       "      <td>0.078461</td>\n",
       "    </tr>\n",
       "    <tr>\n",
       "      <th>7</th>\n",
       "      <td>0</td>\n",
       "      <td>Popular_categories_feature=release_year_n=10</td>\n",
       "      <td>0.115974</td>\n",
       "      <td>0.059220</td>\n",
       "    </tr>\n",
       "    <tr>\n",
       "      <th>8</th>\n",
       "      <td>0</td>\n",
       "      <td>Popular_categories_feature=release_year_n=3</td>\n",
       "      <td>0.160597</td>\n",
       "      <td>0.067859</td>\n",
       "    </tr>\n",
       "    <tr>\n",
       "      <th>9</th>\n",
       "      <td>1</td>\n",
       "      <td>Popular</td>\n",
       "      <td>0.181957</td>\n",
       "      <td>0.089605</td>\n",
       "    </tr>\n",
       "    <tr>\n",
       "      <th>10</th>\n",
       "      <td>1</td>\n",
       "      <td>Popular_period=7d_pty=n_users</td>\n",
       "      <td>0.221495</td>\n",
       "      <td>0.097911</td>\n",
       "    </tr>\n",
       "    <tr>\n",
       "      <th>11</th>\n",
       "      <td>1</td>\n",
       "      <td>Popular_period=7d_pty=n_interactions</td>\n",
       "      <td>0.221495</td>\n",
       "      <td>0.097911</td>\n",
       "    </tr>\n",
       "    <tr>\n",
       "      <th>12</th>\n",
       "      <td>1</td>\n",
       "      <td>Popular_period=7d_pty=sum_weight</td>\n",
       "      <td>0.158602</td>\n",
       "      <td>0.078375</td>\n",
       "    </tr>\n",
       "    <tr>\n",
       "      <th>13</th>\n",
       "      <td>1</td>\n",
       "      <td>Coverage_percentage=60</td>\n",
       "      <td>0.165263</td>\n",
       "      <td>0.074254</td>\n",
       "    </tr>\n",
       "    <tr>\n",
       "      <th>14</th>\n",
       "      <td>1</td>\n",
       "      <td>Coverage_percentage=80</td>\n",
       "      <td>0.165263</td>\n",
       "      <td>0.074254</td>\n",
       "    </tr>\n",
       "    <tr>\n",
       "      <th>15</th>\n",
       "      <td>1</td>\n",
       "      <td>Popular_categories_feature=genre_n=10</td>\n",
       "      <td>0.175673</td>\n",
       "      <td>0.074908</td>\n",
       "    </tr>\n",
       "    <tr>\n",
       "      <th>16</th>\n",
       "      <td>1</td>\n",
       "      <td>Popular_categories_feature=release_year_n=10</td>\n",
       "      <td>0.121551</td>\n",
       "      <td>0.063678</td>\n",
       "    </tr>\n",
       "    <tr>\n",
       "      <th>17</th>\n",
       "      <td>1</td>\n",
       "      <td>Popular_categories_feature=release_year_n=3</td>\n",
       "      <td>0.164426</td>\n",
       "      <td>0.071362</td>\n",
       "    </tr>\n",
       "    <tr>\n",
       "      <th>18</th>\n",
       "      <td>2</td>\n",
       "      <td>Popular</td>\n",
       "      <td>0.172428</td>\n",
       "      <td>0.082607</td>\n",
       "    </tr>\n",
       "    <tr>\n",
       "      <th>19</th>\n",
       "      <td>2</td>\n",
       "      <td>Popular_period=7d_pty=n_users</td>\n",
       "      <td>0.205985</td>\n",
       "      <td>0.090447</td>\n",
       "    </tr>\n",
       "    <tr>\n",
       "      <th>20</th>\n",
       "      <td>2</td>\n",
       "      <td>Popular_period=7d_pty=n_interactions</td>\n",
       "      <td>0.205985</td>\n",
       "      <td>0.090447</td>\n",
       "    </tr>\n",
       "    <tr>\n",
       "      <th>21</th>\n",
       "      <td>2</td>\n",
       "      <td>Popular_period=7d_pty=sum_weight</td>\n",
       "      <td>0.147520</td>\n",
       "      <td>0.067208</td>\n",
       "    </tr>\n",
       "    <tr>\n",
       "      <th>22</th>\n",
       "      <td>2</td>\n",
       "      <td>Coverage_percentage=60</td>\n",
       "      <td>0.152363</td>\n",
       "      <td>0.066987</td>\n",
       "    </tr>\n",
       "    <tr>\n",
       "      <th>23</th>\n",
       "      <td>2</td>\n",
       "      <td>Coverage_percentage=80</td>\n",
       "      <td>0.152363</td>\n",
       "      <td>0.066987</td>\n",
       "    </tr>\n",
       "    <tr>\n",
       "      <th>24</th>\n",
       "      <td>2</td>\n",
       "      <td>Popular_categories_feature=genre_n=10</td>\n",
       "      <td>0.172710</td>\n",
       "      <td>0.076345</td>\n",
       "    </tr>\n",
       "    <tr>\n",
       "      <th>25</th>\n",
       "      <td>2</td>\n",
       "      <td>Popular_categories_feature=release_year_n=10</td>\n",
       "      <td>0.109340</td>\n",
       "      <td>0.056084</td>\n",
       "    </tr>\n",
       "    <tr>\n",
       "      <th>26</th>\n",
       "      <td>2</td>\n",
       "      <td>Popular_categories_feature=release_year_n=3</td>\n",
       "      <td>0.158500</td>\n",
       "      <td>0.065105</td>\n",
       "    </tr>\n",
       "  </tbody>\n",
       "</table>\n",
       "</div>"
      ],
      "text/plain": [
       "    fold                                         model  Recall@10    MAP@10\n",
       "0      0                                       Popular   0.190050  0.090403\n",
       "1      0                 Popular_period=7d_pty=n_users   0.218901  0.099084\n",
       "2      0          Popular_period=7d_pty=n_interactions   0.218901  0.099084\n",
       "3      0              Popular_period=7d_pty=sum_weight   0.171421  0.078639\n",
       "4      0                        Coverage_percentage=60   0.167902  0.071873\n",
       "5      0                        Coverage_percentage=80   0.167902  0.071873\n",
       "6      0         Popular_categories_feature=genre_n=10   0.178986  0.078461\n",
       "7      0  Popular_categories_feature=release_year_n=10   0.115974  0.059220\n",
       "8      0   Popular_categories_feature=release_year_n=3   0.160597  0.067859\n",
       "9      1                                       Popular   0.181957  0.089605\n",
       "10     1                 Popular_period=7d_pty=n_users   0.221495  0.097911\n",
       "11     1          Popular_period=7d_pty=n_interactions   0.221495  0.097911\n",
       "12     1              Popular_period=7d_pty=sum_weight   0.158602  0.078375\n",
       "13     1                        Coverage_percentage=60   0.165263  0.074254\n",
       "14     1                        Coverage_percentage=80   0.165263  0.074254\n",
       "15     1         Popular_categories_feature=genre_n=10   0.175673  0.074908\n",
       "16     1  Popular_categories_feature=release_year_n=10   0.121551  0.063678\n",
       "17     1   Popular_categories_feature=release_year_n=3   0.164426  0.071362\n",
       "18     2                                       Popular   0.172428  0.082607\n",
       "19     2                 Popular_period=7d_pty=n_users   0.205985  0.090447\n",
       "20     2          Popular_period=7d_pty=n_interactions   0.205985  0.090447\n",
       "21     2              Popular_period=7d_pty=sum_weight   0.147520  0.067208\n",
       "22     2                        Coverage_percentage=60   0.152363  0.066987\n",
       "23     2                        Coverage_percentage=80   0.152363  0.066987\n",
       "24     2         Popular_categories_feature=genre_n=10   0.172710  0.076345\n",
       "25     2  Popular_categories_feature=release_year_n=10   0.109340  0.056084\n",
       "26     2   Popular_categories_feature=release_year_n=3   0.158500  0.065105"
      ]
     },
     "execution_count": 113,
     "metadata": {},
     "output_type": "execute_result"
    }
   ],
   "source": [
    "df_results = pd.DataFrame(results)\n",
    "df_results"
   ]
  },
  {
   "cell_type": "code",
   "execution_count": null,
   "id": "64b12f8f-7713-4245-bd06-6358cbbf91d2",
   "metadata": {},
   "outputs": [],
   "source": []
  },
  {
   "cell_type": "code",
   "execution_count": null,
   "id": "066f390f-f259-4540-9fa0-e67f83fb89dd",
   "metadata": {},
   "outputs": [],
   "source": []
  },
  {
   "cell_type": "code",
   "execution_count": 114,
   "id": "b29f61a1-5941-4d1a-b02c-dae5614d36b1",
   "metadata": {
    "ExecuteTime": {
     "end_time": "2022-11-22T12:14:28.408735Z",
     "start_time": "2022-11-22T12:14:28.380705Z"
    }
   },
   "outputs": [
    {
     "data": {
      "text/html": [
       "<div>\n",
       "<style scoped>\n",
       "    .dataframe tbody tr th:only-of-type {\n",
       "        vertical-align: middle;\n",
       "    }\n",
       "\n",
       "    .dataframe tbody tr th {\n",
       "        vertical-align: top;\n",
       "    }\n",
       "\n",
       "    .dataframe thead tr th {\n",
       "        text-align: left;\n",
       "    }\n",
       "\n",
       "    .dataframe thead tr:last-of-type th {\n",
       "        text-align: right;\n",
       "    }\n",
       "</style>\n",
       "<table border=\"1\" class=\"dataframe\">\n",
       "  <thead>\n",
       "    <tr>\n",
       "      <th></th>\n",
       "      <th colspan=\"2\" halign=\"left\">Recall@10</th>\n",
       "      <th colspan=\"2\" halign=\"left\">MAP@10</th>\n",
       "    </tr>\n",
       "    <tr>\n",
       "      <th></th>\n",
       "      <th>mean</th>\n",
       "      <th>std</th>\n",
       "      <th>mean</th>\n",
       "      <th>std</th>\n",
       "    </tr>\n",
       "    <tr>\n",
       "      <th>model</th>\n",
       "      <th></th>\n",
       "      <th></th>\n",
       "      <th></th>\n",
       "      <th></th>\n",
       "    </tr>\n",
       "  </thead>\n",
       "  <tbody>\n",
       "    <tr>\n",
       "      <th>Popular</th>\n",
       "      <td>0.18148</td>\n",
       "      <td>0.00882</td>\n",
       "      <td>0.08754</td>\n",
       "      <td>0.00429</td>\n",
       "    </tr>\n",
       "    <tr>\n",
       "      <th>Popular_period=7d_pty=n_users</th>\n",
       "      <td>0.21546</td>\n",
       "      <td>0.00831</td>\n",
       "      <td>0.09581</td>\n",
       "      <td>0.00468</td>\n",
       "    </tr>\n",
       "    <tr>\n",
       "      <th>Popular_period=7d_pty=n_interactions</th>\n",
       "      <td>0.21546</td>\n",
       "      <td>0.00831</td>\n",
       "      <td>0.09581</td>\n",
       "      <td>0.00468</td>\n",
       "    </tr>\n",
       "    <tr>\n",
       "      <th>Popular_period=7d_pty=sum_weight</th>\n",
       "      <td>0.15918</td>\n",
       "      <td>0.01196</td>\n",
       "      <td>0.07474</td>\n",
       "      <td>0.00652</td>\n",
       "    </tr>\n",
       "    <tr>\n",
       "      <th>Coverage_percentage=60</th>\n",
       "      <td>0.16184</td>\n",
       "      <td>0.00831</td>\n",
       "      <td>0.07104</td>\n",
       "      <td>0.00371</td>\n",
       "    </tr>\n",
       "    <tr>\n",
       "      <th>Coverage_percentage=80</th>\n",
       "      <td>0.16184</td>\n",
       "      <td>0.00831</td>\n",
       "      <td>0.07104</td>\n",
       "      <td>0.00371</td>\n",
       "    </tr>\n",
       "    <tr>\n",
       "      <th>Popular_categories_feature=genre_n=10</th>\n",
       "      <td>0.17579</td>\n",
       "      <td>0.00314</td>\n",
       "      <td>0.07657</td>\n",
       "      <td>0.00179</td>\n",
       "    </tr>\n",
       "    <tr>\n",
       "      <th>Popular_categories_feature=release_year_n=10</th>\n",
       "      <td>0.11562</td>\n",
       "      <td>0.00611</td>\n",
       "      <td>0.05966</td>\n",
       "      <td>0.00382</td>\n",
       "    </tr>\n",
       "    <tr>\n",
       "      <th>Popular_categories_feature=release_year_n=3</th>\n",
       "      <td>0.16117</td>\n",
       "      <td>0.00300</td>\n",
       "      <td>0.06811</td>\n",
       "      <td>0.00314</td>\n",
       "    </tr>\n",
       "  </tbody>\n",
       "</table>\n",
       "</div>"
      ],
      "text/plain": [
       "                                             Recall@10            MAP@10  \\\n",
       "                                                  mean      std     mean   \n",
       "model                                                                      \n",
       "Popular                                        0.18148  0.00882  0.08754   \n",
       "Popular_period=7d_pty=n_users                  0.21546  0.00831  0.09581   \n",
       "Popular_period=7d_pty=n_interactions           0.21546  0.00831  0.09581   \n",
       "Popular_period=7d_pty=sum_weight               0.15918  0.01196  0.07474   \n",
       "Coverage_percentage=60                         0.16184  0.00831  0.07104   \n",
       "Coverage_percentage=80                         0.16184  0.00831  0.07104   \n",
       "Popular_categories_feature=genre_n=10          0.17579  0.00314  0.07657   \n",
       "Popular_categories_feature=release_year_n=10   0.11562  0.00611  0.05966   \n",
       "Popular_categories_feature=release_year_n=3    0.16117  0.00300  0.06811   \n",
       "\n",
       "                                                       \n",
       "                                                  std  \n",
       "model                                                  \n",
       "Popular                                       0.00429  \n",
       "Popular_period=7d_pty=n_users                 0.00468  \n",
       "Popular_period=7d_pty=n_interactions          0.00468  \n",
       "Popular_period=7d_pty=sum_weight              0.00652  \n",
       "Coverage_percentage=60                        0.00371  \n",
       "Coverage_percentage=80                        0.00371  \n",
       "Popular_categories_feature=genre_n=10         0.00179  \n",
       "Popular_categories_feature=release_year_n=10  0.00382  \n",
       "Popular_categories_feature=release_year_n=3   0.00314  "
      ]
     },
     "execution_count": 114,
     "metadata": {},
     "output_type": "execute_result"
    }
   ],
   "source": [
    "# Aggregate metrics by folds and compare models\n",
    "pivot_results = pd.DataFrame(results).drop(columns='fold').groupby(['model'], sort=False).agg(['mean', 'std'])\n",
    "pivot_results.round(5)"
   ]
  },
  {
   "cell_type": "code",
   "execution_count": 115,
   "id": "70bc61eb-6346-402b-afb8-e7b3b5dc7716",
   "metadata": {
    "ExecuteTime": {
     "end_time": "2022-11-22T12:24:08.673222Z",
     "start_time": "2022-11-22T12:24:08.651218Z"
    }
   },
   "outputs": [
    {
     "data": {
      "text/html": [
       "<div>\n",
       "<style scoped>\n",
       "    .dataframe tbody tr th:only-of-type {\n",
       "        vertical-align: middle;\n",
       "    }\n",
       "\n",
       "    .dataframe tbody tr th {\n",
       "        vertical-align: top;\n",
       "    }\n",
       "\n",
       "    .dataframe thead tr th {\n",
       "        text-align: left;\n",
       "    }\n",
       "\n",
       "    .dataframe thead tr:last-of-type th {\n",
       "        text-align: right;\n",
       "    }\n",
       "</style>\n",
       "<table border=\"1\" class=\"dataframe\">\n",
       "  <thead>\n",
       "    <tr>\n",
       "      <th></th>\n",
       "      <th colspan=\"2\" halign=\"left\">Recall@10</th>\n",
       "      <th colspan=\"2\" halign=\"left\">MAP@10</th>\n",
       "    </tr>\n",
       "    <tr>\n",
       "      <th></th>\n",
       "      <th>mean</th>\n",
       "      <th>std</th>\n",
       "      <th>mean</th>\n",
       "      <th>std</th>\n",
       "    </tr>\n",
       "    <tr>\n",
       "      <th>model</th>\n",
       "      <th></th>\n",
       "      <th></th>\n",
       "      <th></th>\n",
       "      <th></th>\n",
       "    </tr>\n",
       "  </thead>\n",
       "  <tbody>\n",
       "    <tr>\n",
       "      <th>Popular_period=7d_pty=n_users</th>\n",
       "      <td>0.21546</td>\n",
       "      <td>0.00831</td>\n",
       "      <td>0.09581</td>\n",
       "      <td>0.00468</td>\n",
       "    </tr>\n",
       "    <tr>\n",
       "      <th>Popular_period=7d_pty=n_interactions</th>\n",
       "      <td>0.21546</td>\n",
       "      <td>0.00831</td>\n",
       "      <td>0.09581</td>\n",
       "      <td>0.00468</td>\n",
       "    </tr>\n",
       "    <tr>\n",
       "      <th>Popular</th>\n",
       "      <td>0.18148</td>\n",
       "      <td>0.00882</td>\n",
       "      <td>0.08754</td>\n",
       "      <td>0.00429</td>\n",
       "    </tr>\n",
       "    <tr>\n",
       "      <th>Popular_categories_feature=genre_n=10</th>\n",
       "      <td>0.17579</td>\n",
       "      <td>0.00314</td>\n",
       "      <td>0.07657</td>\n",
       "      <td>0.00179</td>\n",
       "    </tr>\n",
       "    <tr>\n",
       "      <th>Popular_period=7d_pty=sum_weight</th>\n",
       "      <td>0.15918</td>\n",
       "      <td>0.01196</td>\n",
       "      <td>0.07474</td>\n",
       "      <td>0.00652</td>\n",
       "    </tr>\n",
       "    <tr>\n",
       "      <th>Coverage_percentage=60</th>\n",
       "      <td>0.16184</td>\n",
       "      <td>0.00831</td>\n",
       "      <td>0.07104</td>\n",
       "      <td>0.00371</td>\n",
       "    </tr>\n",
       "    <tr>\n",
       "      <th>Coverage_percentage=80</th>\n",
       "      <td>0.16184</td>\n",
       "      <td>0.00831</td>\n",
       "      <td>0.07104</td>\n",
       "      <td>0.00371</td>\n",
       "    </tr>\n",
       "    <tr>\n",
       "      <th>Popular_categories_feature=release_year_n=3</th>\n",
       "      <td>0.16117</td>\n",
       "      <td>0.00300</td>\n",
       "      <td>0.06811</td>\n",
       "      <td>0.00314</td>\n",
       "    </tr>\n",
       "    <tr>\n",
       "      <th>Popular_categories_feature=release_year_n=10</th>\n",
       "      <td>0.11562</td>\n",
       "      <td>0.00611</td>\n",
       "      <td>0.05966</td>\n",
       "      <td>0.00382</td>\n",
       "    </tr>\n",
       "  </tbody>\n",
       "</table>\n",
       "</div>"
      ],
      "text/plain": [
       "                                             Recall@10            MAP@10  \\\n",
       "                                                  mean      std     mean   \n",
       "model                                                                      \n",
       "Popular_period=7d_pty=n_users                  0.21546  0.00831  0.09581   \n",
       "Popular_period=7d_pty=n_interactions           0.21546  0.00831  0.09581   \n",
       "Popular                                        0.18148  0.00882  0.08754   \n",
       "Popular_categories_feature=genre_n=10          0.17579  0.00314  0.07657   \n",
       "Popular_period=7d_pty=sum_weight               0.15918  0.01196  0.07474   \n",
       "Coverage_percentage=60                         0.16184  0.00831  0.07104   \n",
       "Coverage_percentage=80                         0.16184  0.00831  0.07104   \n",
       "Popular_categories_feature=release_year_n=3    0.16117  0.00300  0.06811   \n",
       "Popular_categories_feature=release_year_n=10   0.11562  0.00611  0.05966   \n",
       "\n",
       "                                                       \n",
       "                                                  std  \n",
       "model                                                  \n",
       "Popular_period=7d_pty=n_users                 0.00468  \n",
       "Popular_period=7d_pty=n_interactions          0.00468  \n",
       "Popular                                       0.00429  \n",
       "Popular_categories_feature=genre_n=10         0.00179  \n",
       "Popular_period=7d_pty=sum_weight              0.00652  \n",
       "Coverage_percentage=60                        0.00371  \n",
       "Coverage_percentage=80                        0.00371  \n",
       "Popular_categories_feature=release_year_n=3   0.00314  \n",
       "Popular_categories_feature=release_year_n=10  0.00382  "
      ]
     },
     "execution_count": 115,
     "metadata": {},
     "output_type": "execute_result"
    }
   ],
   "source": [
    "pivot_results.round(5).sort_values(by=[('MAP@10', 'mean'), ('Recall@10', 'mean')], ascending=False)"
   ]
  },
  {
   "cell_type": "code",
   "execution_count": null,
   "id": "e5199657-44cf-4b0b-ab91-1d8fc05ebd5c",
   "metadata": {},
   "outputs": [],
   "source": []
  }
 ],
 "metadata": {
  "kernelspec": {
   "display_name": "recom",
   "language": "python",
   "name": "recom"
  },
  "language_info": {
   "codemirror_mode": {
    "name": "ipython",
    "version": 3
   },
   "file_extension": ".py",
   "mimetype": "text/x-python",
   "name": "python",
   "nbconvert_exporter": "python",
   "pygments_lexer": "ipython3",
   "version": "3.8.15"
  }
 },
 "nbformat": 4,
 "nbformat_minor": 5
}
