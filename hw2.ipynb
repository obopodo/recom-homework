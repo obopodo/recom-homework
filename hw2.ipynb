{
 "cells": [
  {
   "cell_type": "markdown",
   "id": "6ef0babd-082a-43ba-831e-095fb8b01fc5",
   "metadata": {},
   "source": [
    "# Homework 2\n",
    "Провалидидировать и засабмитить следующие модели в виде классов с fit/recommend:\n",
    "- Любую модель из библиотеки LightFM\n",
    "- Какую-нибудь модель из библиотеки implicit из:\n",
    "  - ALS\n",
    "  - Item-to-Item kNN"
   ]
  },
  {
   "cell_type": "markdown",
   "id": "82896048-3380-4c85-90db-8e569e6c4911",
   "metadata": {},
   "source": [
    "# Imports"
   ]
  },
  {
   "cell_type": "code",
   "execution_count": 1,
   "id": "5a1e6d61-f863-467c-bebc-4216d0215ea1",
   "metadata": {},
   "outputs": [],
   "source": [
    "# turn off bad autocompleter\n",
    "%config Completer.use_jedi = False\n",
    "# magic for modules reloading \n",
    "%load_ext autoreload\n",
    "%autoreload 2"
   ]
  },
  {
   "cell_type": "code",
   "execution_count": 2,
   "id": "ceab0c7b-6c70-4c20-86e0-f6c5cfd8f941",
   "metadata": {},
   "outputs": [],
   "source": [
    "import pandas as pd\n",
    "import numpy as np\n",
    "\n",
    "from copy import deepcopy\n",
    "from tqdm.auto import tqdm\n",
    "# from scipy.stats import mode\n",
    "from pprint import pprint\n",
    "import seaborn as sns\n",
    "import matplotlib.pyplot as plt\n",
    "import gc\n",
    "# import warnings\n",
    "# warnings.filterwarnings(\"ignore\")\n",
    "\n",
    "from rectools import Columns\n",
    "from rectools.dataset import Dataset, Interactions"
   ]
  },
  {
   "cell_type": "markdown",
   "id": "fb9bcab2-d819-4844-81a2-ecc9bffd2558",
   "metadata": {
    "tags": []
   },
   "source": [
    "# Load data\n",
    "Обработка данных такая же как и в ДЗ 1. Поэтому часть клеток я опущу для краткости"
   ]
  },
  {
   "cell_type": "code",
   "execution_count": 3,
   "id": "b9267f95-4359-4a6d-a92b-a01d704a0d14",
   "metadata": {},
   "outputs": [],
   "source": [
    "interactions = pd.read_csv('data_full/interactions.csv')\n",
    "users = pd.read_csv('data_full/users.csv')\n",
    "items = pd.read_csv('data_full/items.csv')"
   ]
  },
  {
   "cell_type": "code",
   "execution_count": 5,
   "id": "4218e162-66ef-46d0-9201-acb3d1c01d69",
   "metadata": {},
   "outputs": [],
   "source": [
    "interactions = interactions.rename(columns = {\n",
    "    'last_watch_dt': Columns.Datetime,\n",
    "    'total_dur': Columns.Weight,\n",
    "})"
   ]
  },
  {
   "cell_type": "code",
   "execution_count": 6,
   "id": "6740331e-34cc-40bf-baff-1c389533fbee",
   "metadata": {
    "tags": []
   },
   "outputs": [],
   "source": [
    "interactions[Columns.Datetime] = pd.to_datetime(interactions[Columns.Datetime])"
   ]
  },
  {
   "cell_type": "markdown",
   "id": "16f1884f-181e-4194-afe1-fd237a1020b6",
   "metadata": {},
   "source": [
    "# Validation"
   ]
  },
  {
   "cell_type": "code",
   "execution_count": 22,
   "id": "79737371-0eb7-487e-a87b-fa7af5b0b9d9",
   "metadata": {
    "ExecuteTime": {
     "end_time": "2022-11-22T11:56:10.124391Z",
     "start_time": "2022-11-22T11:56:10.079393Z"
    }
   },
   "outputs": [
    {
     "name": "stderr",
     "output_type": "stream",
     "text": [
      "/Users/ml003/miniconda3/envs/recom/lib/python3.8/site-packages/lightfm/_lightfm_fast.py:9: UserWarning: LightFM was compiled without OpenMP support. Only a single thread will be used.\n",
      "  warnings.warn(\n"
     ]
    }
   ],
   "source": [
    "from rectools.metrics import MAP, Recall, calc_metrics\n",
    "from validation import CrossValidator"
   ]
  },
  {
   "cell_type": "code",
   "execution_count": 23,
   "id": "79f95b82-8355-4191-80f8-b23c2dfbdff6",
   "metadata": {},
   "outputs": [],
   "source": [
    "from implicit.als import AlternatingLeastSquares"
   ]
  },
  {
   "cell_type": "code",
   "execution_count": 24,
   "id": "c5a6eca7-c76e-4884-b081-e683b8678d3c",
   "metadata": {},
   "outputs": [],
   "source": [
    "from models import ALS, LightFMCustom"
   ]
  },
  {
   "cell_type": "code",
   "execution_count": 64,
   "id": "86cdf777-211c-4695-a48b-8179da3ebb64",
   "metadata": {
    "ExecuteTime": {
     "end_time": "2022-11-22T11:56:18.462392Z",
     "start_time": "2022-11-22T11:56:18.450393Z"
    }
   },
   "outputs": [],
   "source": [
    "K_RECOS = 10\n",
    "random_state = 73\n",
    "\n",
    "models = {\n",
    "    'lf_basic'           : LightFMCustom(random_state=random_state),\n",
    "    'lf_lr=.01_ncomp=20' : LightFMCustom(learning_rate=0.01, no_components=20, random_state=random_state),\n",
    "    'lf_lr=.01_ncomp=40' : LightFMCustom(learning_rate=0.01, no_components=40, random_state=random_state),\n",
    "    'lf_lr=.01_ncomp=100': LightFMCustom(learning_rate=0.01, no_components=100, random_state=random_state),\n",
    "    'lf_loss=bpr'        : LightFMCustom(loss='bpr', random_state=random_state),\n",
    "    'lf_max_sampled=20'  : LightFMCustom(max_sampled=20, random_state=random_state),\n",
    "    \n",
    "    'als_basic'              : ALS(random_state=random_state),\n",
    "    'als_factors=10'         : ALS(factors=10, random_state=random_state),\n",
    "    'als_factors=20'         : ALS(factors=20, random_state=random_state),\n",
    "    'als_factors=40'         : ALS(factors=40, random_state=random_state),\n",
    "    'als_regularization=1e-5': ALS(regularization=1e-5, random_state=random_state),\n",
    "    'als_regularization=1e-3': ALS(regularization=1e-3, random_state=random_state),\n",
    "    'als_regularization=1'   : ALS(regularization=1, random_state=random_state),\n",
    "    'als_iterations=10'      : ALS(iterations=10, random_state=random_state),\n",
    "    'als_iterations=30'      : ALS(iterations=30, random_state=random_state),\n",
    "}\n",
    "\n",
    "metrics = {\n",
    "    \"Recall@10\": Recall(k=K_RECOS),\n",
    "    \"MAP@10\": MAP(k=K_RECOS),\n",
    "}"
   ]
  },
  {
   "cell_type": "code",
   "execution_count": 55,
   "id": "3089f245-791d-49cf-8806-3f41e72a436a",
   "metadata": {},
   "outputs": [
    {
     "data": {
      "text/plain": [
       "1863186   2021-03-13\n",
       "714056    2021-08-22\n",
       "Name: datetime, dtype: datetime64[ns]"
      ]
     },
     "execution_count": 55,
     "metadata": {},
     "output_type": "execute_result"
    }
   ],
   "source": [
    "interactions.sort_values('datetime').datetime.iloc[[0, -1]]"
   ]
  },
  {
   "cell_type": "code",
   "execution_count": 53,
   "id": "79f8fa7a-251e-420f-8031-ca06b324c918",
   "metadata": {},
   "outputs": [],
   "source": [
    "last_date = '2021-08-15'"
   ]
  },
  {
   "cell_type": "code",
   "execution_count": 54,
   "id": "c57eede5-7398-4018-b7ef-1ecb061b3883",
   "metadata": {},
   "outputs": [
    {
     "name": "stdout",
     "output_type": "stream",
     "text": [
      "start_date: 2021-08-10 00:00:00\n",
      "last_date: 2021-08-15 00:00:00\n",
      "periods: 4\n",
      "freq: 2D\n",
      "\n"
     ]
    }
   ],
   "source": [
    "cv = CrossValidator(\n",
    "        last_date,\n",
    "        n_folds = 3,\n",
    "        n_days_per_fold = 2, # так как есть явный недельный цикл\n",
    "        filter_already_seen = True,\n",
    "        filter_cold_items = True,\n",
    "        filter_cold_users = True,\n",
    "    )"
   ]
  },
  {
   "cell_type": "code",
   "execution_count": 56,
   "id": "b4e75742-2297-4bab-a257-6671cc90e05a",
   "metadata": {},
   "outputs": [],
   "source": [
    "interactions_test = interactions[\n",
    "    (interactions.datetime >= '2021-08-09')  \n",
    "]"
   ]
  },
  {
   "cell_type": "code",
   "execution_count": 66,
   "id": "e2e646a0-c760-436f-8dcc-725af9b737fb",
   "metadata": {
    "collapsed": true,
    "jupyter": {
     "outputs_hidden": true
    },
    "tags": []
   },
   "outputs": [
    {
     "name": "stderr",
     "output_type": "stream",
     "text": [
      "/Users/ml003/miniconda3/envs/recom/lib/python3.8/site-packages/rectools/dataset/interactions.py:57: SettingWithCopyWarning: \n",
      "A value is trying to be set on a copy of a slice from a DataFrame.\n",
      "Try using .loc[row_indexer,col_indexer] = value instead\n",
      "\n",
      "See the caveats in the documentation: https://pandas.pydata.org/pandas-docs/stable/user_guide/indexing.html#returning-a-view-versus-a-copy\n",
      "  df[Columns.Weight] = df[Columns.Weight].astype(float)\n",
      "/Users/ml003/miniconda3/envs/recom/lib/python3.8/site-packages/rectools/dataset/interactions.py:62: SettingWithCopyWarning: \n",
      "A value is trying to be set on a copy of a slice from a DataFrame.\n",
      "Try using .loc[row_indexer,col_indexer] = value instead\n",
      "\n",
      "See the caveats in the documentation: https://pandas.pydata.org/pandas-docs/stable/user_guide/indexing.html#returning-a-view-versus-a-copy\n",
      "  df[Columns.Datetime] = df[Columns.Datetime].astype(\"datetime64[ns]\")\n"
     ]
    },
    {
     "data": {
      "application/vnd.jupyter.widget-view+json": {
       "model_id": "1bb0f95f812a41af8fc7a911be814917",
       "version_major": 2,
       "version_minor": 0
      },
      "text/plain": [
       "Fold:   0%|          | 0/3 [00:00<?, ?it/s]"
      ]
     },
     "metadata": {},
     "output_type": "display_data"
    },
    {
     "data": {
      "application/vnd.jupyter.widget-view+json": {
       "model_id": "c183b165311b4aa8b2a04bc7e43867fe",
       "version_major": 2,
       "version_minor": 0
      },
      "text/plain": [
       "Models:   0%|          | 0/15 [00:00<?, ?it/s]"
      ]
     },
     "metadata": {},
     "output_type": "display_data"
    },
    {
     "name": "stdout",
     "output_type": "stream",
     "text": [
      "Fold: 0, Model: lf_basic\n"
     ]
    },
    {
     "data": {
      "application/vnd.jupyter.widget-view+json": {
       "model_id": "cd7544dae69640489c96967196080a04",
       "version_major": 2,
       "version_minor": 0
      },
      "text/plain": [
       "Recoms for users:   0%|          | 0/11970 [00:00<?, ?it/s]"
      ]
     },
     "metadata": {},
     "output_type": "display_data"
    },
    {
     "name": "stdout",
     "output_type": "stream",
     "text": [
      "Fold: 0, Model: lf_lr=.01_ncomp=20\n"
     ]
    },
    {
     "data": {
      "application/vnd.jupyter.widget-view+json": {
       "model_id": "3b32430b801a46bd9a5d5001811f08a3",
       "version_major": 2,
       "version_minor": 0
      },
      "text/plain": [
       "Recoms for users:   0%|          | 0/11970 [00:00<?, ?it/s]"
      ]
     },
     "metadata": {},
     "output_type": "display_data"
    },
    {
     "name": "stdout",
     "output_type": "stream",
     "text": [
      "Fold: 0, Model: lf_lr=.01_ncomp=40\n"
     ]
    },
    {
     "data": {
      "application/vnd.jupyter.widget-view+json": {
       "model_id": "28e5cba02cc84260bb3cd430645cf47b",
       "version_major": 2,
       "version_minor": 0
      },
      "text/plain": [
       "Recoms for users:   0%|          | 0/11970 [00:00<?, ?it/s]"
      ]
     },
     "metadata": {},
     "output_type": "display_data"
    },
    {
     "name": "stdout",
     "output_type": "stream",
     "text": [
      "Fold: 0, Model: lf_lr=.01_ncomp=100\n"
     ]
    },
    {
     "data": {
      "application/vnd.jupyter.widget-view+json": {
       "model_id": "67ae77f7e59a4b7b8a9b2d95646a2ab6",
       "version_major": 2,
       "version_minor": 0
      },
      "text/plain": [
       "Recoms for users:   0%|          | 0/11970 [00:00<?, ?it/s]"
      ]
     },
     "metadata": {},
     "output_type": "display_data"
    },
    {
     "name": "stdout",
     "output_type": "stream",
     "text": [
      "Fold: 0, Model: lf_loss=bpr\n"
     ]
    },
    {
     "data": {
      "application/vnd.jupyter.widget-view+json": {
       "model_id": "1a4f299cc6314b4281aa6d4c38ace243",
       "version_major": 2,
       "version_minor": 0
      },
      "text/plain": [
       "Recoms for users:   0%|          | 0/11970 [00:00<?, ?it/s]"
      ]
     },
     "metadata": {},
     "output_type": "display_data"
    },
    {
     "name": "stdout",
     "output_type": "stream",
     "text": [
      "Fold: 0, Model: lf_max_sampled=20\n"
     ]
    },
    {
     "data": {
      "application/vnd.jupyter.widget-view+json": {
       "model_id": "98aaa931d23e4eb1b83217bd946bdd36",
       "version_major": 2,
       "version_minor": 0
      },
      "text/plain": [
       "Recoms for users:   0%|          | 0/11970 [00:00<?, ?it/s]"
      ]
     },
     "metadata": {},
     "output_type": "display_data"
    },
    {
     "name": "stdout",
     "output_type": "stream",
     "text": [
      "Fold: 0, Model: als_basic\n"
     ]
    },
    {
     "data": {
      "application/vnd.jupyter.widget-view+json": {
       "model_id": "a3f1f8b7e75f489c806a498f72588731",
       "version_major": 2,
       "version_minor": 0
      },
      "text/plain": [
       "  0%|          | 0/15 [00:00<?, ?it/s]"
      ]
     },
     "metadata": {},
     "output_type": "display_data"
    },
    {
     "data": {
      "application/vnd.jupyter.widget-view+json": {
       "model_id": "72ba075eaa1042ffb77e1dc17d9c5632",
       "version_major": 2,
       "version_minor": 0
      },
      "text/plain": [
       "  0%|          | 0/33506 [00:00<?, ?it/s]"
      ]
     },
     "metadata": {},
     "output_type": "display_data"
    },
    {
     "name": "stdout",
     "output_type": "stream",
     "text": [
      "Fold: 0, Model: als_factors=10\n"
     ]
    },
    {
     "data": {
      "application/vnd.jupyter.widget-view+json": {
       "model_id": "d788f1d113f345b4b27bde624d1ea9c4",
       "version_major": 2,
       "version_minor": 0
      },
      "text/plain": [
       "  0%|          | 0/15 [00:00<?, ?it/s]"
      ]
     },
     "metadata": {},
     "output_type": "display_data"
    },
    {
     "data": {
      "application/vnd.jupyter.widget-view+json": {
       "model_id": "a8cb3902164f4f058d02d466cc1a886a",
       "version_major": 2,
       "version_minor": 0
      },
      "text/plain": [
       "  0%|          | 0/33506 [00:00<?, ?it/s]"
      ]
     },
     "metadata": {},
     "output_type": "display_data"
    },
    {
     "name": "stdout",
     "output_type": "stream",
     "text": [
      "Fold: 0, Model: als_factors=20\n"
     ]
    },
    {
     "data": {
      "application/vnd.jupyter.widget-view+json": {
       "model_id": "5e13222fdf4547c999c155b7c8e5b762",
       "version_major": 2,
       "version_minor": 0
      },
      "text/plain": [
       "  0%|          | 0/15 [00:00<?, ?it/s]"
      ]
     },
     "metadata": {},
     "output_type": "display_data"
    },
    {
     "data": {
      "application/vnd.jupyter.widget-view+json": {
       "model_id": "66b2b406d9a446e49fa73be936d84fc3",
       "version_major": 2,
       "version_minor": 0
      },
      "text/plain": [
       "  0%|          | 0/33506 [00:00<?, ?it/s]"
      ]
     },
     "metadata": {},
     "output_type": "display_data"
    },
    {
     "name": "stdout",
     "output_type": "stream",
     "text": [
      "Fold: 0, Model: als_factors=40\n"
     ]
    },
    {
     "data": {
      "application/vnd.jupyter.widget-view+json": {
       "model_id": "d1246e8185de4572a747191efbb1567a",
       "version_major": 2,
       "version_minor": 0
      },
      "text/plain": [
       "  0%|          | 0/15 [00:00<?, ?it/s]"
      ]
     },
     "metadata": {},
     "output_type": "display_data"
    },
    {
     "data": {
      "application/vnd.jupyter.widget-view+json": {
       "model_id": "7bd7e6ac852446b4acf64646e5a853c8",
       "version_major": 2,
       "version_minor": 0
      },
      "text/plain": [
       "  0%|          | 0/33506 [00:00<?, ?it/s]"
      ]
     },
     "metadata": {},
     "output_type": "display_data"
    },
    {
     "name": "stdout",
     "output_type": "stream",
     "text": [
      "Fold: 0, Model: als_regularization=1e-5\n"
     ]
    },
    {
     "data": {
      "application/vnd.jupyter.widget-view+json": {
       "model_id": "15bb554d0fb849209686cdf45937cb9d",
       "version_major": 2,
       "version_minor": 0
      },
      "text/plain": [
       "  0%|          | 0/15 [00:00<?, ?it/s]"
      ]
     },
     "metadata": {},
     "output_type": "display_data"
    },
    {
     "data": {
      "application/vnd.jupyter.widget-view+json": {
       "model_id": "aa71516b33594d75aa9c3d719373eb0d",
       "version_major": 2,
       "version_minor": 0
      },
      "text/plain": [
       "  0%|          | 0/33506 [00:00<?, ?it/s]"
      ]
     },
     "metadata": {},
     "output_type": "display_data"
    },
    {
     "name": "stdout",
     "output_type": "stream",
     "text": [
      "Fold: 0, Model: als_regularization=1e-3\n"
     ]
    },
    {
     "data": {
      "application/vnd.jupyter.widget-view+json": {
       "model_id": "977c0b4816a1461193aa60cabc88bc14",
       "version_major": 2,
       "version_minor": 0
      },
      "text/plain": [
       "  0%|          | 0/15 [00:00<?, ?it/s]"
      ]
     },
     "metadata": {},
     "output_type": "display_data"
    },
    {
     "data": {
      "application/vnd.jupyter.widget-view+json": {
       "model_id": "5786d82595d541ed83f5a96943600e65",
       "version_major": 2,
       "version_minor": 0
      },
      "text/plain": [
       "  0%|          | 0/33506 [00:00<?, ?it/s]"
      ]
     },
     "metadata": {},
     "output_type": "display_data"
    },
    {
     "name": "stdout",
     "output_type": "stream",
     "text": [
      "Fold: 0, Model: als_regularization=1\n"
     ]
    },
    {
     "data": {
      "application/vnd.jupyter.widget-view+json": {
       "model_id": "85dcbe6f2a434cea808eee5eddf70143",
       "version_major": 2,
       "version_minor": 0
      },
      "text/plain": [
       "  0%|          | 0/15 [00:00<?, ?it/s]"
      ]
     },
     "metadata": {},
     "output_type": "display_data"
    },
    {
     "data": {
      "application/vnd.jupyter.widget-view+json": {
       "model_id": "93bd0aea8daa4d39a63836ca9d281b33",
       "version_major": 2,
       "version_minor": 0
      },
      "text/plain": [
       "  0%|          | 0/33506 [00:00<?, ?it/s]"
      ]
     },
     "metadata": {},
     "output_type": "display_data"
    },
    {
     "name": "stdout",
     "output_type": "stream",
     "text": [
      "Fold: 0, Model: als_iterations=10\n"
     ]
    },
    {
     "data": {
      "application/vnd.jupyter.widget-view+json": {
       "model_id": "3b42e55474cd41a180550f7fa5c69a4f",
       "version_major": 2,
       "version_minor": 0
      },
      "text/plain": [
       "  0%|          | 0/10 [00:00<?, ?it/s]"
      ]
     },
     "metadata": {},
     "output_type": "display_data"
    },
    {
     "data": {
      "application/vnd.jupyter.widget-view+json": {
       "model_id": "3f5355abfe744576b924483323434eb2",
       "version_major": 2,
       "version_minor": 0
      },
      "text/plain": [
       "  0%|          | 0/33506 [00:00<?, ?it/s]"
      ]
     },
     "metadata": {},
     "output_type": "display_data"
    },
    {
     "name": "stdout",
     "output_type": "stream",
     "text": [
      "Fold: 0, Model: als_iterations=30\n"
     ]
    },
    {
     "data": {
      "application/vnd.jupyter.widget-view+json": {
       "model_id": "e671c6e62ce845919f8ba3ec7f724447",
       "version_major": 2,
       "version_minor": 0
      },
      "text/plain": [
       "  0%|          | 0/30 [00:00<?, ?it/s]"
      ]
     },
     "metadata": {},
     "output_type": "display_data"
    },
    {
     "data": {
      "application/vnd.jupyter.widget-view+json": {
       "model_id": "329b0ace3cd745989cc1961855db6de2",
       "version_major": 2,
       "version_minor": 0
      },
      "text/plain": [
       "  0%|          | 0/33506 [00:00<?, ?it/s]"
      ]
     },
     "metadata": {},
     "output_type": "display_data"
    },
    {
     "data": {
      "application/vnd.jupyter.widget-view+json": {
       "model_id": "15a40c547fac4fd2bf02aff3e17f9d82",
       "version_major": 2,
       "version_minor": 0
      },
      "text/plain": [
       "Models:   0%|          | 0/15 [00:00<?, ?it/s]"
      ]
     },
     "metadata": {},
     "output_type": "display_data"
    },
    {
     "name": "stdout",
     "output_type": "stream",
     "text": [
      "Fold: 1, Model: lf_basic\n"
     ]
    },
    {
     "data": {
      "application/vnd.jupyter.widget-view+json": {
       "model_id": "b15c8d0370fc46c4a16f7bc4ccbd69da",
       "version_major": 2,
       "version_minor": 0
      },
      "text/plain": [
       "Recoms for users:   0%|          | 0/21815 [00:00<?, ?it/s]"
      ]
     },
     "metadata": {},
     "output_type": "display_data"
    },
    {
     "name": "stdout",
     "output_type": "stream",
     "text": [
      "Fold: 1, Model: lf_lr=.01_ncomp=20\n"
     ]
    },
    {
     "data": {
      "application/vnd.jupyter.widget-view+json": {
       "model_id": "ee1dcbec46e346f49cadd1eb1a3df441",
       "version_major": 2,
       "version_minor": 0
      },
      "text/plain": [
       "Recoms for users:   0%|          | 0/21815 [00:00<?, ?it/s]"
      ]
     },
     "metadata": {},
     "output_type": "display_data"
    },
    {
     "name": "stdout",
     "output_type": "stream",
     "text": [
      "Fold: 1, Model: lf_lr=.01_ncomp=40\n"
     ]
    },
    {
     "data": {
      "application/vnd.jupyter.widget-view+json": {
       "model_id": "79be4f2ccd914860a3d9cbb42f108222",
       "version_major": 2,
       "version_minor": 0
      },
      "text/plain": [
       "Recoms for users:   0%|          | 0/21815 [00:00<?, ?it/s]"
      ]
     },
     "metadata": {},
     "output_type": "display_data"
    },
    {
     "name": "stdout",
     "output_type": "stream",
     "text": [
      "Fold: 1, Model: lf_lr=.01_ncomp=100\n"
     ]
    },
    {
     "data": {
      "application/vnd.jupyter.widget-view+json": {
       "model_id": "dc848a3922134ff8b79a6701f3f1d46d",
       "version_major": 2,
       "version_minor": 0
      },
      "text/plain": [
       "Recoms for users:   0%|          | 0/21815 [00:00<?, ?it/s]"
      ]
     },
     "metadata": {},
     "output_type": "display_data"
    },
    {
     "name": "stdout",
     "output_type": "stream",
     "text": [
      "Fold: 1, Model: lf_loss=bpr\n"
     ]
    },
    {
     "data": {
      "application/vnd.jupyter.widget-view+json": {
       "model_id": "29e693ef0e3440f8adbc57ed7ff92cb4",
       "version_major": 2,
       "version_minor": 0
      },
      "text/plain": [
       "Recoms for users:   0%|          | 0/21815 [00:00<?, ?it/s]"
      ]
     },
     "metadata": {},
     "output_type": "display_data"
    },
    {
     "name": "stdout",
     "output_type": "stream",
     "text": [
      "Fold: 1, Model: lf_max_sampled=20\n"
     ]
    },
    {
     "data": {
      "application/vnd.jupyter.widget-view+json": {
       "model_id": "9d2494c3d93d4fcb980f687e6cfe4476",
       "version_major": 2,
       "version_minor": 0
      },
      "text/plain": [
       "Recoms for users:   0%|          | 0/21815 [00:00<?, ?it/s]"
      ]
     },
     "metadata": {},
     "output_type": "display_data"
    },
    {
     "name": "stdout",
     "output_type": "stream",
     "text": [
      "Fold: 1, Model: als_basic\n"
     ]
    },
    {
     "data": {
      "application/vnd.jupyter.widget-view+json": {
       "model_id": "fc6754a01445450fbf8549e44174800e",
       "version_major": 2,
       "version_minor": 0
      },
      "text/plain": [
       "  0%|          | 0/15 [00:00<?, ?it/s]"
      ]
     },
     "metadata": {},
     "output_type": "display_data"
    },
    {
     "data": {
      "application/vnd.jupyter.widget-view+json": {
       "model_id": "0e00e12d7bc44c1c8f39657d0edcad42",
       "version_major": 2,
       "version_minor": 0
      },
      "text/plain": [
       "  0%|          | 0/80955 [00:00<?, ?it/s]"
      ]
     },
     "metadata": {},
     "output_type": "display_data"
    },
    {
     "name": "stdout",
     "output_type": "stream",
     "text": [
      "Fold: 1, Model: als_factors=10\n"
     ]
    },
    {
     "data": {
      "application/vnd.jupyter.widget-view+json": {
       "model_id": "fa91522f507943e7b2340e1719633b44",
       "version_major": 2,
       "version_minor": 0
      },
      "text/plain": [
       "  0%|          | 0/15 [00:00<?, ?it/s]"
      ]
     },
     "metadata": {},
     "output_type": "display_data"
    },
    {
     "data": {
      "application/vnd.jupyter.widget-view+json": {
       "model_id": "2c5d3e91793c432da0833b9bb58a4538",
       "version_major": 2,
       "version_minor": 0
      },
      "text/plain": [
       "  0%|          | 0/80955 [00:00<?, ?it/s]"
      ]
     },
     "metadata": {},
     "output_type": "display_data"
    },
    {
     "name": "stdout",
     "output_type": "stream",
     "text": [
      "Fold: 1, Model: als_factors=20\n"
     ]
    },
    {
     "data": {
      "application/vnd.jupyter.widget-view+json": {
       "model_id": "9f60dafd262744d6ba5955624e360de5",
       "version_major": 2,
       "version_minor": 0
      },
      "text/plain": [
       "  0%|          | 0/15 [00:00<?, ?it/s]"
      ]
     },
     "metadata": {},
     "output_type": "display_data"
    },
    {
     "data": {
      "application/vnd.jupyter.widget-view+json": {
       "model_id": "a06f84388d86496e85f82fdc8056c436",
       "version_major": 2,
       "version_minor": 0
      },
      "text/plain": [
       "  0%|          | 0/80955 [00:00<?, ?it/s]"
      ]
     },
     "metadata": {},
     "output_type": "display_data"
    },
    {
     "name": "stdout",
     "output_type": "stream",
     "text": [
      "Fold: 1, Model: als_factors=40\n"
     ]
    },
    {
     "data": {
      "application/vnd.jupyter.widget-view+json": {
       "model_id": "a16bf50ad84245b4b41438dea5d77c68",
       "version_major": 2,
       "version_minor": 0
      },
      "text/plain": [
       "  0%|          | 0/15 [00:00<?, ?it/s]"
      ]
     },
     "metadata": {},
     "output_type": "display_data"
    },
    {
     "data": {
      "application/vnd.jupyter.widget-view+json": {
       "model_id": "a52d00f79e9d4ee2968b448cf6fb40bf",
       "version_major": 2,
       "version_minor": 0
      },
      "text/plain": [
       "  0%|          | 0/80955 [00:00<?, ?it/s]"
      ]
     },
     "metadata": {},
     "output_type": "display_data"
    },
    {
     "name": "stdout",
     "output_type": "stream",
     "text": [
      "Fold: 1, Model: als_regularization=1e-5\n"
     ]
    },
    {
     "data": {
      "application/vnd.jupyter.widget-view+json": {
       "model_id": "4816ba064f18424eadeb69e918c928be",
       "version_major": 2,
       "version_minor": 0
      },
      "text/plain": [
       "  0%|          | 0/15 [00:00<?, ?it/s]"
      ]
     },
     "metadata": {},
     "output_type": "display_data"
    },
    {
     "data": {
      "application/vnd.jupyter.widget-view+json": {
       "model_id": "5ae10b327a6449d3b50832cdd07ab719",
       "version_major": 2,
       "version_minor": 0
      },
      "text/plain": [
       "  0%|          | 0/80955 [00:00<?, ?it/s]"
      ]
     },
     "metadata": {},
     "output_type": "display_data"
    },
    {
     "name": "stdout",
     "output_type": "stream",
     "text": [
      "Fold: 1, Model: als_regularization=1e-3\n"
     ]
    },
    {
     "data": {
      "application/vnd.jupyter.widget-view+json": {
       "model_id": "43fac39be16049348f95b4b6ba3bd65f",
       "version_major": 2,
       "version_minor": 0
      },
      "text/plain": [
       "  0%|          | 0/15 [00:00<?, ?it/s]"
      ]
     },
     "metadata": {},
     "output_type": "display_data"
    },
    {
     "data": {
      "application/vnd.jupyter.widget-view+json": {
       "model_id": "168e3638b9414da59fc2116fac836d10",
       "version_major": 2,
       "version_minor": 0
      },
      "text/plain": [
       "  0%|          | 0/80955 [00:00<?, ?it/s]"
      ]
     },
     "metadata": {},
     "output_type": "display_data"
    },
    {
     "name": "stdout",
     "output_type": "stream",
     "text": [
      "Fold: 1, Model: als_regularization=1\n"
     ]
    },
    {
     "data": {
      "application/vnd.jupyter.widget-view+json": {
       "model_id": "195c3e142eb74d2698d4692bd46317d4",
       "version_major": 2,
       "version_minor": 0
      },
      "text/plain": [
       "  0%|          | 0/15 [00:00<?, ?it/s]"
      ]
     },
     "metadata": {},
     "output_type": "display_data"
    },
    {
     "data": {
      "application/vnd.jupyter.widget-view+json": {
       "model_id": "3bff1fe4586a41c69e1ffeff532eda28",
       "version_major": 2,
       "version_minor": 0
      },
      "text/plain": [
       "  0%|          | 0/80955 [00:00<?, ?it/s]"
      ]
     },
     "metadata": {},
     "output_type": "display_data"
    },
    {
     "name": "stdout",
     "output_type": "stream",
     "text": [
      "Fold: 1, Model: als_iterations=10\n"
     ]
    },
    {
     "data": {
      "application/vnd.jupyter.widget-view+json": {
       "model_id": "7f420c591cd04887a7effacb1f51d30a",
       "version_major": 2,
       "version_minor": 0
      },
      "text/plain": [
       "  0%|          | 0/10 [00:00<?, ?it/s]"
      ]
     },
     "metadata": {},
     "output_type": "display_data"
    },
    {
     "data": {
      "application/vnd.jupyter.widget-view+json": {
       "model_id": "311eecca4b114e99b9176534ad559f71",
       "version_major": 2,
       "version_minor": 0
      },
      "text/plain": [
       "  0%|          | 0/80955 [00:00<?, ?it/s]"
      ]
     },
     "metadata": {},
     "output_type": "display_data"
    },
    {
     "name": "stdout",
     "output_type": "stream",
     "text": [
      "Fold: 1, Model: als_iterations=30\n"
     ]
    },
    {
     "data": {
      "application/vnd.jupyter.widget-view+json": {
       "model_id": "928c3fef87a04dab9c617d950d429188",
       "version_major": 2,
       "version_minor": 0
      },
      "text/plain": [
       "  0%|          | 0/30 [00:00<?, ?it/s]"
      ]
     },
     "metadata": {},
     "output_type": "display_data"
    },
    {
     "data": {
      "application/vnd.jupyter.widget-view+json": {
       "model_id": "c9d8640f31ff48e2913b9d5f1a80e52a",
       "version_major": 2,
       "version_minor": 0
      },
      "text/plain": [
       "  0%|          | 0/80955 [00:00<?, ?it/s]"
      ]
     },
     "metadata": {},
     "output_type": "display_data"
    },
    {
     "data": {
      "application/vnd.jupyter.widget-view+json": {
       "model_id": "68c85f2e2f164134a17cbd1abdbc89c6",
       "version_major": 2,
       "version_minor": 0
      },
      "text/plain": [
       "Models:   0%|          | 0/15 [00:00<?, ?it/s]"
      ]
     },
     "metadata": {},
     "output_type": "display_data"
    },
    {
     "name": "stdout",
     "output_type": "stream",
     "text": [
      "Fold: 2, Model: lf_basic\n"
     ]
    },
    {
     "data": {
      "application/vnd.jupyter.widget-view+json": {
       "model_id": "023f1673c527456e9f3f7c0ccc7517bd",
       "version_major": 2,
       "version_minor": 0
      },
      "text/plain": [
       "Recoms for users:   0%|          | 0/27651 [00:00<?, ?it/s]"
      ]
     },
     "metadata": {},
     "output_type": "display_data"
    },
    {
     "name": "stdout",
     "output_type": "stream",
     "text": [
      "Fold: 2, Model: lf_lr=.01_ncomp=20\n"
     ]
    },
    {
     "data": {
      "application/vnd.jupyter.widget-view+json": {
       "model_id": "fe7b15c7c89d4c29a074270e22d61db3",
       "version_major": 2,
       "version_minor": 0
      },
      "text/plain": [
       "Recoms for users:   0%|          | 0/27651 [00:00<?, ?it/s]"
      ]
     },
     "metadata": {},
     "output_type": "display_data"
    },
    {
     "name": "stdout",
     "output_type": "stream",
     "text": [
      "Fold: 2, Model: lf_lr=.01_ncomp=40\n"
     ]
    },
    {
     "data": {
      "application/vnd.jupyter.widget-view+json": {
       "model_id": "47951968fcb84c10ba9739afae44fdb5",
       "version_major": 2,
       "version_minor": 0
      },
      "text/plain": [
       "Recoms for users:   0%|          | 0/27651 [00:00<?, ?it/s]"
      ]
     },
     "metadata": {},
     "output_type": "display_data"
    },
    {
     "name": "stdout",
     "output_type": "stream",
     "text": [
      "Fold: 2, Model: lf_lr=.01_ncomp=100\n"
     ]
    },
    {
     "data": {
      "application/vnd.jupyter.widget-view+json": {
       "model_id": "340d8195426040a49e6cfd79b5d1abda",
       "version_major": 2,
       "version_minor": 0
      },
      "text/plain": [
       "Recoms for users:   0%|          | 0/27651 [00:00<?, ?it/s]"
      ]
     },
     "metadata": {},
     "output_type": "display_data"
    },
    {
     "name": "stdout",
     "output_type": "stream",
     "text": [
      "Fold: 2, Model: lf_loss=bpr\n"
     ]
    },
    {
     "data": {
      "application/vnd.jupyter.widget-view+json": {
       "model_id": "a6afce04a1024e2a93dd2bf481112f56",
       "version_major": 2,
       "version_minor": 0
      },
      "text/plain": [
       "Recoms for users:   0%|          | 0/27651 [00:00<?, ?it/s]"
      ]
     },
     "metadata": {},
     "output_type": "display_data"
    },
    {
     "name": "stdout",
     "output_type": "stream",
     "text": [
      "Fold: 2, Model: lf_max_sampled=20\n"
     ]
    },
    {
     "data": {
      "application/vnd.jupyter.widget-view+json": {
       "model_id": "310b628b11c243998b6957e7fa299fc1",
       "version_major": 2,
       "version_minor": 0
      },
      "text/plain": [
       "Recoms for users:   0%|          | 0/27651 [00:00<?, ?it/s]"
      ]
     },
     "metadata": {},
     "output_type": "display_data"
    },
    {
     "name": "stdout",
     "output_type": "stream",
     "text": [
      "Fold: 2, Model: als_basic\n"
     ]
    },
    {
     "data": {
      "application/vnd.jupyter.widget-view+json": {
       "model_id": "4b76d9b9410a467180e8dea6db6473a7",
       "version_major": 2,
       "version_minor": 0
      },
      "text/plain": [
       "  0%|          | 0/15 [00:00<?, ?it/s]"
      ]
     },
     "metadata": {},
     "output_type": "display_data"
    },
    {
     "data": {
      "application/vnd.jupyter.widget-view+json": {
       "model_id": "22ce59539bff46ca802253de1ad909e5",
       "version_major": 2,
       "version_minor": 0
      },
      "text/plain": [
       "  0%|          | 0/120493 [00:00<?, ?it/s]"
      ]
     },
     "metadata": {},
     "output_type": "display_data"
    },
    {
     "name": "stdout",
     "output_type": "stream",
     "text": [
      "Fold: 2, Model: als_factors=10\n"
     ]
    },
    {
     "data": {
      "application/vnd.jupyter.widget-view+json": {
       "model_id": "9c4218834d6f4e9e949a7d82b7baf4b6",
       "version_major": 2,
       "version_minor": 0
      },
      "text/plain": [
       "  0%|          | 0/15 [00:00<?, ?it/s]"
      ]
     },
     "metadata": {},
     "output_type": "display_data"
    },
    {
     "data": {
      "application/vnd.jupyter.widget-view+json": {
       "model_id": "24bebb9c28e24368bc0aa70a3bced4eb",
       "version_major": 2,
       "version_minor": 0
      },
      "text/plain": [
       "  0%|          | 0/120493 [00:00<?, ?it/s]"
      ]
     },
     "metadata": {},
     "output_type": "display_data"
    },
    {
     "name": "stdout",
     "output_type": "stream",
     "text": [
      "Fold: 2, Model: als_factors=20\n"
     ]
    },
    {
     "data": {
      "application/vnd.jupyter.widget-view+json": {
       "model_id": "3813999af17a40c48c995fc86fc0b6b1",
       "version_major": 2,
       "version_minor": 0
      },
      "text/plain": [
       "  0%|          | 0/15 [00:00<?, ?it/s]"
      ]
     },
     "metadata": {},
     "output_type": "display_data"
    },
    {
     "data": {
      "application/vnd.jupyter.widget-view+json": {
       "model_id": "fdfe7fd6dfea45acba51f62d2c450218",
       "version_major": 2,
       "version_minor": 0
      },
      "text/plain": [
       "  0%|          | 0/120493 [00:00<?, ?it/s]"
      ]
     },
     "metadata": {},
     "output_type": "display_data"
    },
    {
     "name": "stdout",
     "output_type": "stream",
     "text": [
      "Fold: 2, Model: als_factors=40\n"
     ]
    },
    {
     "data": {
      "application/vnd.jupyter.widget-view+json": {
       "model_id": "691fcaccf73d43eeb50d1c36ac4dcf1c",
       "version_major": 2,
       "version_minor": 0
      },
      "text/plain": [
       "  0%|          | 0/15 [00:00<?, ?it/s]"
      ]
     },
     "metadata": {},
     "output_type": "display_data"
    },
    {
     "data": {
      "application/vnd.jupyter.widget-view+json": {
       "model_id": "6e276acba7564366b27016c5bca11a2d",
       "version_major": 2,
       "version_minor": 0
      },
      "text/plain": [
       "  0%|          | 0/120493 [00:00<?, ?it/s]"
      ]
     },
     "metadata": {},
     "output_type": "display_data"
    },
    {
     "name": "stdout",
     "output_type": "stream",
     "text": [
      "Fold: 2, Model: als_regularization=1e-5\n"
     ]
    },
    {
     "data": {
      "application/vnd.jupyter.widget-view+json": {
       "model_id": "6ee6acb426ff4fbf8bd4402b8e332dca",
       "version_major": 2,
       "version_minor": 0
      },
      "text/plain": [
       "  0%|          | 0/15 [00:00<?, ?it/s]"
      ]
     },
     "metadata": {},
     "output_type": "display_data"
    },
    {
     "data": {
      "application/vnd.jupyter.widget-view+json": {
       "model_id": "08b91bfeb5394bb2b86259de537556f8",
       "version_major": 2,
       "version_minor": 0
      },
      "text/plain": [
       "  0%|          | 0/120493 [00:00<?, ?it/s]"
      ]
     },
     "metadata": {},
     "output_type": "display_data"
    },
    {
     "name": "stdout",
     "output_type": "stream",
     "text": [
      "Fold: 2, Model: als_regularization=1e-3\n"
     ]
    },
    {
     "data": {
      "application/vnd.jupyter.widget-view+json": {
       "model_id": "19eca902d58e4a63a5b53a3f3a51ad95",
       "version_major": 2,
       "version_minor": 0
      },
      "text/plain": [
       "  0%|          | 0/15 [00:00<?, ?it/s]"
      ]
     },
     "metadata": {},
     "output_type": "display_data"
    },
    {
     "data": {
      "application/vnd.jupyter.widget-view+json": {
       "model_id": "e001949d26e949f88638d3528e44f332",
       "version_major": 2,
       "version_minor": 0
      },
      "text/plain": [
       "  0%|          | 0/120493 [00:00<?, ?it/s]"
      ]
     },
     "metadata": {},
     "output_type": "display_data"
    },
    {
     "name": "stdout",
     "output_type": "stream",
     "text": [
      "Fold: 2, Model: als_regularization=1\n"
     ]
    },
    {
     "data": {
      "application/vnd.jupyter.widget-view+json": {
       "model_id": "df5b3e6d2d154826b6831a50ebb8efc8",
       "version_major": 2,
       "version_minor": 0
      },
      "text/plain": [
       "  0%|          | 0/15 [00:00<?, ?it/s]"
      ]
     },
     "metadata": {},
     "output_type": "display_data"
    },
    {
     "data": {
      "application/vnd.jupyter.widget-view+json": {
       "model_id": "ed20caa595dc415f8e545ae112d594ef",
       "version_major": 2,
       "version_minor": 0
      },
      "text/plain": [
       "  0%|          | 0/120493 [00:00<?, ?it/s]"
      ]
     },
     "metadata": {},
     "output_type": "display_data"
    },
    {
     "name": "stdout",
     "output_type": "stream",
     "text": [
      "Fold: 2, Model: als_iterations=10\n"
     ]
    },
    {
     "data": {
      "application/vnd.jupyter.widget-view+json": {
       "model_id": "e4a861773ba74d958e9ac468214592b2",
       "version_major": 2,
       "version_minor": 0
      },
      "text/plain": [
       "  0%|          | 0/10 [00:00<?, ?it/s]"
      ]
     },
     "metadata": {},
     "output_type": "display_data"
    },
    {
     "data": {
      "application/vnd.jupyter.widget-view+json": {
       "model_id": "32ffec66728b450d9428b6b756d06e38",
       "version_major": 2,
       "version_minor": 0
      },
      "text/plain": [
       "  0%|          | 0/120493 [00:00<?, ?it/s]"
      ]
     },
     "metadata": {},
     "output_type": "display_data"
    },
    {
     "name": "stdout",
     "output_type": "stream",
     "text": [
      "Fold: 2, Model: als_iterations=30\n"
     ]
    },
    {
     "data": {
      "application/vnd.jupyter.widget-view+json": {
       "model_id": "ae059807f60341ec9fa313c8da8b78f5",
       "version_major": 2,
       "version_minor": 0
      },
      "text/plain": [
       "  0%|          | 0/30 [00:00<?, ?it/s]"
      ]
     },
     "metadata": {},
     "output_type": "display_data"
    },
    {
     "data": {
      "application/vnd.jupyter.widget-view+json": {
       "model_id": "568576036a3f4745ac70647922c8f002",
       "version_major": 2,
       "version_minor": 0
      },
      "text/plain": [
       "  0%|          | 0/120493 [00:00<?, ?it/s]"
      ]
     },
     "metadata": {},
     "output_type": "display_data"
    },
    {
     "name": "stdout",
     "output_type": "stream",
     "text": [
      "CPU times: user 18min 46s, sys: 2min 1s, total: 20min 47s\n",
      "Wall time: 15min 18s\n"
     ]
    }
   ],
   "source": [
    "%%time\n",
    "df_results = cv.validate(\n",
    "    models=models,\n",
    "    metrics=metrics,\n",
    "    interactions=Interactions(interactions_test), \n",
    "    k_recos=K_RECOS,\n",
    ")"
   ]
  },
  {
   "cell_type": "code",
   "execution_count": null,
   "id": "9b79c3cc-0995-44d3-8b45-a81e71070a3a",
   "metadata": {},
   "outputs": [],
   "source": []
  },
  {
   "cell_type": "code",
   "execution_count": 93,
   "id": "b29f61a1-5941-4d1a-b02c-dae5614d36b1",
   "metadata": {},
   "outputs": [
    {
     "data": {
      "text/html": [
       "<div>\n",
       "<style scoped>\n",
       "    .dataframe tbody tr th:only-of-type {\n",
       "        vertical-align: middle;\n",
       "    }\n",
       "\n",
       "    .dataframe tbody tr th {\n",
       "        vertical-align: top;\n",
       "    }\n",
       "\n",
       "    .dataframe thead tr th {\n",
       "        text-align: left;\n",
       "    }\n",
       "\n",
       "    .dataframe thead tr:last-of-type th {\n",
       "        text-align: right;\n",
       "    }\n",
       "</style>\n",
       "<table border=\"1\" class=\"dataframe\">\n",
       "  <thead>\n",
       "    <tr>\n",
       "      <th></th>\n",
       "      <th colspan=\"2\" halign=\"left\">Recall@10</th>\n",
       "      <th colspan=\"2\" halign=\"left\">MAP@10</th>\n",
       "    </tr>\n",
       "    <tr>\n",
       "      <th></th>\n",
       "      <th>mean</th>\n",
       "      <th>std</th>\n",
       "      <th>mean</th>\n",
       "      <th>std</th>\n",
       "    </tr>\n",
       "    <tr>\n",
       "      <th>model</th>\n",
       "      <th></th>\n",
       "      <th></th>\n",
       "      <th></th>\n",
       "      <th></th>\n",
       "    </tr>\n",
       "  </thead>\n",
       "  <tbody>\n",
       "    <tr>\n",
       "      <th>als_regularization=1</th>\n",
       "      <td>0.08370</td>\n",
       "      <td>0.01434</td>\n",
       "      <td>0.03229</td>\n",
       "      <td>0.00414</td>\n",
       "    </tr>\n",
       "    <tr>\n",
       "      <th>als_iterations=30</th>\n",
       "      <td>0.07861</td>\n",
       "      <td>0.00346</td>\n",
       "      <td>0.02926</td>\n",
       "      <td>0.00201</td>\n",
       "    </tr>\n",
       "    <tr>\n",
       "      <th>als_basic</th>\n",
       "      <td>0.06071</td>\n",
       "      <td>0.00435</td>\n",
       "      <td>0.02206</td>\n",
       "      <td>0.00153</td>\n",
       "    </tr>\n",
       "    <tr>\n",
       "      <th>als_factors=40</th>\n",
       "      <td>0.06068</td>\n",
       "      <td>0.00490</td>\n",
       "      <td>0.02197</td>\n",
       "      <td>0.00191</td>\n",
       "    </tr>\n",
       "    <tr>\n",
       "      <th>als_factors=20</th>\n",
       "      <td>0.06043</td>\n",
       "      <td>0.00028</td>\n",
       "      <td>0.02117</td>\n",
       "      <td>0.00118</td>\n",
       "    </tr>\n",
       "    <tr>\n",
       "      <th>als_regularization=1e-5</th>\n",
       "      <td>0.05255</td>\n",
       "      <td>0.00499</td>\n",
       "      <td>0.02036</td>\n",
       "      <td>0.00068</td>\n",
       "    </tr>\n",
       "    <tr>\n",
       "      <th>als_regularization=1e-3</th>\n",
       "      <td>0.05278</td>\n",
       "      <td>0.00497</td>\n",
       "      <td>0.02028</td>\n",
       "      <td>0.00076</td>\n",
       "    </tr>\n",
       "    <tr>\n",
       "      <th>als_factors=10</th>\n",
       "      <td>0.05916</td>\n",
       "      <td>0.00578</td>\n",
       "      <td>0.01895</td>\n",
       "      <td>0.00085</td>\n",
       "    </tr>\n",
       "    <tr>\n",
       "      <th>als_iterations=10</th>\n",
       "      <td>0.05118</td>\n",
       "      <td>0.00363</td>\n",
       "      <td>0.01850</td>\n",
       "      <td>0.00023</td>\n",
       "    </tr>\n",
       "    <tr>\n",
       "      <th>lf_basic</th>\n",
       "      <td>0.00673</td>\n",
       "      <td>0.00915</td>\n",
       "      <td>0.00180</td>\n",
       "      <td>0.00240</td>\n",
       "    </tr>\n",
       "    <tr>\n",
       "      <th>lf_max_sampled=20</th>\n",
       "      <td>0.00673</td>\n",
       "      <td>0.00915</td>\n",
       "      <td>0.00180</td>\n",
       "      <td>0.00240</td>\n",
       "    </tr>\n",
       "    <tr>\n",
       "      <th>lf_lr=.01_ncomp=40</th>\n",
       "      <td>0.00499</td>\n",
       "      <td>0.00325</td>\n",
       "      <td>0.00133</td>\n",
       "      <td>0.00093</td>\n",
       "    </tr>\n",
       "    <tr>\n",
       "      <th>lf_lr=.01_ncomp=20</th>\n",
       "      <td>0.00368</td>\n",
       "      <td>0.00149</td>\n",
       "      <td>0.00092</td>\n",
       "      <td>0.00032</td>\n",
       "    </tr>\n",
       "    <tr>\n",
       "      <th>lf_lr=.01_ncomp=100</th>\n",
       "      <td>0.00216</td>\n",
       "      <td>0.00153</td>\n",
       "      <td>0.00062</td>\n",
       "      <td>0.00048</td>\n",
       "    </tr>\n",
       "    <tr>\n",
       "      <th>lf_loss=bpr</th>\n",
       "      <td>0.00033</td>\n",
       "      <td>0.00022</td>\n",
       "      <td>0.00009</td>\n",
       "      <td>0.00005</td>\n",
       "    </tr>\n",
       "  </tbody>\n",
       "</table>\n",
       "</div>"
      ],
      "text/plain": [
       "                        Recall@10            MAP@10         \n",
       "                             mean      std     mean      std\n",
       "model                                                       \n",
       "als_regularization=1      0.08370  0.01434  0.03229  0.00414\n",
       "als_iterations=30         0.07861  0.00346  0.02926  0.00201\n",
       "als_basic                 0.06071  0.00435  0.02206  0.00153\n",
       "als_factors=40            0.06068  0.00490  0.02197  0.00191\n",
       "als_factors=20            0.06043  0.00028  0.02117  0.00118\n",
       "als_regularization=1e-5   0.05255  0.00499  0.02036  0.00068\n",
       "als_regularization=1e-3   0.05278  0.00497  0.02028  0.00076\n",
       "als_factors=10            0.05916  0.00578  0.01895  0.00085\n",
       "als_iterations=10         0.05118  0.00363  0.01850  0.00023\n",
       "lf_basic                  0.00673  0.00915  0.00180  0.00240\n",
       "lf_max_sampled=20         0.00673  0.00915  0.00180  0.00240\n",
       "lf_lr=.01_ncomp=40        0.00499  0.00325  0.00133  0.00093\n",
       "lf_lr=.01_ncomp=20        0.00368  0.00149  0.00092  0.00032\n",
       "lf_lr=.01_ncomp=100       0.00216  0.00153  0.00062  0.00048\n",
       "lf_loss=bpr               0.00033  0.00022  0.00009  0.00005"
      ]
     },
     "execution_count": 93,
     "metadata": {},
     "output_type": "execute_result"
    }
   ],
   "source": [
    "# Aggregate metrics by folds and compare models\n",
    "pivot_results = df_results.drop(columns='fold').groupby(['model'], sort=False).agg(['mean', 'std'])\n",
    "pivot_results.round(5).sort_values(by=[('MAP@10', 'mean'), ('Recall@10', 'mean')], ascending=False)"
   ]
  },
  {
   "cell_type": "markdown",
   "id": "9a6b6c7d-4504-4990-aa52-c0c971891f0c",
   "metadata": {},
   "source": [
    "## One more try"
   ]
  },
  {
   "cell_type": "code",
   "execution_count": 73,
   "id": "693d567c-e07c-43dd-b31f-d3c4a70f3087",
   "metadata": {
    "ExecuteTime": {
     "end_time": "2022-11-22T11:56:18.462392Z",
     "start_time": "2022-11-22T11:56:18.450393Z"
    }
   },
   "outputs": [],
   "source": [
    "K_RECOS = 10\n",
    "random_state = 73\n",
    "\n",
    "models = {\n",
    "    'lf_loss=warp': LightFMCustom(loss='warp', random_state=random_state),\n",
    "    'als_best': ALS(regularization=1, iterations=30, random_state=random_state),\n",
    "}\n",
    "\n",
    "metrics = {\n",
    "    \"Recall@10\": Recall(k=K_RECOS),\n",
    "    \"MAP@10\": MAP(k=K_RECOS),\n",
    "}"
   ]
  },
  {
   "cell_type": "code",
   "execution_count": 74,
   "id": "7330d3cf-36f9-422c-8b7e-e777b743a160",
   "metadata": {},
   "outputs": [
    {
     "name": "stdout",
     "output_type": "stream",
     "text": [
      "start_date: 2021-08-10 00:00:00\n",
      "last_date: 2021-08-15 00:00:00\n",
      "periods: 4\n",
      "freq: 2D\n",
      "\n"
     ]
    }
   ],
   "source": [
    "cv = CrossValidator(\n",
    "        last_date,\n",
    "        n_folds = 3,\n",
    "        n_days_per_fold = 2, # так как есть явный недельный цикл\n",
    "        filter_already_seen = True,\n",
    "        filter_cold_items = True,\n",
    "        filter_cold_users = True,\n",
    "    )"
   ]
  },
  {
   "cell_type": "code",
   "execution_count": 75,
   "id": "911d8395-8cfb-42bb-851d-6fd730f027ec",
   "metadata": {
    "collapsed": true,
    "jupyter": {
     "outputs_hidden": true
    },
    "tags": []
   },
   "outputs": [
    {
     "name": "stderr",
     "output_type": "stream",
     "text": [
      "/Users/ml003/miniconda3/envs/recom/lib/python3.8/site-packages/rectools/dataset/interactions.py:57: SettingWithCopyWarning: \n",
      "A value is trying to be set on a copy of a slice from a DataFrame.\n",
      "Try using .loc[row_indexer,col_indexer] = value instead\n",
      "\n",
      "See the caveats in the documentation: https://pandas.pydata.org/pandas-docs/stable/user_guide/indexing.html#returning-a-view-versus-a-copy\n",
      "  df[Columns.Weight] = df[Columns.Weight].astype(float)\n",
      "/Users/ml003/miniconda3/envs/recom/lib/python3.8/site-packages/rectools/dataset/interactions.py:62: SettingWithCopyWarning: \n",
      "A value is trying to be set on a copy of a slice from a DataFrame.\n",
      "Try using .loc[row_indexer,col_indexer] = value instead\n",
      "\n",
      "See the caveats in the documentation: https://pandas.pydata.org/pandas-docs/stable/user_guide/indexing.html#returning-a-view-versus-a-copy\n",
      "  df[Columns.Datetime] = df[Columns.Datetime].astype(\"datetime64[ns]\")\n"
     ]
    },
    {
     "data": {
      "application/vnd.jupyter.widget-view+json": {
       "model_id": "695757daf6b04a549cc1c6fa758a40fc",
       "version_major": 2,
       "version_minor": 0
      },
      "text/plain": [
       "Fold:   0%|          | 0/3 [00:00<?, ?it/s]"
      ]
     },
     "metadata": {},
     "output_type": "display_data"
    },
    {
     "data": {
      "application/vnd.jupyter.widget-view+json": {
       "model_id": "53635d19b42f4fc3af53d92a67dea2f5",
       "version_major": 2,
       "version_minor": 0
      },
      "text/plain": [
       "Models:   0%|          | 0/2 [00:00<?, ?it/s]"
      ]
     },
     "metadata": {},
     "output_type": "display_data"
    },
    {
     "name": "stdout",
     "output_type": "stream",
     "text": [
      "Fold: 0, Model: lf_loss=warp\n"
     ]
    },
    {
     "data": {
      "application/vnd.jupyter.widget-view+json": {
       "model_id": "46b6f854a9534bca816ce6c9a7eeb96d",
       "version_major": 2,
       "version_minor": 0
      },
      "text/plain": [
       "Recoms for users:   0%|          | 0/11970 [00:00<?, ?it/s]"
      ]
     },
     "metadata": {},
     "output_type": "display_data"
    },
    {
     "name": "stdout",
     "output_type": "stream",
     "text": [
      "Fold: 0, Model: als_best\n"
     ]
    },
    {
     "data": {
      "application/vnd.jupyter.widget-view+json": {
       "model_id": "49a4dbc55ead4afdaf322ad09b0486f2",
       "version_major": 2,
       "version_minor": 0
      },
      "text/plain": [
       "  0%|          | 0/30 [00:00<?, ?it/s]"
      ]
     },
     "metadata": {},
     "output_type": "display_data"
    },
    {
     "data": {
      "application/vnd.jupyter.widget-view+json": {
       "model_id": "9f16b9290fb1492391116e648cd079a0",
       "version_major": 2,
       "version_minor": 0
      },
      "text/plain": [
       "  0%|          | 0/33506 [00:00<?, ?it/s]"
      ]
     },
     "metadata": {},
     "output_type": "display_data"
    },
    {
     "data": {
      "application/vnd.jupyter.widget-view+json": {
       "model_id": "39fe84583533462a8ec3f34263d8ce6e",
       "version_major": 2,
       "version_minor": 0
      },
      "text/plain": [
       "Models:   0%|          | 0/2 [00:00<?, ?it/s]"
      ]
     },
     "metadata": {},
     "output_type": "display_data"
    },
    {
     "name": "stdout",
     "output_type": "stream",
     "text": [
      "Fold: 1, Model: lf_loss=warp\n"
     ]
    },
    {
     "data": {
      "application/vnd.jupyter.widget-view+json": {
       "model_id": "ff8caa36850c4f27bf65c53046cf1408",
       "version_major": 2,
       "version_minor": 0
      },
      "text/plain": [
       "Recoms for users:   0%|          | 0/21815 [00:00<?, ?it/s]"
      ]
     },
     "metadata": {},
     "output_type": "display_data"
    },
    {
     "name": "stdout",
     "output_type": "stream",
     "text": [
      "Fold: 1, Model: als_best\n"
     ]
    },
    {
     "data": {
      "application/vnd.jupyter.widget-view+json": {
       "model_id": "d3bdafe4b34f4d309b71df4c6ec92d7e",
       "version_major": 2,
       "version_minor": 0
      },
      "text/plain": [
       "  0%|          | 0/30 [00:00<?, ?it/s]"
      ]
     },
     "metadata": {},
     "output_type": "display_data"
    },
    {
     "data": {
      "application/vnd.jupyter.widget-view+json": {
       "model_id": "125b3a7123074d12a310378cc90d9e20",
       "version_major": 2,
       "version_minor": 0
      },
      "text/plain": [
       "  0%|          | 0/80955 [00:00<?, ?it/s]"
      ]
     },
     "metadata": {},
     "output_type": "display_data"
    },
    {
     "data": {
      "application/vnd.jupyter.widget-view+json": {
       "model_id": "f2892ebca77641aebfeae3ce469bb5f7",
       "version_major": 2,
       "version_minor": 0
      },
      "text/plain": [
       "Models:   0%|          | 0/2 [00:00<?, ?it/s]"
      ]
     },
     "metadata": {},
     "output_type": "display_data"
    },
    {
     "name": "stdout",
     "output_type": "stream",
     "text": [
      "Fold: 2, Model: lf_loss=warp\n"
     ]
    },
    {
     "data": {
      "application/vnd.jupyter.widget-view+json": {
       "model_id": "704981cb35e04d5fb4c87962d0a9534e",
       "version_major": 2,
       "version_minor": 0
      },
      "text/plain": [
       "Recoms for users:   0%|          | 0/27651 [00:00<?, ?it/s]"
      ]
     },
     "metadata": {},
     "output_type": "display_data"
    },
    {
     "name": "stdout",
     "output_type": "stream",
     "text": [
      "Fold: 2, Model: als_best\n"
     ]
    },
    {
     "data": {
      "application/vnd.jupyter.widget-view+json": {
       "model_id": "3fa91f20fb404e5e8fd170a0bc8cf6d0",
       "version_major": 2,
       "version_minor": 0
      },
      "text/plain": [
       "  0%|          | 0/30 [00:00<?, ?it/s]"
      ]
     },
     "metadata": {},
     "output_type": "display_data"
    },
    {
     "data": {
      "application/vnd.jupyter.widget-view+json": {
       "model_id": "b41d2bf15a0542cea15eb1cd7b3cba4d",
       "version_major": 2,
       "version_minor": 0
      },
      "text/plain": [
       "  0%|          | 0/120493 [00:00<?, ?it/s]"
      ]
     },
     "metadata": {},
     "output_type": "display_data"
    },
    {
     "name": "stdout",
     "output_type": "stream",
     "text": [
      "CPU times: user 3min 35s, sys: 22.6 s, total: 3min 58s\n",
      "Wall time: 2min 41s\n"
     ]
    }
   ],
   "source": [
    "%%time\n",
    "df_results_2 = cv.validate(\n",
    "    models=models,\n",
    "    metrics=metrics,\n",
    "    interactions=Interactions(interactions_test), \n",
    "    k_recos=K_RECOS,\n",
    "#     item_features=item_features,\n",
    "#     user_features=user_features,\n",
    "#     cat_user_features=cat_user_features,\n",
    "#     cat_item_features=cat_item_features,   \n",
    ")"
   ]
  },
  {
   "cell_type": "code",
   "execution_count": null,
   "id": "e3482858-f8ea-4e71-9228-1279d6349dc2",
   "metadata": {},
   "outputs": [],
   "source": []
  },
  {
   "cell_type": "code",
   "execution_count": 76,
   "id": "7cc2bce2-81b7-4742-b3fc-8857acf1909f",
   "metadata": {
    "ExecuteTime": {
     "end_time": "2022-11-22T12:14:28.377700Z",
     "start_time": "2022-11-22T12:14:28.350664Z"
    }
   },
   "outputs": [
    {
     "data": {
      "text/html": [
       "<div>\n",
       "<style scoped>\n",
       "    .dataframe tbody tr th:only-of-type {\n",
       "        vertical-align: middle;\n",
       "    }\n",
       "\n",
       "    .dataframe tbody tr th {\n",
       "        vertical-align: top;\n",
       "    }\n",
       "\n",
       "    .dataframe thead th {\n",
       "        text-align: right;\n",
       "    }\n",
       "</style>\n",
       "<table border=\"1\" class=\"dataframe\">\n",
       "  <thead>\n",
       "    <tr style=\"text-align: right;\">\n",
       "      <th></th>\n",
       "      <th>fold</th>\n",
       "      <th>model</th>\n",
       "      <th>Recall@10</th>\n",
       "      <th>MAP@10</th>\n",
       "    </tr>\n",
       "  </thead>\n",
       "  <tbody>\n",
       "    <tr>\n",
       "      <th>0</th>\n",
       "      <td>0</td>\n",
       "      <td>lf_loss=warp</td>\n",
       "      <td>0.134091</td>\n",
       "      <td>0.033415</td>\n",
       "    </tr>\n",
       "    <tr>\n",
       "      <th>1</th>\n",
       "      <td>0</td>\n",
       "      <td>als_best</td>\n",
       "      <td>0.057742</td>\n",
       "      <td>0.025939</td>\n",
       "    </tr>\n",
       "    <tr>\n",
       "      <th>2</th>\n",
       "      <td>1</td>\n",
       "      <td>lf_loss=warp</td>\n",
       "      <td>0.140780</td>\n",
       "      <td>0.034502</td>\n",
       "    </tr>\n",
       "    <tr>\n",
       "      <th>3</th>\n",
       "      <td>1</td>\n",
       "      <td>als_best</td>\n",
       "      <td>0.079990</td>\n",
       "      <td>0.031447</td>\n",
       "    </tr>\n",
       "    <tr>\n",
       "      <th>4</th>\n",
       "      <td>2</td>\n",
       "      <td>lf_loss=warp</td>\n",
       "      <td>0.147015</td>\n",
       "      <td>0.038028</td>\n",
       "    </tr>\n",
       "    <tr>\n",
       "      <th>5</th>\n",
       "      <td>2</td>\n",
       "      <td>als_best</td>\n",
       "      <td>0.085114</td>\n",
       "      <td>0.031088</td>\n",
       "    </tr>\n",
       "  </tbody>\n",
       "</table>\n",
       "</div>"
      ],
      "text/plain": [
       "   fold         model  Recall@10    MAP@10\n",
       "0     0  lf_loss=warp   0.134091  0.033415\n",
       "1     0      als_best   0.057742  0.025939\n",
       "2     1  lf_loss=warp   0.140780  0.034502\n",
       "3     1      als_best   0.079990  0.031447\n",
       "4     2  lf_loss=warp   0.147015  0.038028\n",
       "5     2      als_best   0.085114  0.031088"
      ]
     },
     "execution_count": 76,
     "metadata": {},
     "output_type": "execute_result"
    }
   ],
   "source": [
    "df_results_2"
   ]
  },
  {
   "cell_type": "code",
   "execution_count": null,
   "id": "2837d64e-8d1a-4c7f-bd06-579ee71e08ce",
   "metadata": {},
   "outputs": [],
   "source": []
  },
  {
   "cell_type": "code",
   "execution_count": 77,
   "id": "353f2fd5-d37f-4427-a41b-d82b03e13627",
   "metadata": {
    "ExecuteTime": {
     "end_time": "2022-11-22T12:14:28.408735Z",
     "start_time": "2022-11-22T12:14:28.380705Z"
    }
   },
   "outputs": [
    {
     "data": {
      "text/html": [
       "<div>\n",
       "<style scoped>\n",
       "    .dataframe tbody tr th:only-of-type {\n",
       "        vertical-align: middle;\n",
       "    }\n",
       "\n",
       "    .dataframe tbody tr th {\n",
       "        vertical-align: top;\n",
       "    }\n",
       "\n",
       "    .dataframe thead tr th {\n",
       "        text-align: left;\n",
       "    }\n",
       "\n",
       "    .dataframe thead tr:last-of-type th {\n",
       "        text-align: right;\n",
       "    }\n",
       "</style>\n",
       "<table border=\"1\" class=\"dataframe\">\n",
       "  <thead>\n",
       "    <tr>\n",
       "      <th></th>\n",
       "      <th colspan=\"2\" halign=\"left\">Recall@10</th>\n",
       "      <th colspan=\"2\" halign=\"left\">MAP@10</th>\n",
       "    </tr>\n",
       "    <tr>\n",
       "      <th></th>\n",
       "      <th>mean</th>\n",
       "      <th>std</th>\n",
       "      <th>mean</th>\n",
       "      <th>std</th>\n",
       "    </tr>\n",
       "    <tr>\n",
       "      <th>model</th>\n",
       "      <th></th>\n",
       "      <th></th>\n",
       "      <th></th>\n",
       "      <th></th>\n",
       "    </tr>\n",
       "  </thead>\n",
       "  <tbody>\n",
       "    <tr>\n",
       "      <th>lf_loss=warp</th>\n",
       "      <td>0.14063</td>\n",
       "      <td>0.00646</td>\n",
       "      <td>0.03532</td>\n",
       "      <td>0.00241</td>\n",
       "    </tr>\n",
       "    <tr>\n",
       "      <th>als_best</th>\n",
       "      <td>0.07428</td>\n",
       "      <td>0.01455</td>\n",
       "      <td>0.02949</td>\n",
       "      <td>0.00308</td>\n",
       "    </tr>\n",
       "  </tbody>\n",
       "</table>\n",
       "</div>"
      ],
      "text/plain": [
       "             Recall@10            MAP@10         \n",
       "                  mean      std     mean      std\n",
       "model                                            \n",
       "lf_loss=warp   0.14063  0.00646  0.03532  0.00241\n",
       "als_best       0.07428  0.01455  0.02949  0.00308"
      ]
     },
     "execution_count": 77,
     "metadata": {},
     "output_type": "execute_result"
    }
   ],
   "source": [
    "# Aggregate metrics by folds and compare models\n",
    "pivot_results_2 = df_results_2.drop(columns='fold').groupby(['model'], sort=False).agg(['mean', 'std'])\n",
    "pivot_results_2.round(5).sort_values(by=[('MAP@10', 'mean'), ('Recall@10', 'mean')], ascending=False)"
   ]
  },
  {
   "cell_type": "markdown",
   "id": "8d0a4ffa-dfcd-49ab-9095-911b7245c9c9",
   "metadata": {},
   "source": [
    "ALS улучшить не получилось, а lightFM c warp лоссом лучше всех предыдущих моделей"
   ]
  },
  {
   "cell_type": "markdown",
   "id": "820156df-f933-45ef-9dc9-48b738186b99",
   "metadata": {},
   "source": [
    "# Load sample submission"
   ]
  },
  {
   "cell_type": "code",
   "execution_count": 78,
   "id": "6d76c759-1c14-4821-a409-56b85a89ad81",
   "metadata": {},
   "outputs": [],
   "source": [
    "submission_sample = pd.read_csv('data_full/sample_submission.csv')"
   ]
  },
  {
   "cell_type": "code",
   "execution_count": 81,
   "id": "653ea99c-1b51-4809-93c9-6e52842dc682",
   "metadata": {},
   "outputs": [],
   "source": [
    "cold_users = submission_sample.user_id[~submission_sample.user_id.isin(interactions.user_id)]"
   ]
  },
  {
   "cell_type": "code",
   "execution_count": 82,
   "id": "e67d99e4-b6b7-4361-9116-36aeab2922fb",
   "metadata": {},
   "outputs": [],
   "source": [
    "warm_users = submission_sample.user_id[submission_sample.user_id.isin(interactions.user_id)]"
   ]
  },
  {
   "cell_type": "code",
   "execution_count": 83,
   "id": "66d7aef5-026c-4daa-8b34-68da8460a74d",
   "metadata": {},
   "outputs": [
    {
     "data": {
      "text/plain": [
       "1.0"
      ]
     },
     "execution_count": 83,
     "metadata": {},
     "output_type": "execute_result"
    }
   ],
   "source": [
    "(cold_users.shape[0] + warm_users.shape[0]) / submission_sample.shape[0]"
   ]
  },
  {
   "cell_type": "markdown",
   "id": "d2c76643-2290-4b72-a4c3-651658b99350",
   "metadata": {},
   "source": [
    "# Train final models"
   ]
  },
  {
   "cell_type": "code",
   "execution_count": 84,
   "id": "cd55b159-5acf-47d8-8694-96a4b838bcc8",
   "metadata": {},
   "outputs": [],
   "source": [
    "all_models = {\n",
    "    'lightfm': LightFMCustom(loss='warp', random_state=random_state),\n",
    "    'als': ALS(regularization=1, random_state=random_state),\n",
    "}"
   ]
  },
  {
   "cell_type": "code",
   "execution_count": 86,
   "id": "ec5dc543-fa90-4db7-85a9-cad68fbfb9d5",
   "metadata": {},
   "outputs": [],
   "source": [
    "dataset = Dataset.construct(interactions)"
   ]
  },
  {
   "cell_type": "code",
   "execution_count": 87,
   "id": "50ba01ce-67aa-4916-b89d-98638ada4aa3",
   "metadata": {},
   "outputs": [
    {
     "data": {
      "application/vnd.jupyter.widget-view+json": {
       "model_id": "0d1351e5a805423b94f8f6d997141961",
       "version_major": 2,
       "version_minor": 0
      },
      "text/plain": [
       "  0%|          | 0/2 [00:00<?, ?it/s]"
      ]
     },
     "metadata": {},
     "output_type": "display_data"
    },
    {
     "name": "stdout",
     "output_type": "stream",
     "text": [
      "lightfm\n"
     ]
    },
    {
     "data": {
      "application/vnd.jupyter.widget-view+json": {
       "model_id": "5ead0f31a34d491cbc3f0cb87687a178",
       "version_major": 2,
       "version_minor": 0
      },
      "text/plain": [
       "Recoms for users:   0%|          | 0/128170 [00:00<?, ?it/s]"
      ]
     },
     "metadata": {},
     "output_type": "display_data"
    },
    {
     "name": "stdout",
     "output_type": "stream",
     "text": [
      "als\n"
     ]
    },
    {
     "data": {
      "application/vnd.jupyter.widget-view+json": {
       "model_id": "331fae2b482144b8a01aae26f43750b8",
       "version_major": 2,
       "version_minor": 0
      },
      "text/plain": [
       "  0%|          | 0/15 [00:00<?, ?it/s]"
      ]
     },
     "metadata": {},
     "output_type": "display_data"
    },
    {
     "data": {
      "application/vnd.jupyter.widget-view+json": {
       "model_id": "0cfe209a8b56488794de15db2dfc7e06",
       "version_major": 2,
       "version_minor": 0
      },
      "text/plain": [
       "  0%|          | 0/962179 [00:00<?, ?it/s]"
      ]
     },
     "metadata": {},
     "output_type": "display_data"
    }
   ],
   "source": [
    "recoms = {}\n",
    "for model_name, model in tqdm(all_models.items()):\n",
    "    print(model_name)\n",
    "    model = model.fit(dataset)\n",
    "    recoms[model_name] = model.recommend(warm_users, dataset, K_RECOS, filter_viewed=True)"
   ]
  },
  {
   "cell_type": "markdown",
   "id": "83a9c021-f216-438e-af32-4bc2ec4658aa",
   "metadata": {},
   "source": [
    "# Make submission"
   ]
  },
  {
   "cell_type": "code",
   "execution_count": 88,
   "id": "36c9522a-0d05-4b29-a2ef-572d2d3d13f7",
   "metadata": {},
   "outputs": [],
   "source": [
    "def make_submission(recoms):\n",
    "    most_popular = recoms.item_id.value_counts().index[:10].tolist() # для холодных юзеров\n",
    "    submission = pd.Series(\n",
    "        [most_popular] * submission_sample.shape[0], \n",
    "        index=submission_sample['user_id'],\n",
    "        name='item_id'\n",
    "    )\n",
    "    sub = recoms[['user_id', 'item_id']].groupby('user_id').agg(lambda x: list(x))\n",
    "    submission.loc[sub.index] = sub.item_id\n",
    "    return submission.reset_index()"
   ]
  },
  {
   "cell_type": "code",
   "execution_count": 89,
   "id": "02fb7f99-5815-42a2-aec3-1ddd5211e2dd",
   "metadata": {},
   "outputs": [
    {
     "data": {
      "application/vnd.jupyter.widget-view+json": {
       "model_id": "87704ffa187b44ef82e9e87e54db8a46",
       "version_major": 2,
       "version_minor": 0
      },
      "text/plain": [
       "  0%|          | 0/2 [00:00<?, ?it/s]"
      ]
     },
     "metadata": {},
     "output_type": "display_data"
    }
   ],
   "source": [
    "for model_name, rec in tqdm(recoms.items()):\n",
    "    sub = make_submission(rec)\n",
    "    sub.to_csv(f'submissions/{model_name}.csv', index=False)"
   ]
  },
  {
   "cell_type": "code",
   "execution_count": 216,
   "id": "f4482ea2-240b-4de0-91b3-6146779ef9bf",
   "metadata": {},
   "outputs": [
    {
     "name": "stdout",
     "output_type": "stream",
     "text": [
      "user_id,item_id\n",
      "3,\"[9728, 15297, 10440, 14488, 13865, 12192, 341, 4151, 3734, 512]\"\n",
      "11,\"[9728, 15297, 10440, 14488, 13865, 12192, 341, 4151, 3734, 512]\"\n",
      "29,\"[9728, 15297, 10440, 14488, 13865, 12192, 341, 4151, 3734, 512]\"\n",
      "30,\"[9728, 15297, 10440, 14488, 13865, 12192, 341, 4151, 3734, 512]\"\n"
     ]
    }
   ],
   "source": [
    "! head -5 data_full/sample_submission.csv"
   ]
  },
  {
   "cell_type": "code",
   "execution_count": 90,
   "id": "afcf6afa-02d3-4ac6-bd29-f5bf58d62481",
   "metadata": {},
   "outputs": [
    {
     "name": "stdout",
     "output_type": "stream",
     "text": [
      "user_id,item_id\n",
      "3,\"[7571, 142, 4880, 2657, 3734, 4151, 13865, 15297, 9728, 10440]\"\n",
      "11,\"[12192, 142, 4880, 2657, 3734, 13865, 4151, 9728, 10440, 15297]\"\n",
      "29,\"[9728, 10440, 15297, 13865, 3734, 4151, 2657, 4880, 142, 9996]\"\n",
      "30,\"[12192, 142, 4880, 3734, 2657, 9728, 13865, 4151, 10440, 15297]\"\n"
     ]
    }
   ],
   "source": [
    "! head -5 submissions/lightfm.csv"
   ]
  },
  {
   "cell_type": "code",
   "execution_count": 91,
   "id": "8bd5eee7-9023-464e-bbbd-bbdb57058dd6",
   "metadata": {},
   "outputs": [
    {
     "name": "stdout",
     "output_type": "stream",
     "text": [
      "user_id,item_id\n",
      "3,\"[9817, 15221, 14095, 8486, 8727, 8636, 14431, 1776, 101, 884]\"\n",
      "11,\"[142, 11778, 1844, 14431, 8618, 8636, 4495, 12396, 4151, 14901]\"\n",
      "29,\"[12192, 6809, 4740, 4151, 142, 1844, 13865, 9996, 3734, 9728]\"\n",
      "30,\"[1261, 7160, 125, 3296, 1290, 14899, 6646, 9427, 2043, 561]\"\n"
     ]
    }
   ],
   "source": [
    "! head -5 submissions/als.csv"
   ]
  },
  {
   "cell_type": "code",
   "execution_count": null,
   "id": "11cea3e6-e355-4db7-8173-c1ccb7c13078",
   "metadata": {},
   "outputs": [],
   "source": []
  }
 ],
 "metadata": {
  "kernelspec": {
   "display_name": "Python [conda env:recom]",
   "language": "python",
   "name": "conda-env-recom-py"
  },
  "language_info": {
   "codemirror_mode": {
    "name": "ipython",
    "version": 3
   },
   "file_extension": ".py",
   "mimetype": "text/x-python",
   "name": "python",
   "nbconvert_exporter": "python",
   "pygments_lexer": "ipython3",
   "version": "3.8.15"
  }
 },
 "nbformat": 4,
 "nbformat_minor": 5
}
